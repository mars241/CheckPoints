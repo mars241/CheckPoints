{
  "nbformat": 4,
  "nbformat_minor": 0,
  "metadata": {
    "colab": {
      "provenance": [],
      "include_colab_link": true
    },
    "kernelspec": {
      "name": "python3",
      "display_name": "Python 3"
    },
    "language_info": {
      "name": "python"
    }
  },
  "cells": [
    {
      "cell_type": "markdown",
      "metadata": {
        "id": "view-in-github",
        "colab_type": "text"
      },
      "source": [
        "<a href=\"https://colab.research.google.com/github/mars241/CheckPoints/blob/main/Corr_Mouna_Correction_Checkpoint_1_Algo_3.ipynb\" target=\"_parent\"><img src=\"https://colab.research.google.com/assets/colab-badge.svg\" alt=\"Open In Colab\"/></a>"
      ]
    },
    {
      "cell_type": "markdown",
      "source": [
        "Ecris une fonction *monnaie_a_rendre()* qui prend deux arguments obligatoires :\n",
        "- montant de l'achat : float, supérieur à 0\n",
        "- monnaie de la cliente : integer, supérieur à 0\n",
        "\n",
        "La fonction devra afficher la monnaie à rendre à la cliente en un minimum de billets/pièces.\n",
        "\n",
        "Attention, si la monnaie de la cliente est insuffisante (inférieure à l'achat), il faudra l'indiquer.\n",
        "\n",
        "Exemple :\n",
        "\n",
        "\n",
        "```\n",
        "monnaie_a_rendre(26.57 , 40)\n",
        ">>> Nb billets 10 euros : 1\n",
        ">>> Nb pièces 2 euros : 1\n",
        ">>> Nb pièces 1 euro : 1\n",
        ">>> Nb pièces 20 cents : 2\n",
        ">>> Nb pièces 2 cents : 1\n",
        ">>> Nb pièces 1 cent : 1\n",
        "```"
      ],
      "metadata": {
        "id": "70GhzCi_s3_r"
      }
    },
    {
      "cell_type": "code",
      "source": [
        "# 1. Construire la logique sur un exemple précis, avec montant = 26.57€ et monnaie = 40€\n",
        "# puis modifier les variables montant et monnaie pour tester l'algo dans différents cas de figure\n",
        "\n",
        "# Établir les constantes\n",
        "valeurs = [500, 200, 100, 50, 20, 10, 5, 2, 1, 0.50, 0.20, 0.10, 0.05, 0.02, 0.01]\n",
        "montant = 26.57\n",
        "monnaie = 40\n",
        "\n",
        "# Et la/les valeur/s calculée/s dont on va avoir besoin\n",
        "rendu = monnaie - montant\n",
        "\n",
        "if rendu < 0:\n",
        "  print(\"Solde insuffisant\")\n",
        "else:\n",
        "  print(f\"{rendu}€ à rendre :\")\n",
        "  for valeur in valeurs:\n",
        "    nb_valeur = int(rendu // valeur)    # nb_valeur : nombre de billets ou de pièces à rendre\n",
        "    if nb_valeur >= 1:\n",
        "      rendu = round(rendu - nb_valeur * valeur, 2)      # round 2 obligatoire pour gérer le dernier centime - merci Elena !\n",
        "      print(f\"{nb_valeur} billet/pièce de {valeur} euros\")"
      ],
      "metadata": {
        "colab": {
          "base_uri": "https://localhost:8080/"
        },
        "id": "iOrI1NwLwu3u",
        "outputId": "14eeb95a-18f6-4803-9ef2-5ef9cf916071"
      },
      "execution_count": null,
      "outputs": [
        {
          "output_type": "stream",
          "name": "stdout",
          "text": [
            "13.43€ à rendre :\n",
            "1 billet/pièce de 10 euros\n",
            "1 billet/pièce de 2 euros\n",
            "1 billet/pièce de 1 euros\n",
            "2 billet/pièce de 0.2 euros\n",
            "1 billet/pièce de 0.02 euros\n",
            "1 billet/pièce de 0.01 euros\n"
          ]
        }
      ]
    },
    {
      "cell_type": "code",
      "source": [
        "# 2. Transformer l'algo en fonction\n",
        "# monnaie et montant ne sont plus des constantes, mais des paramètres de la fonction\n",
        "\n",
        "def monnaie_a_rendre(montant, monnaie):\n",
        "  valeurs = [500, 200, 100, 50, 20, 10, 5, 2, 1, 0.50, 0.20, 0.10, 0.05, 0.02, 0.01]\n",
        "  rendu = monnaie - montant\n",
        "  msg = \"\"\n",
        "\n",
        "  if rendu < 0:\n",
        "    msg = \"Solde insuffisant\"\n",
        "    return msg      # return stoppe la fonction\n",
        "\n",
        "  msg += f\"{rendu}€ à rendre :\\n\"     # \\n permet de revenir à la ligne\n",
        "\n",
        "  for valeur in valeurs:\n",
        "    nb_valeur = int(rendu // valeur)\n",
        "    if nb_valeur >= 1:\n",
        "      rendu = round(rendu - nb_valeur * valeur, 2)\n",
        "      msg += f\"{nb_valeur} billet/pièce de {valeur} euros\\n\"\n",
        "  return msg"
      ],
      "metadata": {
        "id": "hAocoYZf6WKm"
      },
      "execution_count": null,
      "outputs": []
    },
    {
      "cell_type": "code",
      "source": [
        "# 3. Tester la fonction dans différents cas de figure\n",
        "\n",
        "print(monnaie_a_rendre(26.57, 40))"
      ],
      "metadata": {
        "colab": {
          "base_uri": "https://localhost:8080/"
        },
        "id": "he-k0aaM615a",
        "outputId": "97726156-caf6-4c07-d0d1-d6aade257fd7"
      },
      "execution_count": null,
      "outputs": [
        {
          "output_type": "stream",
          "name": "stdout",
          "text": [
            "13.43€ à rendre :\n",
            "1 billet/pièce de 10 euros\n",
            "1 billet/pièce de 2 euros\n",
            "1 billet/pièce de 1 euros\n",
            "2 billet/pièce de 0.2 euros\n",
            "1 billet/pièce de 0.02 euros\n",
            "1 billet/pièce de 0.01 euros\n",
            "\n"
          ]
        }
      ]
    },
    {
      "cell_type": "code",
      "source": [
        "print(monnaie_a_rendre(26.57, 15))"
      ],
      "metadata": {
        "colab": {
          "base_uri": "https://localhost:8080/"
        },
        "id": "BxIKwGy0ooEH",
        "outputId": "844f6a7b-2bc9-4273-c16c-233ef00c1766"
      },
      "execution_count": null,
      "outputs": [
        {
          "output_type": "stream",
          "name": "stdout",
          "text": [
            "Solde insuffisant\n"
          ]
        }
      ]
    },
    {
      "cell_type": "code",
      "source": [
        "print(monnaie_a_rendre(26.57, 241.9))"
      ],
      "metadata": {
        "colab": {
          "base_uri": "https://localhost:8080/"
        },
        "id": "3SARfD-ooqL1",
        "outputId": "d8868f91-214c-46c6-fd33-8b4c14b0deb8"
      },
      "execution_count": null,
      "outputs": [
        {
          "output_type": "stream",
          "name": "stdout",
          "text": [
            "215.33€ à rendre :\n",
            "1 billet/pièce de 200 euros\n",
            "1 billet/pièce de 10 euros\n",
            "1 billet/pièce de 5 euros\n",
            "1 billet/pièce de 0.2 euros\n",
            "1 billet/pièce de 0.1 euros\n",
            "1 billet/pièce de 0.02 euros\n",
            "1 billet/pièce de 0.01 euros\n",
            "\n"
          ]
        }
      ]
    },
    {
      "cell_type": "code",
      "source": [
        "print(monnaie_a_rendre(0, 40))"
      ],
      "metadata": {
        "colab": {
          "base_uri": "https://localhost:8080/"
        },
        "id": "B9lWagweou47",
        "outputId": "dfe8f59a-2393-44ae-9582-847fde4efb58"
      },
      "execution_count": null,
      "outputs": [
        {
          "output_type": "stream",
          "name": "stdout",
          "text": [
            "40€ à rendre :\n",
            "2 billet/pièce de 20 euros\n",
            "\n"
          ]
        }
      ]
    },
    {
      "cell_type": "code",
      "source": [
        "# NB : sans le \"print\", le message s'affiche mal\n",
        "monnaie_a_rendre(26.57, 40)"
      ],
      "metadata": {
        "colab": {
          "base_uri": "https://localhost:8080/",
          "height": 52
        },
        "id": "Wu7GUZr3DwCv",
        "outputId": "98a1ad44-8f3e-4fd8-8ff9-799f8e3dac06"
      },
      "execution_count": null,
      "outputs": [
        {
          "output_type": "execute_result",
          "data": {
            "text/plain": [
              "'1 billet/pièce de 10 euros\\n1 billet/pièce de 2 euros\\n1 billet/pièce de 1 euros\\n2 billet/pièce de 0.2 euros\\n1 billet/pièce de 0.02 euros\\n1 billet/pièce de 0.01 euros\\n'"
            ],
            "application/vnd.google.colaboratory.intrinsic+json": {
              "type": "string"
            }
          },
          "metadata": {},
          "execution_count": 4
        }
      ]
    },
    {
      "cell_type": "code",
      "source": [
        "# Version avec un affichage plus \"esthétique\" :\n",
        "\n",
        "def monnaie_a_rendre_esth(montant, monnaie):\n",
        "  if monnaie < montant:\n",
        "    return \"Solde insuffisant\"\n",
        "\n",
        "  rendu = monnaie - montant\n",
        "  msg = \"\"\n",
        "\n",
        "  billets_banque = [500, 200, 100, 50, 20, 10, 5]\n",
        "  monnaie_billets = {}\n",
        "\n",
        "  msg += f\"{rendu}€ à rendre :\\n\"     # \\n permet de revenir à la ligne\n",
        "\n",
        "  for billet in billets_banque:\n",
        "    nb_billets = int(rendu // billet)\n",
        "    if nb_billets > 0:\n",
        "      monnaie_billets[billet] = nb_billets\n",
        "      rendu = round(rendu - billet * nb_billets, 2)\n",
        "      msg += f\"Nombre de billets de {billet} euros : {nb_billets}\\n\"\n",
        "\n",
        "  pieces_banque = [2, 1, 0.5, 0.2, 0.1, 0.05, 0.02, 0.01]\n",
        "  pieces_lettres = {2: \"2 euros\",\n",
        "                    1: \"1 euro\",\n",
        "                    0.5: \"50 centimes\",\n",
        "                    0.2: \"20 centimes\",\n",
        "                    0.1: \"10 centimes\",\n",
        "                    0.05: \"5 centimes\",\n",
        "                    0.02: \"2 centimes\",\n",
        "                    0.01: \"1 centime\"}\n",
        "  monnaie_pieces = {}\n",
        "\n",
        "  for piece in pieces_banque:\n",
        "    nb_pieces = int(rendu // piece)\n",
        "    if nb_pieces > 0:\n",
        "      monnaie_pieces[piece] = nb_pieces\n",
        "      rendu = round(rendu - piece * nb_pieces, 2)\n",
        "      msg += f\"Nombre de pièces de {pieces_lettres[piece]} : {nb_pieces}\\n\"\n",
        "\n",
        "  return msg"
      ],
      "metadata": {
        "id": "JrRe7qaKEdCF"
      },
      "execution_count": null,
      "outputs": []
    },
    {
      "cell_type": "code",
      "source": [
        "print(monnaie_a_rendre_esth(26.57, 40))"
      ],
      "metadata": {
        "colab": {
          "base_uri": "https://localhost:8080/"
        },
        "id": "XCVyVn-OElpV",
        "outputId": "06dd816d-2fb7-416c-88c1-fe262372b6d5"
      },
      "execution_count": null,
      "outputs": [
        {
          "output_type": "stream",
          "name": "stdout",
          "text": [
            "13.43€ à rendre :\n",
            "Nombre de billets de 10 euros : 1\n",
            "Nombre de pièces de 2 euros : 1\n",
            "Nombre de pièces de 1 euro : 1\n",
            "Nombre de pièces de 20 centimes : 2\n",
            "Nombre de pièces de 2 centimes : 1\n",
            "Nombre de pièces de 1 centime : 1\n",
            "\n"
          ]
        }
      ]
    }
  ]
}