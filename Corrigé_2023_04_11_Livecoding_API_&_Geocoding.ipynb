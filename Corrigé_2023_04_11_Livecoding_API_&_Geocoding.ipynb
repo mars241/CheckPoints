{
  "nbformat": 4,
  "nbformat_minor": 0,
  "metadata": {
    "colab": {
      "provenance": [],
      "include_colab_link": true
    },
    "kernelspec": {
      "name": "python3",
      "display_name": "Python 3"
    },
    "language_info": {
      "name": "python"
    }
  },
  "cells": [
    {
      "cell_type": "markdown",
      "metadata": {
        "id": "view-in-github",
        "colab_type": "text"
      },
      "source": [
        "<a href=\"https://colab.research.google.com/github/mars241/CheckPoints/blob/main/Corrig%C3%A9_2023_04_11_Livecoding_API_%26_Geocoding.ipynb\" target=\"_parent\"><img src=\"https://colab.research.google.com/assets/colab-badge.svg\" alt=\"Open In Colab\"/></a>"
      ]
    },
    {
      "cell_type": "code",
      "source": [
        "import json\n",
        "import requests\n",
        "import pandas as pd"
      ],
      "metadata": {
        "id": "wyXTeGGbjKb5"
      },
      "execution_count": null,
      "outputs": []
    },
    {
      "cell_type": "markdown",
      "source": [
        "# **API : disponibilités des Vélib en temps réel**"
      ],
      "metadata": {
        "id": "ChHz-OHBi_np"
      }
    },
    {
      "cell_type": "markdown",
      "source": [
        "### **1. Requêtage**"
      ],
      "metadata": {
        "id": "HgNYXoidGtcv"
      }
    },
    {
      "cell_type": "code",
      "execution_count": null,
      "metadata": {
        "id": "eMO6cUbZi1Qk"
      },
      "outputs": [],
      "source": [
        "# Télécharger un CSV statique : le dataframe est exploitable mais pas de mise à jour automatique\n",
        "link_csv = \"https://opendata.paris.fr/api/explore/v2.1/catalog/datasets/velib-disponibilite-en-temps-reel/exports/csv?lang=fr&timezone=Europe%2FBerlin&use_labels=true&delimiter=%3B\"\n",
        "\n",
        "df_csv = pd.read_csv(link_csv, sep=\";\")\n",
        "df_csv"
      ]
    },
    {
      "cell_type": "code",
      "source": [
        "df_csv.columns"
      ],
      "metadata": {
        "colab": {
          "base_uri": "https://localhost:8080/"
        },
        "id": "9wPgLby2tBTQ",
        "outputId": "78f37efe-a262-41f3-ef6e-606ef0c40054"
      },
      "execution_count": null,
      "outputs": [
        {
          "output_type": "execute_result",
          "data": {
            "text/plain": [
              "Index(['Identifiant station', 'Nom station', 'Station en fonctionnement',\n",
              "       'Capacité de la station', 'Nombre bornettes libres',\n",
              "       'Nombre total vélos disponibles', 'Vélos mécaniques disponibles',\n",
              "       'Vélos électriques disponibles', 'Borne de paiement disponible',\n",
              "       'Retour vélib possible', 'Actualisation de la donnée',\n",
              "       'Coordonnées géographiques', 'Nom communes équipées',\n",
              "       'Code INSEE communes équipées'],\n",
              "      dtype='object')"
            ]
          },
          "metadata": {},
          "execution_count": 43
        }
      ]
    },
    {
      "cell_type": "code",
      "source": [
        "# parenthèse avec un exemple de csv imbriqué : les Vélo'v (colonnes total_stands et main_stands)\n",
        "# ici le passage par le fichier JSON serait indispensable\n",
        "link_csv_velov = \"https://download.data.grandlyon.com/ws/rdata/jcd_jcdecaux.jcdvelov/all.csv?maxfeatures=-1\"\n",
        "df_csv_velov = pd.read_csv(link_csv_velov, sep=\";\")\n",
        "df_csv_velov"
      ],
      "metadata": {
        "id": "8_F3p6tzHJq9"
      },
      "execution_count": null,
      "outputs": []
    },
    {
      "cell_type": "code",
      "source": [
        "# Retour à Paris :\n",
        "# API DYNAMIQUE : fichier json complet + mise à jour automatique\n",
        "link_json = \"https://opendata.paris.fr/api/records/1.0/search/?dataset=velib-disponibilite-en-temps-reel&q=&rows=-1&facet=name&facet=is_installed&facet=is_renting&facet=is_returning&facet=nom_arrondissement_communes\"\n",
        "\n",
        "r = requests.get(link_json)\n",
        "r"
      ],
      "metadata": {
        "id": "cLvMf815qbxV",
        "colab": {
          "base_uri": "https://localhost:8080/"
        },
        "outputId": "5ad1c971-e600-494d-c1b4-d4ac8f7fcec2"
      },
      "execution_count": null,
      "outputs": [
        {
          "output_type": "execute_result",
          "data": {
            "text/plain": [
              "<Response [200]>"
            ]
          },
          "metadata": {},
          "execution_count": 45
        }
      ]
    },
    {
      "cell_type": "markdown",
      "source": [
        "**[Réponses à des requêtes HTTP](https://developer.mozilla.org/en-US/docs/Web/HTTP/Status)**"
      ],
      "metadata": {
        "id": "cEoP2QdWsk5D"
      }
    },
    {
      "cell_type": "code",
      "source": [
        "# JSON LOADS pour visualiser le JSON\n",
        "data = json.loads(r.text)\n",
        "data"
      ],
      "metadata": {
        "id": "unvr40XfsJd4"
      },
      "execution_count": null,
      "outputs": []
    },
    {
      "cell_type": "code",
      "source": [
        "# PD JSON pour le transformer en dataframe\n",
        "df = pd.json_normalize(r.json(), record_path='records')\n",
        "df"
      ],
      "metadata": {
        "id": "RpS3fqPorVIH"
      },
      "execution_count": null,
      "outputs": []
    },
    {
      "cell_type": "markdown",
      "source": [
        "### **2. Nettoyage des données**"
      ],
      "metadata": {
        "id": "LNn6Y3CKGoR6"
      }
    },
    {
      "cell_type": "code",
      "source": [
        "df.info()"
      ],
      "metadata": {
        "id": "H4cSfDKmH1e0"
      },
      "execution_count": null,
      "outputs": []
    },
    {
      "cell_type": "code",
      "source": [
        "df.columns"
      ],
      "metadata": {
        "colab": {
          "base_uri": "https://localhost:8080/"
        },
        "id": "UkxVCvbyFGNA",
        "outputId": "3ae08a11-d51c-4217-a56d-249ccab0a761"
      },
      "execution_count": null,
      "outputs": [
        {
          "output_type": "execute_result",
          "data": {
            "text/plain": [
              "Index(['datasetid', 'recordid', 'record_timestamp', 'fields.name',\n",
              "       'fields.stationcode', 'fields.ebike', 'fields.mechanical',\n",
              "       'fields.coordonnees_geo', 'fields.duedate', 'fields.numbikesavailable',\n",
              "       'fields.numdocksavailable', 'fields.capacity', 'fields.is_renting',\n",
              "       'fields.is_installed', 'fields.nom_arrondissement_communes',\n",
              "       'fields.is_returning', 'geometry.type', 'geometry.coordinates'],\n",
              "      dtype='object')"
            ]
          },
          "metadata": {},
          "execution_count": 51
        }
      ]
    },
    {
      "cell_type": "code",
      "source": [
        "# IS_RENTING ? IS_RETURNING ? IS_INSTALLED ?\n",
        "df['fields.is_installed'].value_counts()"
      ],
      "metadata": {
        "colab": {
          "base_uri": "https://localhost:8080/"
        },
        "id": "J1mKkuSrGR5D",
        "outputId": "212103b8-a384-48ea-e64a-84cdacaaec5b"
      },
      "execution_count": null,
      "outputs": [
        {
          "output_type": "execute_result",
          "data": {
            "text/plain": [
              "OUI    1441\n",
              "NON      22\n",
              "Name: fields.is_installed, dtype: int64"
            ]
          },
          "metadata": {},
          "execution_count": 55
        }
      ]
    },
    {
      "cell_type": "code",
      "source": [
        "df[df['fields.is_renting'] == 'NON']"
      ],
      "metadata": {
        "id": "xRUf6SLnto3c"
      },
      "execution_count": null,
      "outputs": []
    },
    {
      "cell_type": "code",
      "source": [
        "# liste des colonnes dont on aura besoin\n",
        "columns_to_keep = ['record_timestamp', 'fields.stationcode', 'fields.name',\n",
        "                   'fields.ebike', 'fields.mechanical',\n",
        "                   'fields.numbikesavailable', 'fields.numdocksavailable',\n",
        "                   'fields.is_renting', 'fields.nom_arrondissement_communes',\n",
        "                   'fields.coordonnees_geo']"
      ],
      "metadata": {
        "id": "WvFRfcYrFAyK"
      },
      "execution_count": null,
      "outputs": []
    },
    {
      "cell_type": "code",
      "source": [
        "df = df[columns_to_keep]\n",
        "df"
      ],
      "metadata": {
        "id": "ZbGJZGOMuVfb"
      },
      "execution_count": null,
      "outputs": []
    },
    {
      "cell_type": "markdown",
      "source": [
        "### **3. Cartographie**"
      ],
      "metadata": {
        "id": "JiMSb8NpIP7J"
      }
    },
    {
      "cell_type": "code",
      "source": [
        "import folium"
      ],
      "metadata": {
        "id": "05oV-MSmGWXH"
      },
      "execution_count": null,
      "outputs": []
    },
    {
      "cell_type": "code",
      "source": [
        "df.columns"
      ],
      "metadata": {
        "colab": {
          "base_uri": "https://localhost:8080/"
        },
        "id": "_qpIyNrHKgsj",
        "outputId": "8e326cca-cae7-4841-915a-6d1d98248b41"
      },
      "execution_count": null,
      "outputs": [
        {
          "output_type": "execute_result",
          "data": {
            "text/plain": [
              "Index(['record_timestamp', 'fields.stationcode', 'fields.name', 'fields.ebike',\n",
              "       'fields.mechanical', 'fields.numbikesavailable',\n",
              "       'fields.numdocksavailable', 'fields.is_renting',\n",
              "       'fields.nom_arrondissement_communes', 'fields.coordonnees_geo'],\n",
              "      dtype='object')"
            ]
          },
          "metadata": {},
          "execution_count": 60
        }
      ]
    },
    {
      "cell_type": "code",
      "source": [
        "# On génère une carte centrée sur les coordonnées [48.860680473738334, 2.314848195584221]\n",
        "m = folium.Map(location=[48.860680473738334, 2.314848195584221], zoom_start=15)\n",
        "\n",
        "# On ajoute un marqueur par ligne du dataframe\n",
        "for i in range(len(df)):\n",
        "  coordinates = df.loc[i]['fields.coordonnees_geo']\n",
        "  name = df.loc[i]['fields.name']\n",
        "  available_ebikes = df.loc[i]['fields.ebike']\n",
        "  available_mec_bikes = df.loc[i]['fields.mechanical']\n",
        "  available_bikes_total = df.loc[i]['fields.numbikesavailable']\n",
        "  available_docks = df.loc[i]['fields.numdocksavailable']\n",
        "  is_renting = df.loc[i]['fields.is_renting']\n",
        "\n",
        "  # Popup étoffé\n",
        "  pop = folium.Popup(f\"<b>{name}</b><br><br>{available_ebikes} vélos électriques disponibles<br>{available_mec_bikes} vélos mécaniques disponibles<br>{available_docks} places disponibles\", max_width=250)\n",
        "  # Marqueur bleu par défaut\n",
        "  icon = folium.Icon(color='darkblue')\n",
        "\n",
        "  # si station indisponible => marqueur gris\n",
        "  if is_renting == 'NON':\n",
        "    icon = folium.Icon(color='gray')\n",
        "    pop = folium.Popup(\"<b>Station fermée</b>\", max_width=250)\n",
        "\n",
        "  # si moins de 3 vélos disponibles => marqueur orange\n",
        "  if available_bikes_total <= 3:\n",
        "    icon = folium.Icon(color='orange')\n",
        "\n",
        "\n",
        "  folium.Marker(\n",
        "      location=coordinates,\n",
        "      popup=pop,\n",
        "      icon=icon,\n",
        "      ).add_to(m)\n",
        "\n",
        "m"
      ],
      "metadata": {
        "id": "GrR-U3neQcD3"
      },
      "execution_count": null,
      "outputs": []
    },
    {
      "cell_type": "markdown",
      "source": [
        "# **GeoCoding : requêtage avec l'[API Adresse](https://adresse.data.gouv.fr/api-doc/adresse) de data.gouv.fr**"
      ],
      "metadata": {
        "id": "BiBvmt2TO5Kh"
      }
    },
    {
      "cell_type": "markdown",
      "source": [
        "### **1. Pour une adresse précise**"
      ],
      "metadata": {
        "id": "fPQZVnPHQESI"
      }
    },
    {
      "cell_type": "code",
      "source": [
        "# Exemple avec l'adresse 17 bis rue Delandine 69002\n",
        "link = 'https://api-adresse.data.gouv.fr/search/?q=17+bis+Rue+Delandine&postcode=69002&limit=1'\n",
        "r = requests.get(link)\n",
        "r"
      ],
      "metadata": {
        "colab": {
          "base_uri": "https://localhost:8080/"
        },
        "id": "vTBxA5IqO9Ak",
        "outputId": "763c1495-f89e-4467-da87-805486e3e041"
      },
      "execution_count": null,
      "outputs": [
        {
          "output_type": "execute_result",
          "data": {
            "text/plain": [
              "<Response [200]>"
            ]
          },
          "metadata": {},
          "execution_count": 71
        }
      ]
    },
    {
      "cell_type": "code",
      "source": [
        "df_geo = pd.json_normalize(r.json(), record_path='features')\n",
        "df_geo"
      ],
      "metadata": {
        "colab": {
          "base_uri": "https://localhost:8080/",
          "height": 179
        },
        "id": "MQvJTFVjPCPm",
        "outputId": "dc6fe5cf-3935-4515-81fc-ec850c223ff3"
      },
      "execution_count": null,
      "outputs": [
        {
          "output_type": "execute_result",
          "data": {
            "text/plain": [
              "      type geometry.type   geometry.coordinates  \\\n",
              "0  Feature         Point  [4.826929, 45.746264]   \n",
              "\n",
              "                 properties.label  properties.score properties.housenumber  \\\n",
              "0  17bis Rue Delandine 69002 Lyon          0.755825                  17bis   \n",
              "\n",
              "          properties.id      properties.name properties.postcode  \\\n",
              "0  69382_2120_00017_bis  17bis Rue Delandine               69002   \n",
              "\n",
              "  properties.citycode  properties.x  properties.y properties.city  \\\n",
              "0               69382     842030.68    6517939.49            Lyon   \n",
              "\n",
              "      properties.district               properties.context properties.type  \\\n",
              "0  Lyon 2e Arrondissement  69, Rhône, Auvergne-Rhône-Alpes     housenumber   \n",
              "\n",
              "   properties.importance properties.street  \n",
              "0                0.66407     Rue Delandine  "
            ],
            "text/html": [
              "\n",
              "  <div id=\"df-d5441091-38b5-44d6-8164-a12925b7d595\">\n",
              "    <div class=\"colab-df-container\">\n",
              "      <div>\n",
              "<style scoped>\n",
              "    .dataframe tbody tr th:only-of-type {\n",
              "        vertical-align: middle;\n",
              "    }\n",
              "\n",
              "    .dataframe tbody tr th {\n",
              "        vertical-align: top;\n",
              "    }\n",
              "\n",
              "    .dataframe thead th {\n",
              "        text-align: right;\n",
              "    }\n",
              "</style>\n",
              "<table border=\"1\" class=\"dataframe\">\n",
              "  <thead>\n",
              "    <tr style=\"text-align: right;\">\n",
              "      <th></th>\n",
              "      <th>type</th>\n",
              "      <th>geometry.type</th>\n",
              "      <th>geometry.coordinates</th>\n",
              "      <th>properties.label</th>\n",
              "      <th>properties.score</th>\n",
              "      <th>properties.housenumber</th>\n",
              "      <th>properties.id</th>\n",
              "      <th>properties.name</th>\n",
              "      <th>properties.postcode</th>\n",
              "      <th>properties.citycode</th>\n",
              "      <th>properties.x</th>\n",
              "      <th>properties.y</th>\n",
              "      <th>properties.city</th>\n",
              "      <th>properties.district</th>\n",
              "      <th>properties.context</th>\n",
              "      <th>properties.type</th>\n",
              "      <th>properties.importance</th>\n",
              "      <th>properties.street</th>\n",
              "    </tr>\n",
              "  </thead>\n",
              "  <tbody>\n",
              "    <tr>\n",
              "      <th>0</th>\n",
              "      <td>Feature</td>\n",
              "      <td>Point</td>\n",
              "      <td>[4.826929, 45.746264]</td>\n",
              "      <td>17bis Rue Delandine 69002 Lyon</td>\n",
              "      <td>0.755825</td>\n",
              "      <td>17bis</td>\n",
              "      <td>69382_2120_00017_bis</td>\n",
              "      <td>17bis Rue Delandine</td>\n",
              "      <td>69002</td>\n",
              "      <td>69382</td>\n",
              "      <td>842030.68</td>\n",
              "      <td>6517939.49</td>\n",
              "      <td>Lyon</td>\n",
              "      <td>Lyon 2e Arrondissement</td>\n",
              "      <td>69, Rhône, Auvergne-Rhône-Alpes</td>\n",
              "      <td>housenumber</td>\n",
              "      <td>0.66407</td>\n",
              "      <td>Rue Delandine</td>\n",
              "    </tr>\n",
              "  </tbody>\n",
              "</table>\n",
              "</div>\n",
              "      <button class=\"colab-df-convert\" onclick=\"convertToInteractive('df-d5441091-38b5-44d6-8164-a12925b7d595')\"\n",
              "              title=\"Convert this dataframe to an interactive table.\"\n",
              "              style=\"display:none;\">\n",
              "        \n",
              "  <svg xmlns=\"http://www.w3.org/2000/svg\" height=\"24px\"viewBox=\"0 0 24 24\"\n",
              "       width=\"24px\">\n",
              "    <path d=\"M0 0h24v24H0V0z\" fill=\"none\"/>\n",
              "    <path d=\"M18.56 5.44l.94 2.06.94-2.06 2.06-.94-2.06-.94-.94-2.06-.94 2.06-2.06.94zm-11 1L8.5 8.5l.94-2.06 2.06-.94-2.06-.94L8.5 2.5l-.94 2.06-2.06.94zm10 10l.94 2.06.94-2.06 2.06-.94-2.06-.94-.94-2.06-.94 2.06-2.06.94z\"/><path d=\"M17.41 7.96l-1.37-1.37c-.4-.4-.92-.59-1.43-.59-.52 0-1.04.2-1.43.59L10.3 9.45l-7.72 7.72c-.78.78-.78 2.05 0 2.83L4 21.41c.39.39.9.59 1.41.59.51 0 1.02-.2 1.41-.59l7.78-7.78 2.81-2.81c.8-.78.8-2.07 0-2.86zM5.41 20L4 18.59l7.72-7.72 1.47 1.35L5.41 20z\"/>\n",
              "  </svg>\n",
              "      </button>\n",
              "      \n",
              "  <style>\n",
              "    .colab-df-container {\n",
              "      display:flex;\n",
              "      flex-wrap:wrap;\n",
              "      gap: 12px;\n",
              "    }\n",
              "\n",
              "    .colab-df-convert {\n",
              "      background-color: #E8F0FE;\n",
              "      border: none;\n",
              "      border-radius: 50%;\n",
              "      cursor: pointer;\n",
              "      display: none;\n",
              "      fill: #1967D2;\n",
              "      height: 32px;\n",
              "      padding: 0 0 0 0;\n",
              "      width: 32px;\n",
              "    }\n",
              "\n",
              "    .colab-df-convert:hover {\n",
              "      background-color: #E2EBFA;\n",
              "      box-shadow: 0px 1px 2px rgba(60, 64, 67, 0.3), 0px 1px 3px 1px rgba(60, 64, 67, 0.15);\n",
              "      fill: #174EA6;\n",
              "    }\n",
              "\n",
              "    [theme=dark] .colab-df-convert {\n",
              "      background-color: #3B4455;\n",
              "      fill: #D2E3FC;\n",
              "    }\n",
              "\n",
              "    [theme=dark] .colab-df-convert:hover {\n",
              "      background-color: #434B5C;\n",
              "      box-shadow: 0px 1px 3px 1px rgba(0, 0, 0, 0.15);\n",
              "      filter: drop-shadow(0px 1px 2px rgba(0, 0, 0, 0.3));\n",
              "      fill: #FFFFFF;\n",
              "    }\n",
              "  </style>\n",
              "\n",
              "      <script>\n",
              "        const buttonEl =\n",
              "          document.querySelector('#df-d5441091-38b5-44d6-8164-a12925b7d595 button.colab-df-convert');\n",
              "        buttonEl.style.display =\n",
              "          google.colab.kernel.accessAllowed ? 'block' : 'none';\n",
              "\n",
              "        async function convertToInteractive(key) {\n",
              "          const element = document.querySelector('#df-d5441091-38b5-44d6-8164-a12925b7d595');\n",
              "          const dataTable =\n",
              "            await google.colab.kernel.invokeFunction('convertToInteractive',\n",
              "                                                     [key], {});\n",
              "          if (!dataTable) return;\n",
              "\n",
              "          const docLinkHtml = 'Like what you see? Visit the ' +\n",
              "            '<a target=\"_blank\" href=https://colab.research.google.com/notebooks/data_table.ipynb>data table notebook</a>'\n",
              "            + ' to learn more about interactive tables.';\n",
              "          element.innerHTML = '';\n",
              "          dataTable['output_type'] = 'display_data';\n",
              "          await google.colab.output.renderOutput(dataTable, element);\n",
              "          const docLink = document.createElement('div');\n",
              "          docLink.innerHTML = docLinkHtml;\n",
              "          element.appendChild(docLink);\n",
              "        }\n",
              "      </script>\n",
              "    </div>\n",
              "  </div>\n",
              "  "
            ]
          },
          "metadata": {},
          "execution_count": 72
        }
      ]
    },
    {
      "cell_type": "code",
      "source": [
        "# On observe que la requête se compose d'une partie fixe, suivie de l'adresse à chercher\n",
        "# Une URL ne peut pas comporter de caractère espace \" \",\n",
        "# et il faut éviter si possible d'avoir des caractères spéciaux ou des accents\n",
        "\n",
        "link_main = 'https://api-adresse.data.gouv.fr/search/?q='\n",
        "adresse = '17 bis rue Delandine, 69002 Lyon'\n",
        "\n",
        "# nettoyage léger :\n",
        "adresse = adresse.replace(\" \", \"+\")\n",
        "adresse = adresse.replace(\",\", \"\")\n",
        "\n",
        "link = link_main + adresse\n",
        "\n",
        "print(link)"
      ],
      "metadata": {
        "colab": {
          "base_uri": "https://localhost:8080/"
        },
        "id": "kUW6_mjkPSjS",
        "outputId": "7cb9592c-514b-4630-ce37-40e6df8ad3f3"
      },
      "execution_count": null,
      "outputs": [
        {
          "output_type": "stream",
          "name": "stdout",
          "text": [
            "https://api-adresse.data.gouv.fr/search/?q=17+bis+rue+Delandine+69002+Lyon\n"
          ]
        }
      ]
    },
    {
      "cell_type": "markdown",
      "source": [
        "### **2. Généralisation à toutes les adresses**"
      ],
      "metadata": {
        "id": "_bV-n3csR669"
      }
    },
    {
      "cell_type": "code",
      "source": [
        "pip install unidecode"
      ],
      "metadata": {
        "colab": {
          "base_uri": "https://localhost:8080/"
        },
        "id": "5XErm_-0P8fx",
        "outputId": "a1baabd1-1ebc-44c9-ab21-6f00fcbd1b3f"
      },
      "execution_count": null,
      "outputs": [
        {
          "output_type": "stream",
          "name": "stdout",
          "text": [
            "Looking in indexes: https://pypi.org/simple, https://us-python.pkg.dev/colab-wheels/public/simple/\n",
            "Requirement already satisfied: unidecode in /usr/local/lib/python3.9/dist-packages (1.3.6)\n"
          ]
        }
      ]
    },
    {
      "cell_type": "code",
      "source": [
        "import re\n",
        "from unidecode import unidecode"
      ],
      "metadata": {
        "id": "7PiLKGiMQXIa"
      },
      "execution_count": null,
      "outputs": []
    },
    {
      "cell_type": "code",
      "source": [
        "# Nettoyage plus poussé :\n",
        "\n",
        "# 1. Unidecode pour enlever les accents\n",
        "adresse = '17 bis ? rue Délandine, 69002-Lyon'\n",
        "adresse = unidecode(adresse)\n",
        "adresse"
      ],
      "metadata": {
        "colab": {
          "base_uri": "https://localhost:8080/",
          "height": 35
        },
        "id": "KFA9UibKTR9w",
        "outputId": "6c664cee-049a-4d6e-ae07-1f22a0bcb73b"
      },
      "execution_count": null,
      "outputs": [
        {
          "output_type": "execute_result",
          "data": {
            "text/plain": [
              "'17 bis ? rue Delandine, 69002-Lyon'"
            ],
            "application/vnd.google.colaboratory.intrinsic+json": {
              "type": "string"
            }
          },
          "metadata": {},
          "execution_count": 83
        }
      ]
    },
    {
      "cell_type": "code",
      "source": [
        "# 2. RegEx pour remplacer \"tout ce qui n'est ni un mot ni un espace\" par un caractère vide ' '\n",
        "adresse = re.sub('[^\\w\\s]', ' ', adresse)\n",
        "adresse"
      ],
      "metadata": {
        "colab": {
          "base_uri": "https://localhost:8080/",
          "height": 35
        },
        "id": "k9Yjpd5MTR2R",
        "outputId": "26e2f36a-31dd-4125-bcf0-12463b062a8f"
      },
      "execution_count": null,
      "outputs": [
        {
          "output_type": "execute_result",
          "data": {
            "text/plain": [
              "'17 bis   rue Delandine  69002 Lyon'"
            ],
            "application/vnd.google.colaboratory.intrinsic+json": {
              "type": "string"
            }
          },
          "metadata": {},
          "execution_count": 84
        }
      ]
    },
    {
      "cell_type": "code",
      "source": [
        "# 3. RegEx pour remplacer tous les espaces par '+'\n",
        "adresse = re.sub('[\\s]+', '+', adresse)\n",
        "adresse"
      ],
      "metadata": {
        "colab": {
          "base_uri": "https://localhost:8080/",
          "height": 35
        },
        "id": "lBhP8adOyo5n",
        "outputId": "f18078a5-9647-4cae-e03a-0e399fe63e35"
      },
      "execution_count": null,
      "outputs": [
        {
          "output_type": "execute_result",
          "data": {
            "text/plain": [
              "'17+bis+rue+Delandine+69002+Lyon'"
            ],
            "application/vnd.google.colaboratory.intrinsic+json": {
              "type": "string"
            }
          },
          "metadata": {},
          "execution_count": 85
        }
      ]
    },
    {
      "cell_type": "code",
      "source": [
        "# Crée ici une fonction qui :\n",
        "# 1. transforme une adresse postale en URL de requête pour l'API Adresse,\n",
        "# 2. effectue la requête et retourne les coordonnées :\n",
        "\n",
        "# Étape 1\n",
        "def API_adresse(adresse_postale):\n",
        "\n",
        "  link_main = 'https://api-adresse.data.gouv.fr/search/?q='\n",
        "\n",
        "  # Étape 1 : transformer l'adresse en URL\n",
        "  adresse = unidecode(adresse_postale)\n",
        "  adresse = re.sub('[^\\w\\s]', '', adresse)\n",
        "  adresse = re.sub('[\\s]+', '+', adresse)\n",
        "\n",
        "  clean_link = link_main + adresse\n",
        "\n",
        "  return clean_link"
      ],
      "metadata": {
        "id": "AX0j0B4UQAaK"
      },
      "execution_count": null,
      "outputs": []
    },
    {
      "cell_type": "code",
      "source": [
        "# test de la fonction : ça marche !\n",
        "adresse = '17 bis ? rue Délandine, 69002-Lyon'\n",
        "clean_link = API_adresse(adresse)\n",
        "clean_link"
      ],
      "metadata": {
        "colab": {
          "base_uri": "https://localhost:8080/",
          "height": 35
        },
        "id": "ONAAXcmLzFzc",
        "outputId": "9b3747c4-bc15-4e37-958e-b80c700b21bd"
      },
      "execution_count": null,
      "outputs": [
        {
          "output_type": "execute_result",
          "data": {
            "text/plain": [
              "'https://api-adresse.data.gouv.fr/search/?q=17+bis+rue+Delandine+69002Lyon'"
            ],
            "application/vnd.google.colaboratory.intrinsic+json": {
              "type": "string"
            }
          },
          "metadata": {},
          "execution_count": 87
        }
      ]
    },
    {
      "cell_type": "code",
      "source": [
        "r = requests.get(clean_link)\n",
        "print(r)\n",
        "\n",
        "df_geo = pd.json_normalize(r.json(), record_path='features')\n",
        "df_geo"
      ],
      "metadata": {
        "colab": {
          "base_uri": "https://localhost:8080/",
          "height": 263
        },
        "id": "A5ypl539QZ3B",
        "outputId": "b090ec43-ffde-4f45-bc36-cb957a01fd88"
      },
      "execution_count": null,
      "outputs": [
        {
          "output_type": "stream",
          "name": "stdout",
          "text": [
            "<Response [200]>\n"
          ]
        },
        {
          "output_type": "execute_result",
          "data": {
            "text/plain": [
              "      type geometry.type   geometry.coordinates  \\\n",
              "0  Feature         Point  [4.826929, 45.746264]   \n",
              "1  Feature         Point  [4.821543, 45.740182]   \n",
              "\n",
              "                   properties.label  properties.score properties.housenumber  \\\n",
              "0    17bis Rue Delandine 69002 Lyon          0.725143                  17bis   \n",
              "1  Rue Antoine Delandine 69002 Lyon          0.496312                    NaN   \n",
              "\n",
              "          properties.id        properties.name properties.postcode  \\\n",
              "0  69382_2120_00017_bis    17bis Rue Delandine               69002   \n",
              "1          69382_xswk3g  Rue Antoine Delandine               69002   \n",
              "\n",
              "  properties.citycode  properties.x  properties.y properties.city  \\\n",
              "0               69382     842030.68    6517939.49            Lyon   \n",
              "1               69382     841627.61    6517254.58            Lyon   \n",
              "\n",
              "      properties.district               properties.context properties.type  \\\n",
              "0  Lyon 2e Arrondissement  69, Rhône, Auvergne-Rhône-Alpes     housenumber   \n",
              "1  Lyon 2e Arrondissement  69, Rhône, Auvergne-Rhône-Alpes          street   \n",
              "\n",
              "   properties.importance      properties.street  \n",
              "0                0.66407          Rue Delandine  \n",
              "1                0.61328  Rue Antoine Delandine  "
            ],
            "text/html": [
              "\n",
              "  <div id=\"df-e3e1bbb6-099e-422b-84e4-d3e52a1e0304\">\n",
              "    <div class=\"colab-df-container\">\n",
              "      <div>\n",
              "<style scoped>\n",
              "    .dataframe tbody tr th:only-of-type {\n",
              "        vertical-align: middle;\n",
              "    }\n",
              "\n",
              "    .dataframe tbody tr th {\n",
              "        vertical-align: top;\n",
              "    }\n",
              "\n",
              "    .dataframe thead th {\n",
              "        text-align: right;\n",
              "    }\n",
              "</style>\n",
              "<table border=\"1\" class=\"dataframe\">\n",
              "  <thead>\n",
              "    <tr style=\"text-align: right;\">\n",
              "      <th></th>\n",
              "      <th>type</th>\n",
              "      <th>geometry.type</th>\n",
              "      <th>geometry.coordinates</th>\n",
              "      <th>properties.label</th>\n",
              "      <th>properties.score</th>\n",
              "      <th>properties.housenumber</th>\n",
              "      <th>properties.id</th>\n",
              "      <th>properties.name</th>\n",
              "      <th>properties.postcode</th>\n",
              "      <th>properties.citycode</th>\n",
              "      <th>properties.x</th>\n",
              "      <th>properties.y</th>\n",
              "      <th>properties.city</th>\n",
              "      <th>properties.district</th>\n",
              "      <th>properties.context</th>\n",
              "      <th>properties.type</th>\n",
              "      <th>properties.importance</th>\n",
              "      <th>properties.street</th>\n",
              "    </tr>\n",
              "  </thead>\n",
              "  <tbody>\n",
              "    <tr>\n",
              "      <th>0</th>\n",
              "      <td>Feature</td>\n",
              "      <td>Point</td>\n",
              "      <td>[4.826929, 45.746264]</td>\n",
              "      <td>17bis Rue Delandine 69002 Lyon</td>\n",
              "      <td>0.725143</td>\n",
              "      <td>17bis</td>\n",
              "      <td>69382_2120_00017_bis</td>\n",
              "      <td>17bis Rue Delandine</td>\n",
              "      <td>69002</td>\n",
              "      <td>69382</td>\n",
              "      <td>842030.68</td>\n",
              "      <td>6517939.49</td>\n",
              "      <td>Lyon</td>\n",
              "      <td>Lyon 2e Arrondissement</td>\n",
              "      <td>69, Rhône, Auvergne-Rhône-Alpes</td>\n",
              "      <td>housenumber</td>\n",
              "      <td>0.66407</td>\n",
              "      <td>Rue Delandine</td>\n",
              "    </tr>\n",
              "    <tr>\n",
              "      <th>1</th>\n",
              "      <td>Feature</td>\n",
              "      <td>Point</td>\n",
              "      <td>[4.821543, 45.740182]</td>\n",
              "      <td>Rue Antoine Delandine 69002 Lyon</td>\n",
              "      <td>0.496312</td>\n",
              "      <td>NaN</td>\n",
              "      <td>69382_xswk3g</td>\n",
              "      <td>Rue Antoine Delandine</td>\n",
              "      <td>69002</td>\n",
              "      <td>69382</td>\n",
              "      <td>841627.61</td>\n",
              "      <td>6517254.58</td>\n",
              "      <td>Lyon</td>\n",
              "      <td>Lyon 2e Arrondissement</td>\n",
              "      <td>69, Rhône, Auvergne-Rhône-Alpes</td>\n",
              "      <td>street</td>\n",
              "      <td>0.61328</td>\n",
              "      <td>Rue Antoine Delandine</td>\n",
              "    </tr>\n",
              "  </tbody>\n",
              "</table>\n",
              "</div>\n",
              "      <button class=\"colab-df-convert\" onclick=\"convertToInteractive('df-e3e1bbb6-099e-422b-84e4-d3e52a1e0304')\"\n",
              "              title=\"Convert this dataframe to an interactive table.\"\n",
              "              style=\"display:none;\">\n",
              "        \n",
              "  <svg xmlns=\"http://www.w3.org/2000/svg\" height=\"24px\"viewBox=\"0 0 24 24\"\n",
              "       width=\"24px\">\n",
              "    <path d=\"M0 0h24v24H0V0z\" fill=\"none\"/>\n",
              "    <path d=\"M18.56 5.44l.94 2.06.94-2.06 2.06-.94-2.06-.94-.94-2.06-.94 2.06-2.06.94zm-11 1L8.5 8.5l.94-2.06 2.06-.94-2.06-.94L8.5 2.5l-.94 2.06-2.06.94zm10 10l.94 2.06.94-2.06 2.06-.94-2.06-.94-.94-2.06-.94 2.06-2.06.94z\"/><path d=\"M17.41 7.96l-1.37-1.37c-.4-.4-.92-.59-1.43-.59-.52 0-1.04.2-1.43.59L10.3 9.45l-7.72 7.72c-.78.78-.78 2.05 0 2.83L4 21.41c.39.39.9.59 1.41.59.51 0 1.02-.2 1.41-.59l7.78-7.78 2.81-2.81c.8-.78.8-2.07 0-2.86zM5.41 20L4 18.59l7.72-7.72 1.47 1.35L5.41 20z\"/>\n",
              "  </svg>\n",
              "      </button>\n",
              "      \n",
              "  <style>\n",
              "    .colab-df-container {\n",
              "      display:flex;\n",
              "      flex-wrap:wrap;\n",
              "      gap: 12px;\n",
              "    }\n",
              "\n",
              "    .colab-df-convert {\n",
              "      background-color: #E8F0FE;\n",
              "      border: none;\n",
              "      border-radius: 50%;\n",
              "      cursor: pointer;\n",
              "      display: none;\n",
              "      fill: #1967D2;\n",
              "      height: 32px;\n",
              "      padding: 0 0 0 0;\n",
              "      width: 32px;\n",
              "    }\n",
              "\n",
              "    .colab-df-convert:hover {\n",
              "      background-color: #E2EBFA;\n",
              "      box-shadow: 0px 1px 2px rgba(60, 64, 67, 0.3), 0px 1px 3px 1px rgba(60, 64, 67, 0.15);\n",
              "      fill: #174EA6;\n",
              "    }\n",
              "\n",
              "    [theme=dark] .colab-df-convert {\n",
              "      background-color: #3B4455;\n",
              "      fill: #D2E3FC;\n",
              "    }\n",
              "\n",
              "    [theme=dark] .colab-df-convert:hover {\n",
              "      background-color: #434B5C;\n",
              "      box-shadow: 0px 1px 3px 1px rgba(0, 0, 0, 0.15);\n",
              "      filter: drop-shadow(0px 1px 2px rgba(0, 0, 0, 0.3));\n",
              "      fill: #FFFFFF;\n",
              "    }\n",
              "  </style>\n",
              "\n",
              "      <script>\n",
              "        const buttonEl =\n",
              "          document.querySelector('#df-e3e1bbb6-099e-422b-84e4-d3e52a1e0304 button.colab-df-convert');\n",
              "        buttonEl.style.display =\n",
              "          google.colab.kernel.accessAllowed ? 'block' : 'none';\n",
              "\n",
              "        async function convertToInteractive(key) {\n",
              "          const element = document.querySelector('#df-e3e1bbb6-099e-422b-84e4-d3e52a1e0304');\n",
              "          const dataTable =\n",
              "            await google.colab.kernel.invokeFunction('convertToInteractive',\n",
              "                                                     [key], {});\n",
              "          if (!dataTable) return;\n",
              "\n",
              "          const docLinkHtml = 'Like what you see? Visit the ' +\n",
              "            '<a target=\"_blank\" href=https://colab.research.google.com/notebooks/data_table.ipynb>data table notebook</a>'\n",
              "            + ' to learn more about interactive tables.';\n",
              "          element.innerHTML = '';\n",
              "          dataTable['output_type'] = 'display_data';\n",
              "          await google.colab.output.renderOutput(dataTable, element);\n",
              "          const docLink = document.createElement('div');\n",
              "          docLink.innerHTML = docLinkHtml;\n",
              "          element.appendChild(docLink);\n",
              "        }\n",
              "      </script>\n",
              "    </div>\n",
              "  </div>\n",
              "  "
            ]
          },
          "metadata": {},
          "execution_count": 88
        }
      ]
    },
    {
      "cell_type": "code",
      "source": [
        "# Extraction des coordonnées\n",
        "df_geo.loc[0]['geometry.coordinates'][::-1]"
      ],
      "metadata": {
        "colab": {
          "base_uri": "https://localhost:8080/"
        },
        "id": "nbA85zHzzMjI",
        "outputId": "46a71dc9-e89d-41b5-e0e8-ffc2e3302602"
      },
      "execution_count": null,
      "outputs": [
        {
          "output_type": "execute_result",
          "data": {
            "text/plain": [
              "[45.746264, 4.826929]"
            ]
          },
          "metadata": {},
          "execution_count": 92
        }
      ]
    },
    {
      "cell_type": "code",
      "source": [
        "# Étape 2\n",
        "\n",
        "def API_adresse(adresse_postale):\n",
        "\n",
        "  link_main = 'https://api-adresse.data.gouv.fr/search/?q='\n",
        "\n",
        "  # Étape 1 : transformer l'adresse en URL\n",
        "  adresse = unidecode(adresse_postale)\n",
        "  adresse = re.sub('[^\\w\\s]', '', adresse)\n",
        "  adresse = re.sub('[\\s]+', '+', adresse)\n",
        "\n",
        "  clean_link = link_main + adresse\n",
        "\n",
        "  # Étape 2 : effectuer la requête et retourner les coordonnées\n",
        "  r = requests.get(clean_link)\n",
        "  df_geo = pd.json_normalize(r.json(), record_path='features')\n",
        "\n",
        "  coordinates = df_geo.loc[0]['geometry.coordinates'][::-1]\n",
        "\n",
        "  return coordinates"
      ],
      "metadata": {
        "id": "A116YoDqzbbl"
      },
      "execution_count": null,
      "outputs": []
    },
    {
      "cell_type": "code",
      "source": [
        "adresse = '17 bis ? rue Délandine, 69002-Lyon'\n",
        "coordinates = API_adresse(adresse)\n",
        "coordinates"
      ],
      "metadata": {
        "id": "HDPvXV630RCe"
      },
      "execution_count": null,
      "outputs": []
    },
    {
      "cell_type": "code",
      "source": [
        "# Application au df des restaurants clermontois :\n",
        "\n",
        "restaurants = pd.DataFrame([[\"Polypode\",\"6 place du Champgil, Clermont-Ferrand, 63000\"],\n",
        "                            [\"Jean-Claude Leclerc\", \"12 rue St-Adjutor, Clermont-Ferrand, 63000\"],\n",
        "                            [\"L'Écureuil\", \"18 rue St-Adjutor, Clermont-Ferrand, 63000\"],\n",
        "                            [\"Le Saint-Eutrope\", \"4 rue St-Eutrope, Clermont-Ferrand, 63000\"]],\n",
        "                           columns = [\"nom\", \"adresse\"])\n",
        "\n",
        "restaurants"
      ],
      "metadata": {
        "colab": {
          "base_uri": "https://localhost:8080/",
          "height": 175
        },
        "id": "OG3unJg30yXO",
        "outputId": "8ca2256a-81a1-4d78-82eb-26693aded936"
      },
      "execution_count": null,
      "outputs": [
        {
          "output_type": "execute_result",
          "data": {
            "text/plain": [
              "                   nom                                       adresse\n",
              "0             Polypode  6 place du Champgil, Clermont-Ferrand, 63000\n",
              "1  Jean-Claude Leclerc    12 rue St-Adjutor, Clermont-Ferrand, 63000\n",
              "2           L'Écureuil    18 rue St-Adjutor, Clermont-Ferrand, 63000\n",
              "3     Le Saint-Eutrope     4 rue St-Eutrope, Clermont-Ferrand, 63000"
            ],
            "text/html": [
              "\n",
              "  <div id=\"df-cb90f9bc-82ba-4560-924f-ea18b17ef80b\">\n",
              "    <div class=\"colab-df-container\">\n",
              "      <div>\n",
              "<style scoped>\n",
              "    .dataframe tbody tr th:only-of-type {\n",
              "        vertical-align: middle;\n",
              "    }\n",
              "\n",
              "    .dataframe tbody tr th {\n",
              "        vertical-align: top;\n",
              "    }\n",
              "\n",
              "    .dataframe thead th {\n",
              "        text-align: right;\n",
              "    }\n",
              "</style>\n",
              "<table border=\"1\" class=\"dataframe\">\n",
              "  <thead>\n",
              "    <tr style=\"text-align: right;\">\n",
              "      <th></th>\n",
              "      <th>nom</th>\n",
              "      <th>adresse</th>\n",
              "    </tr>\n",
              "  </thead>\n",
              "  <tbody>\n",
              "    <tr>\n",
              "      <th>0</th>\n",
              "      <td>Polypode</td>\n",
              "      <td>6 place du Champgil, Clermont-Ferrand, 63000</td>\n",
              "    </tr>\n",
              "    <tr>\n",
              "      <th>1</th>\n",
              "      <td>Jean-Claude Leclerc</td>\n",
              "      <td>12 rue St-Adjutor, Clermont-Ferrand, 63000</td>\n",
              "    </tr>\n",
              "    <tr>\n",
              "      <th>2</th>\n",
              "      <td>L'Écureuil</td>\n",
              "      <td>18 rue St-Adjutor, Clermont-Ferrand, 63000</td>\n",
              "    </tr>\n",
              "    <tr>\n",
              "      <th>3</th>\n",
              "      <td>Le Saint-Eutrope</td>\n",
              "      <td>4 rue St-Eutrope, Clermont-Ferrand, 63000</td>\n",
              "    </tr>\n",
              "  </tbody>\n",
              "</table>\n",
              "</div>\n",
              "      <button class=\"colab-df-convert\" onclick=\"convertToInteractive('df-cb90f9bc-82ba-4560-924f-ea18b17ef80b')\"\n",
              "              title=\"Convert this dataframe to an interactive table.\"\n",
              "              style=\"display:none;\">\n",
              "        \n",
              "  <svg xmlns=\"http://www.w3.org/2000/svg\" height=\"24px\"viewBox=\"0 0 24 24\"\n",
              "       width=\"24px\">\n",
              "    <path d=\"M0 0h24v24H0V0z\" fill=\"none\"/>\n",
              "    <path d=\"M18.56 5.44l.94 2.06.94-2.06 2.06-.94-2.06-.94-.94-2.06-.94 2.06-2.06.94zm-11 1L8.5 8.5l.94-2.06 2.06-.94-2.06-.94L8.5 2.5l-.94 2.06-2.06.94zm10 10l.94 2.06.94-2.06 2.06-.94-2.06-.94-.94-2.06-.94 2.06-2.06.94z\"/><path d=\"M17.41 7.96l-1.37-1.37c-.4-.4-.92-.59-1.43-.59-.52 0-1.04.2-1.43.59L10.3 9.45l-7.72 7.72c-.78.78-.78 2.05 0 2.83L4 21.41c.39.39.9.59 1.41.59.51 0 1.02-.2 1.41-.59l7.78-7.78 2.81-2.81c.8-.78.8-2.07 0-2.86zM5.41 20L4 18.59l7.72-7.72 1.47 1.35L5.41 20z\"/>\n",
              "  </svg>\n",
              "      </button>\n",
              "      \n",
              "  <style>\n",
              "    .colab-df-container {\n",
              "      display:flex;\n",
              "      flex-wrap:wrap;\n",
              "      gap: 12px;\n",
              "    }\n",
              "\n",
              "    .colab-df-convert {\n",
              "      background-color: #E8F0FE;\n",
              "      border: none;\n",
              "      border-radius: 50%;\n",
              "      cursor: pointer;\n",
              "      display: none;\n",
              "      fill: #1967D2;\n",
              "      height: 32px;\n",
              "      padding: 0 0 0 0;\n",
              "      width: 32px;\n",
              "    }\n",
              "\n",
              "    .colab-df-convert:hover {\n",
              "      background-color: #E2EBFA;\n",
              "      box-shadow: 0px 1px 2px rgba(60, 64, 67, 0.3), 0px 1px 3px 1px rgba(60, 64, 67, 0.15);\n",
              "      fill: #174EA6;\n",
              "    }\n",
              "\n",
              "    [theme=dark] .colab-df-convert {\n",
              "      background-color: #3B4455;\n",
              "      fill: #D2E3FC;\n",
              "    }\n",
              "\n",
              "    [theme=dark] .colab-df-convert:hover {\n",
              "      background-color: #434B5C;\n",
              "      box-shadow: 0px 1px 3px 1px rgba(0, 0, 0, 0.15);\n",
              "      filter: drop-shadow(0px 1px 2px rgba(0, 0, 0, 0.3));\n",
              "      fill: #FFFFFF;\n",
              "    }\n",
              "  </style>\n",
              "\n",
              "      <script>\n",
              "        const buttonEl =\n",
              "          document.querySelector('#df-cb90f9bc-82ba-4560-924f-ea18b17ef80b button.colab-df-convert');\n",
              "        buttonEl.style.display =\n",
              "          google.colab.kernel.accessAllowed ? 'block' : 'none';\n",
              "\n",
              "        async function convertToInteractive(key) {\n",
              "          const element = document.querySelector('#df-cb90f9bc-82ba-4560-924f-ea18b17ef80b');\n",
              "          const dataTable =\n",
              "            await google.colab.kernel.invokeFunction('convertToInteractive',\n",
              "                                                     [key], {});\n",
              "          if (!dataTable) return;\n",
              "\n",
              "          const docLinkHtml = 'Like what you see? Visit the ' +\n",
              "            '<a target=\"_blank\" href=https://colab.research.google.com/notebooks/data_table.ipynb>data table notebook</a>'\n",
              "            + ' to learn more about interactive tables.';\n",
              "          element.innerHTML = '';\n",
              "          dataTable['output_type'] = 'display_data';\n",
              "          await google.colab.output.renderOutput(dataTable, element);\n",
              "          const docLink = document.createElement('div');\n",
              "          docLink.innerHTML = docLinkHtml;\n",
              "          element.appendChild(docLink);\n",
              "        }\n",
              "      </script>\n",
              "    </div>\n",
              "  </div>\n",
              "  "
            ]
          },
          "metadata": {},
          "execution_count": 96
        }
      ]
    },
    {
      "cell_type": "code",
      "source": [
        "# création d'une nouvelle colonne coordonnées, générée grâce à notre fonction API_adresse\n",
        "restaurants['coordonnees'] = restaurants['adresse'].apply(API_adresse)\n",
        "restaurants"
      ],
      "metadata": {
        "colab": {
          "base_uri": "https://localhost:8080/",
          "height": 175
        },
        "id": "7CRC2VQS0y21",
        "outputId": "25f2c2c1-6962-4750-a358-463364c1ec9a"
      },
      "execution_count": null,
      "outputs": [
        {
          "output_type": "execute_result",
          "data": {
            "text/plain": [
              "                   nom                                       adresse  \\\n",
              "0             Polypode  6 place du Champgil, Clermont-Ferrand, 63000   \n",
              "1  Jean-Claude Leclerc    12 rue St-Adjutor, Clermont-Ferrand, 63000   \n",
              "2           L'Écureuil    18 rue St-Adjutor, Clermont-Ferrand, 63000   \n",
              "3     Le Saint-Eutrope     4 rue St-Eutrope, Clermont-Ferrand, 63000   \n",
              "\n",
              "             coordonnees  \n",
              "0  [45.778867, 3.079426]  \n",
              "1  [45.761745, 3.097876]  \n",
              "2  [45.761389, 3.098109]  \n",
              "3  [45.757716, 3.094736]  "
            ],
            "text/html": [
              "\n",
              "  <div id=\"df-ed7753b3-28f1-409a-886d-a7dec22235ec\">\n",
              "    <div class=\"colab-df-container\">\n",
              "      <div>\n",
              "<style scoped>\n",
              "    .dataframe tbody tr th:only-of-type {\n",
              "        vertical-align: middle;\n",
              "    }\n",
              "\n",
              "    .dataframe tbody tr th {\n",
              "        vertical-align: top;\n",
              "    }\n",
              "\n",
              "    .dataframe thead th {\n",
              "        text-align: right;\n",
              "    }\n",
              "</style>\n",
              "<table border=\"1\" class=\"dataframe\">\n",
              "  <thead>\n",
              "    <tr style=\"text-align: right;\">\n",
              "      <th></th>\n",
              "      <th>nom</th>\n",
              "      <th>adresse</th>\n",
              "      <th>coordonnees</th>\n",
              "    </tr>\n",
              "  </thead>\n",
              "  <tbody>\n",
              "    <tr>\n",
              "      <th>0</th>\n",
              "      <td>Polypode</td>\n",
              "      <td>6 place du Champgil, Clermont-Ferrand, 63000</td>\n",
              "      <td>[45.778867, 3.079426]</td>\n",
              "    </tr>\n",
              "    <tr>\n",
              "      <th>1</th>\n",
              "      <td>Jean-Claude Leclerc</td>\n",
              "      <td>12 rue St-Adjutor, Clermont-Ferrand, 63000</td>\n",
              "      <td>[45.761745, 3.097876]</td>\n",
              "    </tr>\n",
              "    <tr>\n",
              "      <th>2</th>\n",
              "      <td>L'Écureuil</td>\n",
              "      <td>18 rue St-Adjutor, Clermont-Ferrand, 63000</td>\n",
              "      <td>[45.761389, 3.098109]</td>\n",
              "    </tr>\n",
              "    <tr>\n",
              "      <th>3</th>\n",
              "      <td>Le Saint-Eutrope</td>\n",
              "      <td>4 rue St-Eutrope, Clermont-Ferrand, 63000</td>\n",
              "      <td>[45.757716, 3.094736]</td>\n",
              "    </tr>\n",
              "  </tbody>\n",
              "</table>\n",
              "</div>\n",
              "      <button class=\"colab-df-convert\" onclick=\"convertToInteractive('df-ed7753b3-28f1-409a-886d-a7dec22235ec')\"\n",
              "              title=\"Convert this dataframe to an interactive table.\"\n",
              "              style=\"display:none;\">\n",
              "        \n",
              "  <svg xmlns=\"http://www.w3.org/2000/svg\" height=\"24px\"viewBox=\"0 0 24 24\"\n",
              "       width=\"24px\">\n",
              "    <path d=\"M0 0h24v24H0V0z\" fill=\"none\"/>\n",
              "    <path d=\"M18.56 5.44l.94 2.06.94-2.06 2.06-.94-2.06-.94-.94-2.06-.94 2.06-2.06.94zm-11 1L8.5 8.5l.94-2.06 2.06-.94-2.06-.94L8.5 2.5l-.94 2.06-2.06.94zm10 10l.94 2.06.94-2.06 2.06-.94-2.06-.94-.94-2.06-.94 2.06-2.06.94z\"/><path d=\"M17.41 7.96l-1.37-1.37c-.4-.4-.92-.59-1.43-.59-.52 0-1.04.2-1.43.59L10.3 9.45l-7.72 7.72c-.78.78-.78 2.05 0 2.83L4 21.41c.39.39.9.59 1.41.59.51 0 1.02-.2 1.41-.59l7.78-7.78 2.81-2.81c.8-.78.8-2.07 0-2.86zM5.41 20L4 18.59l7.72-7.72 1.47 1.35L5.41 20z\"/>\n",
              "  </svg>\n",
              "      </button>\n",
              "      \n",
              "  <style>\n",
              "    .colab-df-container {\n",
              "      display:flex;\n",
              "      flex-wrap:wrap;\n",
              "      gap: 12px;\n",
              "    }\n",
              "\n",
              "    .colab-df-convert {\n",
              "      background-color: #E8F0FE;\n",
              "      border: none;\n",
              "      border-radius: 50%;\n",
              "      cursor: pointer;\n",
              "      display: none;\n",
              "      fill: #1967D2;\n",
              "      height: 32px;\n",
              "      padding: 0 0 0 0;\n",
              "      width: 32px;\n",
              "    }\n",
              "\n",
              "    .colab-df-convert:hover {\n",
              "      background-color: #E2EBFA;\n",
              "      box-shadow: 0px 1px 2px rgba(60, 64, 67, 0.3), 0px 1px 3px 1px rgba(60, 64, 67, 0.15);\n",
              "      fill: #174EA6;\n",
              "    }\n",
              "\n",
              "    [theme=dark] .colab-df-convert {\n",
              "      background-color: #3B4455;\n",
              "      fill: #D2E3FC;\n",
              "    }\n",
              "\n",
              "    [theme=dark] .colab-df-convert:hover {\n",
              "      background-color: #434B5C;\n",
              "      box-shadow: 0px 1px 3px 1px rgba(0, 0, 0, 0.15);\n",
              "      filter: drop-shadow(0px 1px 2px rgba(0, 0, 0, 0.3));\n",
              "      fill: #FFFFFF;\n",
              "    }\n",
              "  </style>\n",
              "\n",
              "      <script>\n",
              "        const buttonEl =\n",
              "          document.querySelector('#df-ed7753b3-28f1-409a-886d-a7dec22235ec button.colab-df-convert');\n",
              "        buttonEl.style.display =\n",
              "          google.colab.kernel.accessAllowed ? 'block' : 'none';\n",
              "\n",
              "        async function convertToInteractive(key) {\n",
              "          const element = document.querySelector('#df-ed7753b3-28f1-409a-886d-a7dec22235ec');\n",
              "          const dataTable =\n",
              "            await google.colab.kernel.invokeFunction('convertToInteractive',\n",
              "                                                     [key], {});\n",
              "          if (!dataTable) return;\n",
              "\n",
              "          const docLinkHtml = 'Like what you see? Visit the ' +\n",
              "            '<a target=\"_blank\" href=https://colab.research.google.com/notebooks/data_table.ipynb>data table notebook</a>'\n",
              "            + ' to learn more about interactive tables.';\n",
              "          element.innerHTML = '';\n",
              "          dataTable['output_type'] = 'display_data';\n",
              "          await google.colab.output.renderOutput(dataTable, element);\n",
              "          const docLink = document.createElement('div');\n",
              "          docLink.innerHTML = docLinkHtml;\n",
              "          element.appendChild(docLink);\n",
              "        }\n",
              "      </script>\n",
              "    </div>\n",
              "  </div>\n",
              "  "
            ]
          },
          "metadata": {},
          "execution_count": 97
        }
      ]
    }
  ]
}