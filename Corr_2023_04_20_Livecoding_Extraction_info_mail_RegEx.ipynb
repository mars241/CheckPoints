{
  "nbformat": 4,
  "nbformat_minor": 0,
  "metadata": {
    "colab": {
      "provenance": [],
      "include_colab_link": true
    },
    "kernelspec": {
      "name": "python3",
      "display_name": "Python 3"
    },
    "language_info": {
      "name": "python"
    }
  },
  "cells": [
    {
      "cell_type": "markdown",
      "metadata": {
        "id": "view-in-github",
        "colab_type": "text"
      },
      "source": [
        "<a href=\"https://colab.research.google.com/github/mars241/CheckPoints/blob/main/Corr_2023_04_20_Livecoding_Extraction_info_mail_RegEx.ipynb\" target=\"_parent\"><img src=\"https://colab.research.google.com/assets/colab-badge.svg\" alt=\"Open In Colab\"/></a>"
      ]
    },
    {
      "cell_type": "markdown",
      "source": [
        "# **Définition & ressources**"
      ],
      "metadata": {
        "id": "LOguzrQqdpPt"
      }
    },
    {
      "cell_type": "markdown",
      "source": [
        "**Une expression régulière est un ensemble de caractères décrivant un motif permettant d'identifier et/ou d'extraire les occurrences d’un terme dans un texte.** Les expressions régulières (motifs) sont utilisées dans la plupart des langages de programmation, mais également par de nombreux outils UNIX (comme grep, sed...) et les fonctions de recherche de certains outils de bureautique. Leur utilisation est universelle, c'est pourquoi il est indispensable de savoir s'en servir."
      ],
      "metadata": {
        "id": "X43033yCxl8-"
      }
    },
    {
      "cell_type": "markdown",
      "source": [
        "**[Apprendre pas à pas](https://regexlearn.com/learn/regex101)**\n",
        "\n",
        "\n",
        "[Cheatsheet en PDF](https://res.cloudinary.com/dyd911kmh/image/upload/v1665049689/Regular_Expressions_Cheat_Sheet_b95aae6488.png)\n",
        "\n",
        "[Cheatsheet interactive](https://regexlearn.com/cheatsheet)"
      ],
      "metadata": {
        "id": "9encvCNV0bMd"
      }
    },
    {
      "cell_type": "code",
      "execution_count": null,
      "metadata": {
        "id": "JzAb2Sktxfck"
      },
      "outputs": [],
      "source": [
        "import re\n",
        "import pandas as pd\n",
        "pd.set_option('display.max_colwidth', None)     # pour afficher tout le contenu des cellules d'un dataframe"
      ]
    },
    {
      "cell_type": "markdown",
      "source": [
        "# **Exemples divers**"
      ],
      "metadata": {
        "id": "rSICH6rQXHbo"
      }
    },
    {
      "cell_type": "code",
      "source": [
        "texte = \"Matrix (31/03/1999) - 130 minutes. IMDB note 9/10 (https://www.imdb.com/title/tt0133093). Thomas A. Anderson (Keanu Reeves), un jeune informaticien connu dans le monde du hacking sous le pseudonyme de Neo, est contacté via son ordinateur par ce qu’il pense être un groupe de hackers. Ils lui font découvrir que le monde dans lequel il vit n’est qu’un monde virtuel, la matrice, dans lequel les êtres humains sont gardés sous contrôle. Morpheus (Laurence Fishburne), le capitaine du Nebuchadnezzar, contacte Neo et pense que celui-ci est l’Élu qui peut libérer les êtres humains du joug des machines et prendre le contrôle de la matrice\"\n",
        "texte"
      ],
      "metadata": {
        "colab": {
          "base_uri": "https://localhost:8080/",
          "height": 104
        },
        "id": "8zRFWAMLxlga",
        "outputId": "30337ec7-666a-4f62-a4ea-60baaa93b302"
      },
      "execution_count": null,
      "outputs": [
        {
          "output_type": "execute_result",
          "data": {
            "text/plain": [
              "'Matrix (31/03/1999) - 130 minutes. IMDB note 9/10 (https://www.imdb.com/title/tt0133093). Thomas A. Anderson (Keanu Reeves), un jeune informaticien connu dans le monde du hacking sous le pseudonyme de Neo, est contacté via son ordinateur par ce qu’il pense être un groupe de hackers. Ils lui font découvrir que le monde dans lequel il vit n’est qu’un monde virtuel, la matrice, dans lequel les êtres humains sont gardés sous contrôle. Morpheus (Laurence Fishburne), le capitaine du Nebuchadnezzar, contacte Neo et pense que celui-ci est l’Élu qui peut libérer les êtres humains du joug des machines et prendre le contrôle de la matrice'"
            ],
            "application/vnd.google.colaboratory.intrinsic+json": {
              "type": "string"
            }
          },
          "metadata": {},
          "execution_count": 12
        }
      ]
    },
    {
      "cell_type": "markdown",
      "source": [
        "#### **Rechercher toutes les suites de chiffres ('31', '03', '1999', '130', '9', '10', '0133093') contenues dans le texte**"
      ],
      "metadata": {
        "id": "kmXOAAALXUxB"
      }
    },
    {
      "cell_type": "code",
      "source": [
        "# \\d désigne un chiffre entre 0 et 9, et le caractère + signifie \"1 ou plus\"\n",
        "\n",
        "re.findall('\\d+', texte)"
      ],
      "metadata": {
        "colab": {
          "base_uri": "https://localhost:8080/"
        },
        "id": "zvtR2g6U5LNm",
        "outputId": "3d595b03-7350-4d81-c99b-7d7c3f959625"
      },
      "execution_count": null,
      "outputs": [
        {
          "output_type": "execute_result",
          "data": {
            "text/plain": [
              "['31', '03', '1999', '130', '9', '10', '0133093']"
            ]
          },
          "metadata": {},
          "execution_count": 5
        }
      ]
    },
    {
      "cell_type": "code",
      "source": [
        "# Écrire juste d (sans l'antislash \\) signifie qu'on cherche la lettre d\n",
        "re.findall('d', texte)    # attrape toutes les lettres d, de façon isolée\n",
        "# re.findall('d+', texte)   # attrape tous les groupes de lettres d"
      ],
      "metadata": {
        "id": "_2hBRfU65Uoi"
      },
      "execution_count": null,
      "outputs": []
    },
    {
      "cell_type": "markdown",
      "source": [
        "#### **Rechercher le A. de Thomas A. Anderson**"
      ],
      "metadata": {
        "id": "y82B3Acr60kz"
      }
    },
    {
      "cell_type": "code",
      "source": [
        "re.findall('A\\.', texte)"
      ],
      "metadata": {
        "colab": {
          "base_uri": "https://localhost:8080/"
        },
        "id": "158mnoaV6WWk",
        "outputId": "d1c1e5b9-3994-4359-b378-308636fc8b7e"
      },
      "execution_count": null,
      "outputs": [
        {
          "output_type": "execute_result",
          "data": {
            "text/plain": [
              "['A.']"
            ]
          },
          "metadata": {},
          "execution_count": 16
        }
      ]
    },
    {
      "cell_type": "markdown",
      "source": [
        "#### **Rechercher la date contenue dans le document**"
      ],
      "metadata": {
        "id": "QwA-Q0tZ8ybu"
      }
    },
    {
      "cell_type": "code",
      "source": [
        "# re.findall('\\d{1,}/\\d{1,}/\\d{2,4}', texte)      # nombre d'un chiffre minimum/nombre d'un chiffre minimum/nombre entre 2 et 4 chiffres\n",
        "# re.findall('\\d{2}/\\d{2}/\\d{4}', texte)      # nombre de 2 chiffres/nombre de 2 chiffres/nombre de 4 chiffres\n",
        "re.findall('\\d+/\\d+/\\d+', texte)"
      ],
      "metadata": {
        "colab": {
          "base_uri": "https://localhost:8080/"
        },
        "id": "Ueo9FS0R65pV",
        "outputId": "06bc3d42-64ef-4ca0-f87d-1d2eb795b8e6"
      },
      "execution_count": null,
      "outputs": [
        {
          "output_type": "execute_result",
          "data": {
            "text/plain": [
              "['31/03/1999']"
            ]
          },
          "metadata": {},
          "execution_count": 18
        }
      ]
    },
    {
      "cell_type": "markdown",
      "source": [
        "#### **Rechercher la note contenue dans le texte, sans pour autant sélectionner une partie de la date (on peut s'aider du caractère espace avant la note)**"
      ],
      "metadata": {
        "id": "PndhkB-w9d8g"
      }
    },
    {
      "cell_type": "code",
      "source": [
        "re.findall('\\s(\\d+/\\d+)', texte)      # attrape ce qui est entre parenthèses seulement\n",
        "# re.findall('\\s\\d+/\\d+', texte)      # attrape l'espace aussi"
      ],
      "metadata": {
        "colab": {
          "base_uri": "https://localhost:8080/"
        },
        "id": "ozAz5vf384sY",
        "outputId": "4805e85a-68ea-4065-ede9-031ce2b9e76f"
      },
      "execution_count": null,
      "outputs": [
        {
          "output_type": "execute_result",
          "data": {
            "text/plain": [
              "['9/10']"
            ]
          },
          "metadata": {},
          "execution_count": 27
        }
      ]
    },
    {
      "cell_type": "markdown",
      "source": [
        "#### **Rechercher les mots ayant au moins 14 caractères**"
      ],
      "metadata": {
        "id": "Wk9w5Bz29txZ"
      }
    },
    {
      "cell_type": "code",
      "source": [
        "re.findall('\\w{14,}', texte)"
      ],
      "metadata": {
        "colab": {
          "base_uri": "https://localhost:8080/"
        },
        "id": "ilJQ1ork9iHz",
        "outputId": "9fded6f6-a0dd-4f11-9d57-024d4fb61de8"
      },
      "execution_count": null,
      "outputs": [
        {
          "output_type": "execute_result",
          "data": {
            "text/plain": [
              "['Nebuchadnezzar']"
            ]
          },
          "metadata": {},
          "execution_count": 28
        }
      ]
    },
    {
      "cell_type": "markdown",
      "source": [
        "#### **Rechercher l'url de la fiche du film sur IMDB (sans les parenthèses)**"
      ],
      "metadata": {
        "id": "MKyr0xqb98bd"
      }
    },
    {
      "cell_type": "code",
      "source": [
        "re.findall(r'\\b((?:https?://)\\S+)\\b', texte)      # merci ChatGPT :D"
      ],
      "metadata": {
        "colab": {
          "base_uri": "https://localhost:8080/"
        },
        "id": "KUuo4MAT90yc",
        "outputId": "44164e37-ba2c-4ad2-d820-5d66d0fc7676"
      },
      "execution_count": null,
      "outputs": [
        {
          "output_type": "execute_result",
          "data": {
            "text/plain": [
              "['https://www.imdb.com/title/tt0133093']"
            ]
          },
          "metadata": {},
          "execution_count": 30
        }
      ]
    },
    {
      "cell_type": "markdown",
      "source": [
        "# **Cas pratique : Pandas x RegEx**"
      ],
      "metadata": {
        "id": "euw6jfSWYaIt"
      }
    },
    {
      "cell_type": "markdown",
      "source": [
        "#### **Extraire un numéro de téléphone et le stocker dans une nouvelle colonne**"
      ],
      "metadata": {
        "id": "ZlKmlLUrZBH8"
      }
    },
    {
      "cell_type": "code",
      "source": [
        "dftest = pd.DataFrame({\"content\": [\"my number is 0612345678\", \"hey, my phone number is 0787654321, bye!\"]})\n",
        "dftest"
      ],
      "metadata": {
        "colab": {
          "base_uri": "https://localhost:8080/",
          "height": 112
        },
        "id": "0MvD42A2YmMG",
        "outputId": "54d5099d-869f-4164-e61b-f2a792d9bf77"
      },
      "execution_count": null,
      "outputs": [
        {
          "output_type": "execute_result",
          "data": {
            "text/plain": [
              "                                    content\n",
              "0                   my number is 0612345678\n",
              "1  hey, my phone number is 0787654321, bye!"
            ],
            "text/html": [
              "\n",
              "  <div id=\"df-c91fc657-c6b0-4796-b518-86044aff2b14\">\n",
              "    <div class=\"colab-df-container\">\n",
              "      <div>\n",
              "<style scoped>\n",
              "    .dataframe tbody tr th:only-of-type {\n",
              "        vertical-align: middle;\n",
              "    }\n",
              "\n",
              "    .dataframe tbody tr th {\n",
              "        vertical-align: top;\n",
              "    }\n",
              "\n",
              "    .dataframe thead th {\n",
              "        text-align: right;\n",
              "    }\n",
              "</style>\n",
              "<table border=\"1\" class=\"dataframe\">\n",
              "  <thead>\n",
              "    <tr style=\"text-align: right;\">\n",
              "      <th></th>\n",
              "      <th>content</th>\n",
              "    </tr>\n",
              "  </thead>\n",
              "  <tbody>\n",
              "    <tr>\n",
              "      <th>0</th>\n",
              "      <td>my number is 0612345678</td>\n",
              "    </tr>\n",
              "    <tr>\n",
              "      <th>1</th>\n",
              "      <td>hey, my phone number is 0787654321, bye!</td>\n",
              "    </tr>\n",
              "  </tbody>\n",
              "</table>\n",
              "</div>\n",
              "      <button class=\"colab-df-convert\" onclick=\"convertToInteractive('df-c91fc657-c6b0-4796-b518-86044aff2b14')\"\n",
              "              title=\"Convert this dataframe to an interactive table.\"\n",
              "              style=\"display:none;\">\n",
              "        \n",
              "  <svg xmlns=\"http://www.w3.org/2000/svg\" height=\"24px\"viewBox=\"0 0 24 24\"\n",
              "       width=\"24px\">\n",
              "    <path d=\"M0 0h24v24H0V0z\" fill=\"none\"/>\n",
              "    <path d=\"M18.56 5.44l.94 2.06.94-2.06 2.06-.94-2.06-.94-.94-2.06-.94 2.06-2.06.94zm-11 1L8.5 8.5l.94-2.06 2.06-.94-2.06-.94L8.5 2.5l-.94 2.06-2.06.94zm10 10l.94 2.06.94-2.06 2.06-.94-2.06-.94-.94-2.06-.94 2.06-2.06.94z\"/><path d=\"M17.41 7.96l-1.37-1.37c-.4-.4-.92-.59-1.43-.59-.52 0-1.04.2-1.43.59L10.3 9.45l-7.72 7.72c-.78.78-.78 2.05 0 2.83L4 21.41c.39.39.9.59 1.41.59.51 0 1.02-.2 1.41-.59l7.78-7.78 2.81-2.81c.8-.78.8-2.07 0-2.86zM5.41 20L4 18.59l7.72-7.72 1.47 1.35L5.41 20z\"/>\n",
              "  </svg>\n",
              "      </button>\n",
              "      \n",
              "  <style>\n",
              "    .colab-df-container {\n",
              "      display:flex;\n",
              "      flex-wrap:wrap;\n",
              "      gap: 12px;\n",
              "    }\n",
              "\n",
              "    .colab-df-convert {\n",
              "      background-color: #E8F0FE;\n",
              "      border: none;\n",
              "      border-radius: 50%;\n",
              "      cursor: pointer;\n",
              "      display: none;\n",
              "      fill: #1967D2;\n",
              "      height: 32px;\n",
              "      padding: 0 0 0 0;\n",
              "      width: 32px;\n",
              "    }\n",
              "\n",
              "    .colab-df-convert:hover {\n",
              "      background-color: #E2EBFA;\n",
              "      box-shadow: 0px 1px 2px rgba(60, 64, 67, 0.3), 0px 1px 3px 1px rgba(60, 64, 67, 0.15);\n",
              "      fill: #174EA6;\n",
              "    }\n",
              "\n",
              "    [theme=dark] .colab-df-convert {\n",
              "      background-color: #3B4455;\n",
              "      fill: #D2E3FC;\n",
              "    }\n",
              "\n",
              "    [theme=dark] .colab-df-convert:hover {\n",
              "      background-color: #434B5C;\n",
              "      box-shadow: 0px 1px 3px 1px rgba(0, 0, 0, 0.15);\n",
              "      filter: drop-shadow(0px 1px 2px rgba(0, 0, 0, 0.3));\n",
              "      fill: #FFFFFF;\n",
              "    }\n",
              "  </style>\n",
              "\n",
              "      <script>\n",
              "        const buttonEl =\n",
              "          document.querySelector('#df-c91fc657-c6b0-4796-b518-86044aff2b14 button.colab-df-convert');\n",
              "        buttonEl.style.display =\n",
              "          google.colab.kernel.accessAllowed ? 'block' : 'none';\n",
              "\n",
              "        async function convertToInteractive(key) {\n",
              "          const element = document.querySelector('#df-c91fc657-c6b0-4796-b518-86044aff2b14');\n",
              "          const dataTable =\n",
              "            await google.colab.kernel.invokeFunction('convertToInteractive',\n",
              "                                                     [key], {});\n",
              "          if (!dataTable) return;\n",
              "\n",
              "          const docLinkHtml = 'Like what you see? Visit the ' +\n",
              "            '<a target=\"_blank\" href=https://colab.research.google.com/notebooks/data_table.ipynb>data table notebook</a>'\n",
              "            + ' to learn more about interactive tables.';\n",
              "          element.innerHTML = '';\n",
              "          dataTable['output_type'] = 'display_data';\n",
              "          await google.colab.output.renderOutput(dataTable, element);\n",
              "          const docLink = document.createElement('div');\n",
              "          docLink.innerHTML = docLinkHtml;\n",
              "          element.appendChild(docLink);\n",
              "        }\n",
              "      </script>\n",
              "    </div>\n",
              "  </div>\n",
              "  "
            ]
          },
          "metadata": {},
          "execution_count": 31
        }
      ]
    },
    {
      "cell_type": "code",
      "source": [
        "text = \"my number is 0612345678\""
      ],
      "metadata": {
        "id": "nHDHYdkHYmJN"
      },
      "execution_count": null,
      "outputs": []
    },
    {
      "cell_type": "code",
      "source": [
        "re.findall('\\d{10}', text)      # les nombres de 10 chiffres"
      ],
      "metadata": {
        "id": "P-6QCslNYl41",
        "colab": {
          "base_uri": "https://localhost:8080/"
        },
        "outputId": "9a0d9bba-8a9f-4ed6-ebe4-c19c6df35bab"
      },
      "execution_count": null,
      "outputs": [
        {
          "output_type": "execute_result",
          "data": {
            "text/plain": [
              "['0612345678']"
            ]
          },
          "metadata": {},
          "execution_count": 34
        }
      ]
    },
    {
      "cell_type": "code",
      "source": [
        "# le résultat est une liste donc [0] pour accéder à la chaîne de caractères dedans\n",
        "re.findall('\\d{10}', text)[0]"
      ],
      "metadata": {
        "colab": {
          "base_uri": "https://localhost:8080/",
          "height": 35
        },
        "id": "rnWBzwT1wRJo",
        "outputId": "b5f11734-1284-4425-c1bb-94646cbf51a8"
      },
      "execution_count": null,
      "outputs": [
        {
          "output_type": "execute_result",
          "data": {
            "text/plain": [
              "'0612345678'"
            ],
            "application/vnd.google.colaboratory.intrinsic+json": {
              "type": "string"
            }
          },
          "metadata": {},
          "execution_count": 92
        }
      ]
    },
    {
      "cell_type": "code",
      "source": [
        "dftest['phone_number'] = dftest['content'].apply(lambda x : re.findall('\\d{10}', x)[0])\n",
        "dftest"
      ],
      "metadata": {
        "colab": {
          "base_uri": "https://localhost:8080/",
          "height": 112
        },
        "id": "8UxUKxUwmUER",
        "outputId": "7d52ae60-6401-4062-da8b-1afac4f02f8b"
      },
      "execution_count": null,
      "outputs": [
        {
          "output_type": "execute_result",
          "data": {
            "text/plain": [
              "                                    content phone_number\n",
              "0                   my number is 0612345678   0612345678\n",
              "1  hey, my phone number is 0787654321, bye!   0787654321"
            ],
            "text/html": [
              "\n",
              "  <div id=\"df-96dcfe3e-61a6-41ee-8b0e-8c2d13ff4c22\">\n",
              "    <div class=\"colab-df-container\">\n",
              "      <div>\n",
              "<style scoped>\n",
              "    .dataframe tbody tr th:only-of-type {\n",
              "        vertical-align: middle;\n",
              "    }\n",
              "\n",
              "    .dataframe tbody tr th {\n",
              "        vertical-align: top;\n",
              "    }\n",
              "\n",
              "    .dataframe thead th {\n",
              "        text-align: right;\n",
              "    }\n",
              "</style>\n",
              "<table border=\"1\" class=\"dataframe\">\n",
              "  <thead>\n",
              "    <tr style=\"text-align: right;\">\n",
              "      <th></th>\n",
              "      <th>content</th>\n",
              "      <th>phone_number</th>\n",
              "    </tr>\n",
              "  </thead>\n",
              "  <tbody>\n",
              "    <tr>\n",
              "      <th>0</th>\n",
              "      <td>my number is 0612345678</td>\n",
              "      <td>0612345678</td>\n",
              "    </tr>\n",
              "    <tr>\n",
              "      <th>1</th>\n",
              "      <td>hey, my phone number is 0787654321, bye!</td>\n",
              "      <td>0787654321</td>\n",
              "    </tr>\n",
              "  </tbody>\n",
              "</table>\n",
              "</div>\n",
              "      <button class=\"colab-df-convert\" onclick=\"convertToInteractive('df-96dcfe3e-61a6-41ee-8b0e-8c2d13ff4c22')\"\n",
              "              title=\"Convert this dataframe to an interactive table.\"\n",
              "              style=\"display:none;\">\n",
              "        \n",
              "  <svg xmlns=\"http://www.w3.org/2000/svg\" height=\"24px\"viewBox=\"0 0 24 24\"\n",
              "       width=\"24px\">\n",
              "    <path d=\"M0 0h24v24H0V0z\" fill=\"none\"/>\n",
              "    <path d=\"M18.56 5.44l.94 2.06.94-2.06 2.06-.94-2.06-.94-.94-2.06-.94 2.06-2.06.94zm-11 1L8.5 8.5l.94-2.06 2.06-.94-2.06-.94L8.5 2.5l-.94 2.06-2.06.94zm10 10l.94 2.06.94-2.06 2.06-.94-2.06-.94-.94-2.06-.94 2.06-2.06.94z\"/><path d=\"M17.41 7.96l-1.37-1.37c-.4-.4-.92-.59-1.43-.59-.52 0-1.04.2-1.43.59L10.3 9.45l-7.72 7.72c-.78.78-.78 2.05 0 2.83L4 21.41c.39.39.9.59 1.41.59.51 0 1.02-.2 1.41-.59l7.78-7.78 2.81-2.81c.8-.78.8-2.07 0-2.86zM5.41 20L4 18.59l7.72-7.72 1.47 1.35L5.41 20z\"/>\n",
              "  </svg>\n",
              "      </button>\n",
              "      \n",
              "  <style>\n",
              "    .colab-df-container {\n",
              "      display:flex;\n",
              "      flex-wrap:wrap;\n",
              "      gap: 12px;\n",
              "    }\n",
              "\n",
              "    .colab-df-convert {\n",
              "      background-color: #E8F0FE;\n",
              "      border: none;\n",
              "      border-radius: 50%;\n",
              "      cursor: pointer;\n",
              "      display: none;\n",
              "      fill: #1967D2;\n",
              "      height: 32px;\n",
              "      padding: 0 0 0 0;\n",
              "      width: 32px;\n",
              "    }\n",
              "\n",
              "    .colab-df-convert:hover {\n",
              "      background-color: #E2EBFA;\n",
              "      box-shadow: 0px 1px 2px rgba(60, 64, 67, 0.3), 0px 1px 3px 1px rgba(60, 64, 67, 0.15);\n",
              "      fill: #174EA6;\n",
              "    }\n",
              "\n",
              "    [theme=dark] .colab-df-convert {\n",
              "      background-color: #3B4455;\n",
              "      fill: #D2E3FC;\n",
              "    }\n",
              "\n",
              "    [theme=dark] .colab-df-convert:hover {\n",
              "      background-color: #434B5C;\n",
              "      box-shadow: 0px 1px 3px 1px rgba(0, 0, 0, 0.15);\n",
              "      filter: drop-shadow(0px 1px 2px rgba(0, 0, 0, 0.3));\n",
              "      fill: #FFFFFF;\n",
              "    }\n",
              "  </style>\n",
              "\n",
              "      <script>\n",
              "        const buttonEl =\n",
              "          document.querySelector('#df-96dcfe3e-61a6-41ee-8b0e-8c2d13ff4c22 button.colab-df-convert');\n",
              "        buttonEl.style.display =\n",
              "          google.colab.kernel.accessAllowed ? 'block' : 'none';\n",
              "\n",
              "        async function convertToInteractive(key) {\n",
              "          const element = document.querySelector('#df-96dcfe3e-61a6-41ee-8b0e-8c2d13ff4c22');\n",
              "          const dataTable =\n",
              "            await google.colab.kernel.invokeFunction('convertToInteractive',\n",
              "                                                     [key], {});\n",
              "          if (!dataTable) return;\n",
              "\n",
              "          const docLinkHtml = 'Like what you see? Visit the ' +\n",
              "            '<a target=\"_blank\" href=https://colab.research.google.com/notebooks/data_table.ipynb>data table notebook</a>'\n",
              "            + ' to learn more about interactive tables.';\n",
              "          element.innerHTML = '';\n",
              "          dataTable['output_type'] = 'display_data';\n",
              "          await google.colab.output.renderOutput(dataTable, element);\n",
              "          const docLink = document.createElement('div');\n",
              "          docLink.innerHTML = docLinkHtml;\n",
              "          element.appendChild(docLink);\n",
              "        }\n",
              "      </script>\n",
              "    </div>\n",
              "  </div>\n",
              "  "
            ]
          },
          "metadata": {},
          "execution_count": 93
        }
      ]
    },
    {
      "cell_type": "markdown",
      "source": [
        "#### **Après scraping sur Welcome to the Jungle : extraire nom, prénom, fournisseur d'emails, nom de l'entreprise, titre du job, lieu, et les stocker dans 6 nouvelles colonnes**"
      ],
      "metadata": {
        "id": "jUkAD_ZFZLQD"
      }
    },
    {
      "cell_type": "code",
      "source": [
        "df = pd.read_csv('https://raw.githubusercontent.com/murpi/wilddata/master/quests/candidates_df.csv')\n",
        "df"
      ],
      "metadata": {
        "colab": {
          "base_uri": "https://localhost:8080/",
          "height": 424
        },
        "id": "np1yaLHyZMGT",
        "outputId": "b2eab107-4b71-4d09-c2a4-04ceff4b3675"
      },
      "execution_count": null,
      "outputs": [
        {
          "output_type": "execute_result",
          "data": {
            "text/plain": [
              "         candidate_email_address  \\\n",
              "0          leo.martin@yandex.com   \n",
              "1        gabriel.legrand@gmx.com   \n",
              "2         raphael.bernard@gmx.us   \n",
              "3           jade.garnier@aol.com   \n",
              "4       louise.dubois@icloud.com   \n",
              "..                           ...   \n",
              "263      noham.rodriguez@aol.com   \n",
              "264     younes.marie@hotmail.com   \n",
              "265  lorenzo.dasilva@outlook.com   \n",
              "266     melina.barbier@gmail.com   \n",
              "267       diane.hubert@yahoo.com   \n",
              "\n",
              "                                                                                                        applied_for  \n",
              "0                              https://www.welcometothejungle.com/fr/companies/mes-allocs/jobs/bras-droit-ceo_paris  \n",
              "1       https://www.welcometothejungle.com/fr/companies/work4/jobs/sdr-sales-development-representative-stage_paris  \n",
              "2                     https://www.welcometothejungle.com/fr/companies/work4/jobs/product-management-associate_paris  \n",
              "3                   https://www.welcometothejungle.com/fr/companies/work4/jobs/stage-customer-success-manager_paris  \n",
              "4                                     https://www.welcometothejungle.com/fr/companies/work4/jobs/inside-sales_paris  \n",
              "..                                                                                                              ...  \n",
              "263     https://www.welcometothejungle.com/fr/companies/letsignit/jobs/sdr-sales-development-representative_seattle  \n",
              "264                  https://www.welcometothejungle.com/fr/companies/letsignit/jobs/inside-sales-mid-market_seattle  \n",
              "265  https://www.welcometothejungle.com/fr/companies/fabernovel/jobs/project-analyst-in-san-francisco_san-francisco  \n",
              "266                            https://www.welcometothejungle.com/fr/companies/jus-mundi/jobs/general-counsel_paris  \n",
              "267               https://www.welcometothejungle.com/fr/companies/skeepers/jobs/account-executive-smb-us-f-h_boston  \n",
              "\n",
              "[268 rows x 2 columns]"
            ],
            "text/html": [
              "\n",
              "  <div id=\"df-4fc3394e-5991-4506-810d-e7a0ffb5b806\">\n",
              "    <div class=\"colab-df-container\">\n",
              "      <div>\n",
              "<style scoped>\n",
              "    .dataframe tbody tr th:only-of-type {\n",
              "        vertical-align: middle;\n",
              "    }\n",
              "\n",
              "    .dataframe tbody tr th {\n",
              "        vertical-align: top;\n",
              "    }\n",
              "\n",
              "    .dataframe thead th {\n",
              "        text-align: right;\n",
              "    }\n",
              "</style>\n",
              "<table border=\"1\" class=\"dataframe\">\n",
              "  <thead>\n",
              "    <tr style=\"text-align: right;\">\n",
              "      <th></th>\n",
              "      <th>candidate_email_address</th>\n",
              "      <th>applied_for</th>\n",
              "    </tr>\n",
              "  </thead>\n",
              "  <tbody>\n",
              "    <tr>\n",
              "      <th>0</th>\n",
              "      <td>leo.martin@yandex.com</td>\n",
              "      <td>https://www.welcometothejungle.com/fr/companies/mes-allocs/jobs/bras-droit-ceo_paris</td>\n",
              "    </tr>\n",
              "    <tr>\n",
              "      <th>1</th>\n",
              "      <td>gabriel.legrand@gmx.com</td>\n",
              "      <td>https://www.welcometothejungle.com/fr/companies/work4/jobs/sdr-sales-development-representative-stage_paris</td>\n",
              "    </tr>\n",
              "    <tr>\n",
              "      <th>2</th>\n",
              "      <td>raphael.bernard@gmx.us</td>\n",
              "      <td>https://www.welcometothejungle.com/fr/companies/work4/jobs/product-management-associate_paris</td>\n",
              "    </tr>\n",
              "    <tr>\n",
              "      <th>3</th>\n",
              "      <td>jade.garnier@aol.com</td>\n",
              "      <td>https://www.welcometothejungle.com/fr/companies/work4/jobs/stage-customer-success-manager_paris</td>\n",
              "    </tr>\n",
              "    <tr>\n",
              "      <th>4</th>\n",
              "      <td>louise.dubois@icloud.com</td>\n",
              "      <td>https://www.welcometothejungle.com/fr/companies/work4/jobs/inside-sales_paris</td>\n",
              "    </tr>\n",
              "    <tr>\n",
              "      <th>...</th>\n",
              "      <td>...</td>\n",
              "      <td>...</td>\n",
              "    </tr>\n",
              "    <tr>\n",
              "      <th>263</th>\n",
              "      <td>noham.rodriguez@aol.com</td>\n",
              "      <td>https://www.welcometothejungle.com/fr/companies/letsignit/jobs/sdr-sales-development-representative_seattle</td>\n",
              "    </tr>\n",
              "    <tr>\n",
              "      <th>264</th>\n",
              "      <td>younes.marie@hotmail.com</td>\n",
              "      <td>https://www.welcometothejungle.com/fr/companies/letsignit/jobs/inside-sales-mid-market_seattle</td>\n",
              "    </tr>\n",
              "    <tr>\n",
              "      <th>265</th>\n",
              "      <td>lorenzo.dasilva@outlook.com</td>\n",
              "      <td>https://www.welcometothejungle.com/fr/companies/fabernovel/jobs/project-analyst-in-san-francisco_san-francisco</td>\n",
              "    </tr>\n",
              "    <tr>\n",
              "      <th>266</th>\n",
              "      <td>melina.barbier@gmail.com</td>\n",
              "      <td>https://www.welcometothejungle.com/fr/companies/jus-mundi/jobs/general-counsel_paris</td>\n",
              "    </tr>\n",
              "    <tr>\n",
              "      <th>267</th>\n",
              "      <td>diane.hubert@yahoo.com</td>\n",
              "      <td>https://www.welcometothejungle.com/fr/companies/skeepers/jobs/account-executive-smb-us-f-h_boston</td>\n",
              "    </tr>\n",
              "  </tbody>\n",
              "</table>\n",
              "<p>268 rows × 2 columns</p>\n",
              "</div>\n",
              "      <button class=\"colab-df-convert\" onclick=\"convertToInteractive('df-4fc3394e-5991-4506-810d-e7a0ffb5b806')\"\n",
              "              title=\"Convert this dataframe to an interactive table.\"\n",
              "              style=\"display:none;\">\n",
              "        \n",
              "  <svg xmlns=\"http://www.w3.org/2000/svg\" height=\"24px\"viewBox=\"0 0 24 24\"\n",
              "       width=\"24px\">\n",
              "    <path d=\"M0 0h24v24H0V0z\" fill=\"none\"/>\n",
              "    <path d=\"M18.56 5.44l.94 2.06.94-2.06 2.06-.94-2.06-.94-.94-2.06-.94 2.06-2.06.94zm-11 1L8.5 8.5l.94-2.06 2.06-.94-2.06-.94L8.5 2.5l-.94 2.06-2.06.94zm10 10l.94 2.06.94-2.06 2.06-.94-2.06-.94-.94-2.06-.94 2.06-2.06.94z\"/><path d=\"M17.41 7.96l-1.37-1.37c-.4-.4-.92-.59-1.43-.59-.52 0-1.04.2-1.43.59L10.3 9.45l-7.72 7.72c-.78.78-.78 2.05 0 2.83L4 21.41c.39.39.9.59 1.41.59.51 0 1.02-.2 1.41-.59l7.78-7.78 2.81-2.81c.8-.78.8-2.07 0-2.86zM5.41 20L4 18.59l7.72-7.72 1.47 1.35L5.41 20z\"/>\n",
              "  </svg>\n",
              "      </button>\n",
              "      \n",
              "  <style>\n",
              "    .colab-df-container {\n",
              "      display:flex;\n",
              "      flex-wrap:wrap;\n",
              "      gap: 12px;\n",
              "    }\n",
              "\n",
              "    .colab-df-convert {\n",
              "      background-color: #E8F0FE;\n",
              "      border: none;\n",
              "      border-radius: 50%;\n",
              "      cursor: pointer;\n",
              "      display: none;\n",
              "      fill: #1967D2;\n",
              "      height: 32px;\n",
              "      padding: 0 0 0 0;\n",
              "      width: 32px;\n",
              "    }\n",
              "\n",
              "    .colab-df-convert:hover {\n",
              "      background-color: #E2EBFA;\n",
              "      box-shadow: 0px 1px 2px rgba(60, 64, 67, 0.3), 0px 1px 3px 1px rgba(60, 64, 67, 0.15);\n",
              "      fill: #174EA6;\n",
              "    }\n",
              "\n",
              "    [theme=dark] .colab-df-convert {\n",
              "      background-color: #3B4455;\n",
              "      fill: #D2E3FC;\n",
              "    }\n",
              "\n",
              "    [theme=dark] .colab-df-convert:hover {\n",
              "      background-color: #434B5C;\n",
              "      box-shadow: 0px 1px 3px 1px rgba(0, 0, 0, 0.15);\n",
              "      filter: drop-shadow(0px 1px 2px rgba(0, 0, 0, 0.3));\n",
              "      fill: #FFFFFF;\n",
              "    }\n",
              "  </style>\n",
              "\n",
              "      <script>\n",
              "        const buttonEl =\n",
              "          document.querySelector('#df-4fc3394e-5991-4506-810d-e7a0ffb5b806 button.colab-df-convert');\n",
              "        buttonEl.style.display =\n",
              "          google.colab.kernel.accessAllowed ? 'block' : 'none';\n",
              "\n",
              "        async function convertToInteractive(key) {\n",
              "          const element = document.querySelector('#df-4fc3394e-5991-4506-810d-e7a0ffb5b806');\n",
              "          const dataTable =\n",
              "            await google.colab.kernel.invokeFunction('convertToInteractive',\n",
              "                                                     [key], {});\n",
              "          if (!dataTable) return;\n",
              "\n",
              "          const docLinkHtml = 'Like what you see? Visit the ' +\n",
              "            '<a target=\"_blank\" href=https://colab.research.google.com/notebooks/data_table.ipynb>data table notebook</a>'\n",
              "            + ' to learn more about interactive tables.';\n",
              "          element.innerHTML = '';\n",
              "          dataTable['output_type'] = 'display_data';\n",
              "          await google.colab.output.renderOutput(dataTable, element);\n",
              "          const docLink = document.createElement('div');\n",
              "          docLink.innerHTML = docLinkHtml;\n",
              "          element.appendChild(docLink);\n",
              "        }\n",
              "      </script>\n",
              "    </div>\n",
              "  </div>\n",
              "  "
            ]
          },
          "metadata": {},
          "execution_count": 94
        }
      ]
    },
    {
      "cell_type": "markdown",
      "source": [
        "###### Colonne candidate_email_address"
      ],
      "metadata": {
        "id": "JSvADyLwbgIh"
      }
    },
    {
      "cell_type": "code",
      "source": [
        "# 1. Colonne candidate_email_address\n",
        "mail = 'leo.martin@yandex.com'"
      ],
      "metadata": {
        "id": "FRJgAI8G-Co3"
      },
      "execution_count": null,
      "outputs": []
    },
    {
      "cell_type": "code",
      "source": [
        "# Extraire nom, prénom, et fournisseur d'emails en une seule commande\n",
        "re.findall('\\w+', mail)"
      ],
      "metadata": {
        "colab": {
          "base_uri": "https://localhost:8080/"
        },
        "id": "Xa8r0JjjZxLZ",
        "outputId": "6dc6d5c1-f6b5-4d69-dc76-159f56c8f1da"
      },
      "execution_count": null,
      "outputs": [
        {
          "output_type": "execute_result",
          "data": {
            "text/plain": [
              "['leo', 'martin', 'yandex', 'com']"
            ]
          },
          "metadata": {},
          "execution_count": 43
        }
      ]
    },
    {
      "cell_type": "code",
      "source": [
        "re.findall('\\w+', mail)[0].title()    # la méthode title passe la première lettre en majuscule"
      ],
      "metadata": {
        "colab": {
          "base_uri": "https://localhost:8080/",
          "height": 35
        },
        "id": "QSTOeIDTqm5s",
        "outputId": "a00575a6-156f-4dc7-c627-492f216c6df6"
      },
      "execution_count": null,
      "outputs": [
        {
          "output_type": "execute_result",
          "data": {
            "text/plain": [
              "'Leo'"
            ],
            "application/vnd.google.colaboratory.intrinsic+json": {
              "type": "string"
            }
          },
          "metadata": {},
          "execution_count": 76
        }
      ]
    },
    {
      "cell_type": "markdown",
      "source": [
        "###### Colonne applied_for"
      ],
      "metadata": {
        "id": "K9ED7h3qbkAU"
      }
    },
    {
      "cell_type": "code",
      "source": [
        "# 2. Colonne applied_for\n",
        "url = 'https://www.welcometothejungle.com/fr/companies/jus mundi/jobs/general-counsel_paris'"
      ],
      "metadata": {
        "id": "O2TlrPyWRomV"
      },
      "execution_count": null,
      "outputs": []
    },
    {
      "cell_type": "code",
      "source": [
        "# Nom de l'entreprise = chercher tout ce qui se trouve entre companies/ et /jobs\n",
        "\" \".join(re.findall('companies\\/(.*)\\/jobs', url)[0].split('-')).title()"
      ],
      "metadata": {
        "id": "8P9DYiX1TBOX",
        "colab": {
          "base_uri": "https://localhost:8080/",
          "height": 35
        },
        "outputId": "76b00268-3187-48fa-e396-7ae9f75c8ce3"
      },
      "execution_count": null,
      "outputs": [
        {
          "output_type": "execute_result",
          "data": {
            "text/plain": [
              "'Jus Mundi'"
            ],
            "application/vnd.google.colaboratory.intrinsic+json": {
              "type": "string"
            }
          },
          "metadata": {},
          "execution_count": 83
        }
      ]
    },
    {
      "cell_type": "code",
      "source": [
        "# Titre du job = chercher tout ce qui se trouve entre jobs/ et _\n",
        "\" \".join(re.findall('jobs/(.*)_', url)[0].split('-')).title()"
      ],
      "metadata": {
        "id": "gC3e8s0fbEuU",
        "colab": {
          "base_uri": "https://localhost:8080/",
          "height": 35
        },
        "outputId": "494ff9eb-a55a-4c4a-98f3-7516b82044b1"
      },
      "execution_count": null,
      "outputs": [
        {
          "output_type": "execute_result",
          "data": {
            "text/plain": [
              "'General Counsel'"
            ],
            "application/vnd.google.colaboratory.intrinsic+json": {
              "type": "string"
            }
          },
          "metadata": {},
          "execution_count": 73
        }
      ]
    },
    {
      "cell_type": "code",
      "source": [
        "# Lieu = trouver tout ce qui se trouve après _\n",
        "re.findall('_(.*)', url)[0].title()"
      ],
      "metadata": {
        "id": "xg-bPqM6bR1Z",
        "colab": {
          "base_uri": "https://localhost:8080/",
          "height": 35
        },
        "outputId": "78a7ec0d-2c45-464d-9325-f1267893656a"
      },
      "execution_count": null,
      "outputs": [
        {
          "output_type": "execute_result",
          "data": {
            "text/plain": [
              "'Paris'"
            ],
            "application/vnd.google.colaboratory.intrinsic+json": {
              "type": "string"
            }
          },
          "metadata": {},
          "execution_count": 108
        }
      ]
    },
    {
      "cell_type": "markdown",
      "source": [
        "###### Backup"
      ],
      "metadata": {
        "id": "MoZemm-acGbw"
      }
    },
    {
      "cell_type": "code",
      "source": [
        "# Nom entreprise\n",
        "re.findall('companies\\/(.*)\\/jobs', url)\n",
        "\n",
        "# Titre job\n",
        "re.findall('jobs\\/(.*?)\\_', url)\n",
        "re.findall('jobs\\/(.*)\\_', url)\n",
        "\n",
        "# Lieu\n",
        "re.findall('\\_(.*)', url)"
      ],
      "metadata": {
        "id": "NBUzNpjKS28V",
        "colab": {
          "base_uri": "https://localhost:8080/"
        },
        "outputId": "2fc6fb12-4ba2-427a-af24-d66cdb68bf3d"
      },
      "execution_count": null,
      "outputs": [
        {
          "output_type": "execute_result",
          "data": {
            "text/plain": [
              "['jus-mundi']"
            ]
          },
          "metadata": {},
          "execution_count": 64
        }
      ]
    },
    {
      "cell_type": "markdown",
      "source": [
        "###### **Apply \\o/**"
      ],
      "metadata": {
        "id": "0BoRdo7ecSP1"
      }
    },
    {
      "cell_type": "code",
      "source": [
        "# On utilise la fonction apply de Pandas et les RegEx définies plus haut pour stocker chaque champ qu'on a extrait dans une nouvelle colonne\n",
        "df.columns"
      ],
      "metadata": {
        "colab": {
          "base_uri": "https://localhost:8080/"
        },
        "id": "ebxOfEYeqfWA",
        "outputId": "fd9977ac-0bc4-456e-b738-d0dfe355d96c"
      },
      "execution_count": null,
      "outputs": [
        {
          "output_type": "execute_result",
          "data": {
            "text/plain": [
              "Index(['candidate_email_address', 'applied_for'], dtype='object')"
            ]
          },
          "metadata": {},
          "execution_count": 109
        }
      ]
    },
    {
      "cell_type": "code",
      "source": [
        "df['first_name'] = df['candidate_email_address'].apply(lambda x : re.findall('\\w+', x)[0].title())\n",
        "df"
      ],
      "metadata": {
        "id": "GXIpnCCmcVUP",
        "colab": {
          "base_uri": "https://localhost:8080/",
          "height": 424
        },
        "outputId": "33979c94-b7fc-4d8b-b495-3f82f5d6aa14"
      },
      "execution_count": null,
      "outputs": [
        {
          "output_type": "execute_result",
          "data": {
            "text/plain": [
              "         candidate_email_address  \\\n",
              "0          leo.martin@yandex.com   \n",
              "1        gabriel.legrand@gmx.com   \n",
              "2         raphael.bernard@gmx.us   \n",
              "3           jade.garnier@aol.com   \n",
              "4       louise.dubois@icloud.com   \n",
              "..                           ...   \n",
              "263      noham.rodriguez@aol.com   \n",
              "264     younes.marie@hotmail.com   \n",
              "265  lorenzo.dasilva@outlook.com   \n",
              "266     melina.barbier@gmail.com   \n",
              "267       diane.hubert@yahoo.com   \n",
              "\n",
              "                                                                                                        applied_for  \\\n",
              "0                              https://www.welcometothejungle.com/fr/companies/mes-allocs/jobs/bras-droit-ceo_paris   \n",
              "1       https://www.welcometothejungle.com/fr/companies/work4/jobs/sdr-sales-development-representative-stage_paris   \n",
              "2                     https://www.welcometothejungle.com/fr/companies/work4/jobs/product-management-associate_paris   \n",
              "3                   https://www.welcometothejungle.com/fr/companies/work4/jobs/stage-customer-success-manager_paris   \n",
              "4                                     https://www.welcometothejungle.com/fr/companies/work4/jobs/inside-sales_paris   \n",
              "..                                                                                                              ...   \n",
              "263     https://www.welcometothejungle.com/fr/companies/letsignit/jobs/sdr-sales-development-representative_seattle   \n",
              "264                  https://www.welcometothejungle.com/fr/companies/letsignit/jobs/inside-sales-mid-market_seattle   \n",
              "265  https://www.welcometothejungle.com/fr/companies/fabernovel/jobs/project-analyst-in-san-francisco_san-francisco   \n",
              "266                            https://www.welcometothejungle.com/fr/companies/jus-mundi/jobs/general-counsel_paris   \n",
              "267               https://www.welcometothejungle.com/fr/companies/skeepers/jobs/account-executive-smb-us-f-h_boston   \n",
              "\n",
              "    first_name  \n",
              "0          Leo  \n",
              "1      Gabriel  \n",
              "2      Raphael  \n",
              "3         Jade  \n",
              "4       Louise  \n",
              "..         ...  \n",
              "263      Noham  \n",
              "264     Younes  \n",
              "265    Lorenzo  \n",
              "266     Melina  \n",
              "267      Diane  \n",
              "\n",
              "[268 rows x 3 columns]"
            ],
            "text/html": [
              "\n",
              "  <div id=\"df-caa4663c-a0fc-4873-856b-8926f97ce08c\">\n",
              "    <div class=\"colab-df-container\">\n",
              "      <div>\n",
              "<style scoped>\n",
              "    .dataframe tbody tr th:only-of-type {\n",
              "        vertical-align: middle;\n",
              "    }\n",
              "\n",
              "    .dataframe tbody tr th {\n",
              "        vertical-align: top;\n",
              "    }\n",
              "\n",
              "    .dataframe thead th {\n",
              "        text-align: right;\n",
              "    }\n",
              "</style>\n",
              "<table border=\"1\" class=\"dataframe\">\n",
              "  <thead>\n",
              "    <tr style=\"text-align: right;\">\n",
              "      <th></th>\n",
              "      <th>candidate_email_address</th>\n",
              "      <th>applied_for</th>\n",
              "      <th>first_name</th>\n",
              "    </tr>\n",
              "  </thead>\n",
              "  <tbody>\n",
              "    <tr>\n",
              "      <th>0</th>\n",
              "      <td>leo.martin@yandex.com</td>\n",
              "      <td>https://www.welcometothejungle.com/fr/companies/mes-allocs/jobs/bras-droit-ceo_paris</td>\n",
              "      <td>Leo</td>\n",
              "    </tr>\n",
              "    <tr>\n",
              "      <th>1</th>\n",
              "      <td>gabriel.legrand@gmx.com</td>\n",
              "      <td>https://www.welcometothejungle.com/fr/companies/work4/jobs/sdr-sales-development-representative-stage_paris</td>\n",
              "      <td>Gabriel</td>\n",
              "    </tr>\n",
              "    <tr>\n",
              "      <th>2</th>\n",
              "      <td>raphael.bernard@gmx.us</td>\n",
              "      <td>https://www.welcometothejungle.com/fr/companies/work4/jobs/product-management-associate_paris</td>\n",
              "      <td>Raphael</td>\n",
              "    </tr>\n",
              "    <tr>\n",
              "      <th>3</th>\n",
              "      <td>jade.garnier@aol.com</td>\n",
              "      <td>https://www.welcometothejungle.com/fr/companies/work4/jobs/stage-customer-success-manager_paris</td>\n",
              "      <td>Jade</td>\n",
              "    </tr>\n",
              "    <tr>\n",
              "      <th>4</th>\n",
              "      <td>louise.dubois@icloud.com</td>\n",
              "      <td>https://www.welcometothejungle.com/fr/companies/work4/jobs/inside-sales_paris</td>\n",
              "      <td>Louise</td>\n",
              "    </tr>\n",
              "    <tr>\n",
              "      <th>...</th>\n",
              "      <td>...</td>\n",
              "      <td>...</td>\n",
              "      <td>...</td>\n",
              "    </tr>\n",
              "    <tr>\n",
              "      <th>263</th>\n",
              "      <td>noham.rodriguez@aol.com</td>\n",
              "      <td>https://www.welcometothejungle.com/fr/companies/letsignit/jobs/sdr-sales-development-representative_seattle</td>\n",
              "      <td>Noham</td>\n",
              "    </tr>\n",
              "    <tr>\n",
              "      <th>264</th>\n",
              "      <td>younes.marie@hotmail.com</td>\n",
              "      <td>https://www.welcometothejungle.com/fr/companies/letsignit/jobs/inside-sales-mid-market_seattle</td>\n",
              "      <td>Younes</td>\n",
              "    </tr>\n",
              "    <tr>\n",
              "      <th>265</th>\n",
              "      <td>lorenzo.dasilva@outlook.com</td>\n",
              "      <td>https://www.welcometothejungle.com/fr/companies/fabernovel/jobs/project-analyst-in-san-francisco_san-francisco</td>\n",
              "      <td>Lorenzo</td>\n",
              "    </tr>\n",
              "    <tr>\n",
              "      <th>266</th>\n",
              "      <td>melina.barbier@gmail.com</td>\n",
              "      <td>https://www.welcometothejungle.com/fr/companies/jus-mundi/jobs/general-counsel_paris</td>\n",
              "      <td>Melina</td>\n",
              "    </tr>\n",
              "    <tr>\n",
              "      <th>267</th>\n",
              "      <td>diane.hubert@yahoo.com</td>\n",
              "      <td>https://www.welcometothejungle.com/fr/companies/skeepers/jobs/account-executive-smb-us-f-h_boston</td>\n",
              "      <td>Diane</td>\n",
              "    </tr>\n",
              "  </tbody>\n",
              "</table>\n",
              "<p>268 rows × 3 columns</p>\n",
              "</div>\n",
              "      <button class=\"colab-df-convert\" onclick=\"convertToInteractive('df-caa4663c-a0fc-4873-856b-8926f97ce08c')\"\n",
              "              title=\"Convert this dataframe to an interactive table.\"\n",
              "              style=\"display:none;\">\n",
              "        \n",
              "  <svg xmlns=\"http://www.w3.org/2000/svg\" height=\"24px\"viewBox=\"0 0 24 24\"\n",
              "       width=\"24px\">\n",
              "    <path d=\"M0 0h24v24H0V0z\" fill=\"none\"/>\n",
              "    <path d=\"M18.56 5.44l.94 2.06.94-2.06 2.06-.94-2.06-.94-.94-2.06-.94 2.06-2.06.94zm-11 1L8.5 8.5l.94-2.06 2.06-.94-2.06-.94L8.5 2.5l-.94 2.06-2.06.94zm10 10l.94 2.06.94-2.06 2.06-.94-2.06-.94-.94-2.06-.94 2.06-2.06.94z\"/><path d=\"M17.41 7.96l-1.37-1.37c-.4-.4-.92-.59-1.43-.59-.52 0-1.04.2-1.43.59L10.3 9.45l-7.72 7.72c-.78.78-.78 2.05 0 2.83L4 21.41c.39.39.9.59 1.41.59.51 0 1.02-.2 1.41-.59l7.78-7.78 2.81-2.81c.8-.78.8-2.07 0-2.86zM5.41 20L4 18.59l7.72-7.72 1.47 1.35L5.41 20z\"/>\n",
              "  </svg>\n",
              "      </button>\n",
              "      \n",
              "  <style>\n",
              "    .colab-df-container {\n",
              "      display:flex;\n",
              "      flex-wrap:wrap;\n",
              "      gap: 12px;\n",
              "    }\n",
              "\n",
              "    .colab-df-convert {\n",
              "      background-color: #E8F0FE;\n",
              "      border: none;\n",
              "      border-radius: 50%;\n",
              "      cursor: pointer;\n",
              "      display: none;\n",
              "      fill: #1967D2;\n",
              "      height: 32px;\n",
              "      padding: 0 0 0 0;\n",
              "      width: 32px;\n",
              "    }\n",
              "\n",
              "    .colab-df-convert:hover {\n",
              "      background-color: #E2EBFA;\n",
              "      box-shadow: 0px 1px 2px rgba(60, 64, 67, 0.3), 0px 1px 3px 1px rgba(60, 64, 67, 0.15);\n",
              "      fill: #174EA6;\n",
              "    }\n",
              "\n",
              "    [theme=dark] .colab-df-convert {\n",
              "      background-color: #3B4455;\n",
              "      fill: #D2E3FC;\n",
              "    }\n",
              "\n",
              "    [theme=dark] .colab-df-convert:hover {\n",
              "      background-color: #434B5C;\n",
              "      box-shadow: 0px 1px 3px 1px rgba(0, 0, 0, 0.15);\n",
              "      filter: drop-shadow(0px 1px 2px rgba(0, 0, 0, 0.3));\n",
              "      fill: #FFFFFF;\n",
              "    }\n",
              "  </style>\n",
              "\n",
              "      <script>\n",
              "        const buttonEl =\n",
              "          document.querySelector('#df-caa4663c-a0fc-4873-856b-8926f97ce08c button.colab-df-convert');\n",
              "        buttonEl.style.display =\n",
              "          google.colab.kernel.accessAllowed ? 'block' : 'none';\n",
              "\n",
              "        async function convertToInteractive(key) {\n",
              "          const element = document.querySelector('#df-caa4663c-a0fc-4873-856b-8926f97ce08c');\n",
              "          const dataTable =\n",
              "            await google.colab.kernel.invokeFunction('convertToInteractive',\n",
              "                                                     [key], {});\n",
              "          if (!dataTable) return;\n",
              "\n",
              "          const docLinkHtml = 'Like what you see? Visit the ' +\n",
              "            '<a target=\"_blank\" href=https://colab.research.google.com/notebooks/data_table.ipynb>data table notebook</a>'\n",
              "            + ' to learn more about interactive tables.';\n",
              "          element.innerHTML = '';\n",
              "          dataTable['output_type'] = 'display_data';\n",
              "          await google.colab.output.renderOutput(dataTable, element);\n",
              "          const docLink = document.createElement('div');\n",
              "          docLink.innerHTML = docLinkHtml;\n",
              "          element.appendChild(docLink);\n",
              "        }\n",
              "      </script>\n",
              "    </div>\n",
              "  </div>\n",
              "  "
            ]
          },
          "metadata": {},
          "execution_count": 110
        }
      ]
    },
    {
      "cell_type": "code",
      "source": [
        "df['last_name'] = df['candidate_email_address'].apply(lambda x : re.findall('\\w+', x)[1].title())\n",
        "df"
      ],
      "metadata": {
        "id": "dItjduLicwi_",
        "colab": {
          "base_uri": "https://localhost:8080/",
          "height": 424
        },
        "outputId": "75524621-a0a2-4f33-f8b9-3469bb819881"
      },
      "execution_count": null,
      "outputs": [
        {
          "output_type": "execute_result",
          "data": {
            "text/plain": [
              "         candidate_email_address  \\\n",
              "0          leo.martin@yandex.com   \n",
              "1        gabriel.legrand@gmx.com   \n",
              "2         raphael.bernard@gmx.us   \n",
              "3           jade.garnier@aol.com   \n",
              "4       louise.dubois@icloud.com   \n",
              "..                           ...   \n",
              "263      noham.rodriguez@aol.com   \n",
              "264     younes.marie@hotmail.com   \n",
              "265  lorenzo.dasilva@outlook.com   \n",
              "266     melina.barbier@gmail.com   \n",
              "267       diane.hubert@yahoo.com   \n",
              "\n",
              "                                                                                                        applied_for  \\\n",
              "0                              https://www.welcometothejungle.com/fr/companies/mes-allocs/jobs/bras-droit-ceo_paris   \n",
              "1       https://www.welcometothejungle.com/fr/companies/work4/jobs/sdr-sales-development-representative-stage_paris   \n",
              "2                     https://www.welcometothejungle.com/fr/companies/work4/jobs/product-management-associate_paris   \n",
              "3                   https://www.welcometothejungle.com/fr/companies/work4/jobs/stage-customer-success-manager_paris   \n",
              "4                                     https://www.welcometothejungle.com/fr/companies/work4/jobs/inside-sales_paris   \n",
              "..                                                                                                              ...   \n",
              "263     https://www.welcometothejungle.com/fr/companies/letsignit/jobs/sdr-sales-development-representative_seattle   \n",
              "264                  https://www.welcometothejungle.com/fr/companies/letsignit/jobs/inside-sales-mid-market_seattle   \n",
              "265  https://www.welcometothejungle.com/fr/companies/fabernovel/jobs/project-analyst-in-san-francisco_san-francisco   \n",
              "266                            https://www.welcometothejungle.com/fr/companies/jus-mundi/jobs/general-counsel_paris   \n",
              "267               https://www.welcometothejungle.com/fr/companies/skeepers/jobs/account-executive-smb-us-f-h_boston   \n",
              "\n",
              "    first_name  last_name  \n",
              "0          Leo     Martin  \n",
              "1      Gabriel    Legrand  \n",
              "2      Raphael    Bernard  \n",
              "3         Jade    Garnier  \n",
              "4       Louise     Dubois  \n",
              "..         ...        ...  \n",
              "263      Noham  Rodriguez  \n",
              "264     Younes      Marie  \n",
              "265    Lorenzo    Dasilva  \n",
              "266     Melina    Barbier  \n",
              "267      Diane     Hubert  \n",
              "\n",
              "[268 rows x 4 columns]"
            ],
            "text/html": [
              "\n",
              "  <div id=\"df-9a230032-1d38-4c56-b44d-9ebba071b7f3\">\n",
              "    <div class=\"colab-df-container\">\n",
              "      <div>\n",
              "<style scoped>\n",
              "    .dataframe tbody tr th:only-of-type {\n",
              "        vertical-align: middle;\n",
              "    }\n",
              "\n",
              "    .dataframe tbody tr th {\n",
              "        vertical-align: top;\n",
              "    }\n",
              "\n",
              "    .dataframe thead th {\n",
              "        text-align: right;\n",
              "    }\n",
              "</style>\n",
              "<table border=\"1\" class=\"dataframe\">\n",
              "  <thead>\n",
              "    <tr style=\"text-align: right;\">\n",
              "      <th></th>\n",
              "      <th>candidate_email_address</th>\n",
              "      <th>applied_for</th>\n",
              "      <th>first_name</th>\n",
              "      <th>last_name</th>\n",
              "    </tr>\n",
              "  </thead>\n",
              "  <tbody>\n",
              "    <tr>\n",
              "      <th>0</th>\n",
              "      <td>leo.martin@yandex.com</td>\n",
              "      <td>https://www.welcometothejungle.com/fr/companies/mes-allocs/jobs/bras-droit-ceo_paris</td>\n",
              "      <td>Leo</td>\n",
              "      <td>Martin</td>\n",
              "    </tr>\n",
              "    <tr>\n",
              "      <th>1</th>\n",
              "      <td>gabriel.legrand@gmx.com</td>\n",
              "      <td>https://www.welcometothejungle.com/fr/companies/work4/jobs/sdr-sales-development-representative-stage_paris</td>\n",
              "      <td>Gabriel</td>\n",
              "      <td>Legrand</td>\n",
              "    </tr>\n",
              "    <tr>\n",
              "      <th>2</th>\n",
              "      <td>raphael.bernard@gmx.us</td>\n",
              "      <td>https://www.welcometothejungle.com/fr/companies/work4/jobs/product-management-associate_paris</td>\n",
              "      <td>Raphael</td>\n",
              "      <td>Bernard</td>\n",
              "    </tr>\n",
              "    <tr>\n",
              "      <th>3</th>\n",
              "      <td>jade.garnier@aol.com</td>\n",
              "      <td>https://www.welcometothejungle.com/fr/companies/work4/jobs/stage-customer-success-manager_paris</td>\n",
              "      <td>Jade</td>\n",
              "      <td>Garnier</td>\n",
              "    </tr>\n",
              "    <tr>\n",
              "      <th>4</th>\n",
              "      <td>louise.dubois@icloud.com</td>\n",
              "      <td>https://www.welcometothejungle.com/fr/companies/work4/jobs/inside-sales_paris</td>\n",
              "      <td>Louise</td>\n",
              "      <td>Dubois</td>\n",
              "    </tr>\n",
              "    <tr>\n",
              "      <th>...</th>\n",
              "      <td>...</td>\n",
              "      <td>...</td>\n",
              "      <td>...</td>\n",
              "      <td>...</td>\n",
              "    </tr>\n",
              "    <tr>\n",
              "      <th>263</th>\n",
              "      <td>noham.rodriguez@aol.com</td>\n",
              "      <td>https://www.welcometothejungle.com/fr/companies/letsignit/jobs/sdr-sales-development-representative_seattle</td>\n",
              "      <td>Noham</td>\n",
              "      <td>Rodriguez</td>\n",
              "    </tr>\n",
              "    <tr>\n",
              "      <th>264</th>\n",
              "      <td>younes.marie@hotmail.com</td>\n",
              "      <td>https://www.welcometothejungle.com/fr/companies/letsignit/jobs/inside-sales-mid-market_seattle</td>\n",
              "      <td>Younes</td>\n",
              "      <td>Marie</td>\n",
              "    </tr>\n",
              "    <tr>\n",
              "      <th>265</th>\n",
              "      <td>lorenzo.dasilva@outlook.com</td>\n",
              "      <td>https://www.welcometothejungle.com/fr/companies/fabernovel/jobs/project-analyst-in-san-francisco_san-francisco</td>\n",
              "      <td>Lorenzo</td>\n",
              "      <td>Dasilva</td>\n",
              "    </tr>\n",
              "    <tr>\n",
              "      <th>266</th>\n",
              "      <td>melina.barbier@gmail.com</td>\n",
              "      <td>https://www.welcometothejungle.com/fr/companies/jus-mundi/jobs/general-counsel_paris</td>\n",
              "      <td>Melina</td>\n",
              "      <td>Barbier</td>\n",
              "    </tr>\n",
              "    <tr>\n",
              "      <th>267</th>\n",
              "      <td>diane.hubert@yahoo.com</td>\n",
              "      <td>https://www.welcometothejungle.com/fr/companies/skeepers/jobs/account-executive-smb-us-f-h_boston</td>\n",
              "      <td>Diane</td>\n",
              "      <td>Hubert</td>\n",
              "    </tr>\n",
              "  </tbody>\n",
              "</table>\n",
              "<p>268 rows × 4 columns</p>\n",
              "</div>\n",
              "      <button class=\"colab-df-convert\" onclick=\"convertToInteractive('df-9a230032-1d38-4c56-b44d-9ebba071b7f3')\"\n",
              "              title=\"Convert this dataframe to an interactive table.\"\n",
              "              style=\"display:none;\">\n",
              "        \n",
              "  <svg xmlns=\"http://www.w3.org/2000/svg\" height=\"24px\"viewBox=\"0 0 24 24\"\n",
              "       width=\"24px\">\n",
              "    <path d=\"M0 0h24v24H0V0z\" fill=\"none\"/>\n",
              "    <path d=\"M18.56 5.44l.94 2.06.94-2.06 2.06-.94-2.06-.94-.94-2.06-.94 2.06-2.06.94zm-11 1L8.5 8.5l.94-2.06 2.06-.94-2.06-.94L8.5 2.5l-.94 2.06-2.06.94zm10 10l.94 2.06.94-2.06 2.06-.94-2.06-.94-.94-2.06-.94 2.06-2.06.94z\"/><path d=\"M17.41 7.96l-1.37-1.37c-.4-.4-.92-.59-1.43-.59-.52 0-1.04.2-1.43.59L10.3 9.45l-7.72 7.72c-.78.78-.78 2.05 0 2.83L4 21.41c.39.39.9.59 1.41.59.51 0 1.02-.2 1.41-.59l7.78-7.78 2.81-2.81c.8-.78.8-2.07 0-2.86zM5.41 20L4 18.59l7.72-7.72 1.47 1.35L5.41 20z\"/>\n",
              "  </svg>\n",
              "      </button>\n",
              "      \n",
              "  <style>\n",
              "    .colab-df-container {\n",
              "      display:flex;\n",
              "      flex-wrap:wrap;\n",
              "      gap: 12px;\n",
              "    }\n",
              "\n",
              "    .colab-df-convert {\n",
              "      background-color: #E8F0FE;\n",
              "      border: none;\n",
              "      border-radius: 50%;\n",
              "      cursor: pointer;\n",
              "      display: none;\n",
              "      fill: #1967D2;\n",
              "      height: 32px;\n",
              "      padding: 0 0 0 0;\n",
              "      width: 32px;\n",
              "    }\n",
              "\n",
              "    .colab-df-convert:hover {\n",
              "      background-color: #E2EBFA;\n",
              "      box-shadow: 0px 1px 2px rgba(60, 64, 67, 0.3), 0px 1px 3px 1px rgba(60, 64, 67, 0.15);\n",
              "      fill: #174EA6;\n",
              "    }\n",
              "\n",
              "    [theme=dark] .colab-df-convert {\n",
              "      background-color: #3B4455;\n",
              "      fill: #D2E3FC;\n",
              "    }\n",
              "\n",
              "    [theme=dark] .colab-df-convert:hover {\n",
              "      background-color: #434B5C;\n",
              "      box-shadow: 0px 1px 3px 1px rgba(0, 0, 0, 0.15);\n",
              "      filter: drop-shadow(0px 1px 2px rgba(0, 0, 0, 0.3));\n",
              "      fill: #FFFFFF;\n",
              "    }\n",
              "  </style>\n",
              "\n",
              "      <script>\n",
              "        const buttonEl =\n",
              "          document.querySelector('#df-9a230032-1d38-4c56-b44d-9ebba071b7f3 button.colab-df-convert');\n",
              "        buttonEl.style.display =\n",
              "          google.colab.kernel.accessAllowed ? 'block' : 'none';\n",
              "\n",
              "        async function convertToInteractive(key) {\n",
              "          const element = document.querySelector('#df-9a230032-1d38-4c56-b44d-9ebba071b7f3');\n",
              "          const dataTable =\n",
              "            await google.colab.kernel.invokeFunction('convertToInteractive',\n",
              "                                                     [key], {});\n",
              "          if (!dataTable) return;\n",
              "\n",
              "          const docLinkHtml = 'Like what you see? Visit the ' +\n",
              "            '<a target=\"_blank\" href=https://colab.research.google.com/notebooks/data_table.ipynb>data table notebook</a>'\n",
              "            + ' to learn more about interactive tables.';\n",
              "          element.innerHTML = '';\n",
              "          dataTable['output_type'] = 'display_data';\n",
              "          await google.colab.output.renderOutput(dataTable, element);\n",
              "          const docLink = document.createElement('div');\n",
              "          docLink.innerHTML = docLinkHtml;\n",
              "          element.appendChild(docLink);\n",
              "        }\n",
              "      </script>\n",
              "    </div>\n",
              "  </div>\n",
              "  "
            ]
          },
          "metadata": {},
          "execution_count": 111
        }
      ]
    },
    {
      "cell_type": "code",
      "source": [
        "df['email_provider'] =  df['candidate_email_address'].apply(lambda x : re.findall('\\w+', x)[2].title())\n",
        "df"
      ],
      "metadata": {
        "id": "4AwX1BkHcxAA",
        "colab": {
          "base_uri": "https://localhost:8080/",
          "height": 520
        },
        "outputId": "4fb6047d-21bb-47af-c35f-5ad360309d58"
      },
      "execution_count": null,
      "outputs": [
        {
          "output_type": "execute_result",
          "data": {
            "text/plain": [
              "         candidate_email_address  \\\n",
              "0          leo.martin@yandex.com   \n",
              "1        gabriel.legrand@gmx.com   \n",
              "2         raphael.bernard@gmx.us   \n",
              "3           jade.garnier@aol.com   \n",
              "4       louise.dubois@icloud.com   \n",
              "..                           ...   \n",
              "263      noham.rodriguez@aol.com   \n",
              "264     younes.marie@hotmail.com   \n",
              "265  lorenzo.dasilva@outlook.com   \n",
              "266     melina.barbier@gmail.com   \n",
              "267       diane.hubert@yahoo.com   \n",
              "\n",
              "                                                                                                        applied_for  \\\n",
              "0                              https://www.welcometothejungle.com/fr/companies/mes-allocs/jobs/bras-droit-ceo_paris   \n",
              "1       https://www.welcometothejungle.com/fr/companies/work4/jobs/sdr-sales-development-representative-stage_paris   \n",
              "2                     https://www.welcometothejungle.com/fr/companies/work4/jobs/product-management-associate_paris   \n",
              "3                   https://www.welcometothejungle.com/fr/companies/work4/jobs/stage-customer-success-manager_paris   \n",
              "4                                     https://www.welcometothejungle.com/fr/companies/work4/jobs/inside-sales_paris   \n",
              "..                                                                                                              ...   \n",
              "263     https://www.welcometothejungle.com/fr/companies/letsignit/jobs/sdr-sales-development-representative_seattle   \n",
              "264                  https://www.welcometothejungle.com/fr/companies/letsignit/jobs/inside-sales-mid-market_seattle   \n",
              "265  https://www.welcometothejungle.com/fr/companies/fabernovel/jobs/project-analyst-in-san-francisco_san-francisco   \n",
              "266                            https://www.welcometothejungle.com/fr/companies/jus-mundi/jobs/general-counsel_paris   \n",
              "267               https://www.welcometothejungle.com/fr/companies/skeepers/jobs/account-executive-smb-us-f-h_boston   \n",
              "\n",
              "    first_name  last_name email_provider  \n",
              "0          Leo     Martin         Yandex  \n",
              "1      Gabriel    Legrand            Gmx  \n",
              "2      Raphael    Bernard            Gmx  \n",
              "3         Jade    Garnier            Aol  \n",
              "4       Louise     Dubois         Icloud  \n",
              "..         ...        ...            ...  \n",
              "263      Noham  Rodriguez            Aol  \n",
              "264     Younes      Marie        Hotmail  \n",
              "265    Lorenzo    Dasilva        Outlook  \n",
              "266     Melina    Barbier          Gmail  \n",
              "267      Diane     Hubert          Yahoo  \n",
              "\n",
              "[268 rows x 5 columns]"
            ],
            "text/html": [
              "\n",
              "  <div id=\"df-d1eef478-1457-4c0f-b9a0-91f0482a3479\">\n",
              "    <div class=\"colab-df-container\">\n",
              "      <div>\n",
              "<style scoped>\n",
              "    .dataframe tbody tr th:only-of-type {\n",
              "        vertical-align: middle;\n",
              "    }\n",
              "\n",
              "    .dataframe tbody tr th {\n",
              "        vertical-align: top;\n",
              "    }\n",
              "\n",
              "    .dataframe thead th {\n",
              "        text-align: right;\n",
              "    }\n",
              "</style>\n",
              "<table border=\"1\" class=\"dataframe\">\n",
              "  <thead>\n",
              "    <tr style=\"text-align: right;\">\n",
              "      <th></th>\n",
              "      <th>candidate_email_address</th>\n",
              "      <th>applied_for</th>\n",
              "      <th>first_name</th>\n",
              "      <th>last_name</th>\n",
              "      <th>email_provider</th>\n",
              "    </tr>\n",
              "  </thead>\n",
              "  <tbody>\n",
              "    <tr>\n",
              "      <th>0</th>\n",
              "      <td>leo.martin@yandex.com</td>\n",
              "      <td>https://www.welcometothejungle.com/fr/companies/mes-allocs/jobs/bras-droit-ceo_paris</td>\n",
              "      <td>Leo</td>\n",
              "      <td>Martin</td>\n",
              "      <td>Yandex</td>\n",
              "    </tr>\n",
              "    <tr>\n",
              "      <th>1</th>\n",
              "      <td>gabriel.legrand@gmx.com</td>\n",
              "      <td>https://www.welcometothejungle.com/fr/companies/work4/jobs/sdr-sales-development-representative-stage_paris</td>\n",
              "      <td>Gabriel</td>\n",
              "      <td>Legrand</td>\n",
              "      <td>Gmx</td>\n",
              "    </tr>\n",
              "    <tr>\n",
              "      <th>2</th>\n",
              "      <td>raphael.bernard@gmx.us</td>\n",
              "      <td>https://www.welcometothejungle.com/fr/companies/work4/jobs/product-management-associate_paris</td>\n",
              "      <td>Raphael</td>\n",
              "      <td>Bernard</td>\n",
              "      <td>Gmx</td>\n",
              "    </tr>\n",
              "    <tr>\n",
              "      <th>3</th>\n",
              "      <td>jade.garnier@aol.com</td>\n",
              "      <td>https://www.welcometothejungle.com/fr/companies/work4/jobs/stage-customer-success-manager_paris</td>\n",
              "      <td>Jade</td>\n",
              "      <td>Garnier</td>\n",
              "      <td>Aol</td>\n",
              "    </tr>\n",
              "    <tr>\n",
              "      <th>4</th>\n",
              "      <td>louise.dubois@icloud.com</td>\n",
              "      <td>https://www.welcometothejungle.com/fr/companies/work4/jobs/inside-sales_paris</td>\n",
              "      <td>Louise</td>\n",
              "      <td>Dubois</td>\n",
              "      <td>Icloud</td>\n",
              "    </tr>\n",
              "    <tr>\n",
              "      <th>...</th>\n",
              "      <td>...</td>\n",
              "      <td>...</td>\n",
              "      <td>...</td>\n",
              "      <td>...</td>\n",
              "      <td>...</td>\n",
              "    </tr>\n",
              "    <tr>\n",
              "      <th>263</th>\n",
              "      <td>noham.rodriguez@aol.com</td>\n",
              "      <td>https://www.welcometothejungle.com/fr/companies/letsignit/jobs/sdr-sales-development-representative_seattle</td>\n",
              "      <td>Noham</td>\n",
              "      <td>Rodriguez</td>\n",
              "      <td>Aol</td>\n",
              "    </tr>\n",
              "    <tr>\n",
              "      <th>264</th>\n",
              "      <td>younes.marie@hotmail.com</td>\n",
              "      <td>https://www.welcometothejungle.com/fr/companies/letsignit/jobs/inside-sales-mid-market_seattle</td>\n",
              "      <td>Younes</td>\n",
              "      <td>Marie</td>\n",
              "      <td>Hotmail</td>\n",
              "    </tr>\n",
              "    <tr>\n",
              "      <th>265</th>\n",
              "      <td>lorenzo.dasilva@outlook.com</td>\n",
              "      <td>https://www.welcometothejungle.com/fr/companies/fabernovel/jobs/project-analyst-in-san-francisco_san-francisco</td>\n",
              "      <td>Lorenzo</td>\n",
              "      <td>Dasilva</td>\n",
              "      <td>Outlook</td>\n",
              "    </tr>\n",
              "    <tr>\n",
              "      <th>266</th>\n",
              "      <td>melina.barbier@gmail.com</td>\n",
              "      <td>https://www.welcometothejungle.com/fr/companies/jus-mundi/jobs/general-counsel_paris</td>\n",
              "      <td>Melina</td>\n",
              "      <td>Barbier</td>\n",
              "      <td>Gmail</td>\n",
              "    </tr>\n",
              "    <tr>\n",
              "      <th>267</th>\n",
              "      <td>diane.hubert@yahoo.com</td>\n",
              "      <td>https://www.welcometothejungle.com/fr/companies/skeepers/jobs/account-executive-smb-us-f-h_boston</td>\n",
              "      <td>Diane</td>\n",
              "      <td>Hubert</td>\n",
              "      <td>Yahoo</td>\n",
              "    </tr>\n",
              "  </tbody>\n",
              "</table>\n",
              "<p>268 rows × 5 columns</p>\n",
              "</div>\n",
              "      <button class=\"colab-df-convert\" onclick=\"convertToInteractive('df-d1eef478-1457-4c0f-b9a0-91f0482a3479')\"\n",
              "              title=\"Convert this dataframe to an interactive table.\"\n",
              "              style=\"display:none;\">\n",
              "        \n",
              "  <svg xmlns=\"http://www.w3.org/2000/svg\" height=\"24px\"viewBox=\"0 0 24 24\"\n",
              "       width=\"24px\">\n",
              "    <path d=\"M0 0h24v24H0V0z\" fill=\"none\"/>\n",
              "    <path d=\"M18.56 5.44l.94 2.06.94-2.06 2.06-.94-2.06-.94-.94-2.06-.94 2.06-2.06.94zm-11 1L8.5 8.5l.94-2.06 2.06-.94-2.06-.94L8.5 2.5l-.94 2.06-2.06.94zm10 10l.94 2.06.94-2.06 2.06-.94-2.06-.94-.94-2.06-.94 2.06-2.06.94z\"/><path d=\"M17.41 7.96l-1.37-1.37c-.4-.4-.92-.59-1.43-.59-.52 0-1.04.2-1.43.59L10.3 9.45l-7.72 7.72c-.78.78-.78 2.05 0 2.83L4 21.41c.39.39.9.59 1.41.59.51 0 1.02-.2 1.41-.59l7.78-7.78 2.81-2.81c.8-.78.8-2.07 0-2.86zM5.41 20L4 18.59l7.72-7.72 1.47 1.35L5.41 20z\"/>\n",
              "  </svg>\n",
              "      </button>\n",
              "      \n",
              "  <style>\n",
              "    .colab-df-container {\n",
              "      display:flex;\n",
              "      flex-wrap:wrap;\n",
              "      gap: 12px;\n",
              "    }\n",
              "\n",
              "    .colab-df-convert {\n",
              "      background-color: #E8F0FE;\n",
              "      border: none;\n",
              "      border-radius: 50%;\n",
              "      cursor: pointer;\n",
              "      display: none;\n",
              "      fill: #1967D2;\n",
              "      height: 32px;\n",
              "      padding: 0 0 0 0;\n",
              "      width: 32px;\n",
              "    }\n",
              "\n",
              "    .colab-df-convert:hover {\n",
              "      background-color: #E2EBFA;\n",
              "      box-shadow: 0px 1px 2px rgba(60, 64, 67, 0.3), 0px 1px 3px 1px rgba(60, 64, 67, 0.15);\n",
              "      fill: #174EA6;\n",
              "    }\n",
              "\n",
              "    [theme=dark] .colab-df-convert {\n",
              "      background-color: #3B4455;\n",
              "      fill: #D2E3FC;\n",
              "    }\n",
              "\n",
              "    [theme=dark] .colab-df-convert:hover {\n",
              "      background-color: #434B5C;\n",
              "      box-shadow: 0px 1px 3px 1px rgba(0, 0, 0, 0.15);\n",
              "      filter: drop-shadow(0px 1px 2px rgba(0, 0, 0, 0.3));\n",
              "      fill: #FFFFFF;\n",
              "    }\n",
              "  </style>\n",
              "\n",
              "      <script>\n",
              "        const buttonEl =\n",
              "          document.querySelector('#df-d1eef478-1457-4c0f-b9a0-91f0482a3479 button.colab-df-convert');\n",
              "        buttonEl.style.display =\n",
              "          google.colab.kernel.accessAllowed ? 'block' : 'none';\n",
              "\n",
              "        async function convertToInteractive(key) {\n",
              "          const element = document.querySelector('#df-d1eef478-1457-4c0f-b9a0-91f0482a3479');\n",
              "          const dataTable =\n",
              "            await google.colab.kernel.invokeFunction('convertToInteractive',\n",
              "                                                     [key], {});\n",
              "          if (!dataTable) return;\n",
              "\n",
              "          const docLinkHtml = 'Like what you see? Visit the ' +\n",
              "            '<a target=\"_blank\" href=https://colab.research.google.com/notebooks/data_table.ipynb>data table notebook</a>'\n",
              "            + ' to learn more about interactive tables.';\n",
              "          element.innerHTML = '';\n",
              "          dataTable['output_type'] = 'display_data';\n",
              "          await google.colab.output.renderOutput(dataTable, element);\n",
              "          const docLink = document.createElement('div');\n",
              "          docLink.innerHTML = docLinkHtml;\n",
              "          element.appendChild(docLink);\n",
              "        }\n",
              "      </script>\n",
              "    </div>\n",
              "  </div>\n",
              "  "
            ]
          },
          "metadata": {},
          "execution_count": 112
        }
      ]
    },
    {
      "cell_type": "code",
      "source": [
        "df['company'] = df['applied_for'].apply(lambda x : \" \".join(re.findall('companies\\/(.*)\\/jobs', x)[0].split('-')).title())\n",
        "df"
      ],
      "metadata": {
        "id": "KbzTl7aBcao_",
        "colab": {
          "base_uri": "https://localhost:8080/",
          "height": 589
        },
        "outputId": "7f9c0f43-e456-40a7-80ea-d7993ab9ef40"
      },
      "execution_count": null,
      "outputs": [
        {
          "output_type": "execute_result",
          "data": {
            "text/plain": [
              "         candidate_email_address  \\\n",
              "0          leo.martin@yandex.com   \n",
              "1        gabriel.legrand@gmx.com   \n",
              "2         raphael.bernard@gmx.us   \n",
              "3           jade.garnier@aol.com   \n",
              "4       louise.dubois@icloud.com   \n",
              "..                           ...   \n",
              "263      noham.rodriguez@aol.com   \n",
              "264     younes.marie@hotmail.com   \n",
              "265  lorenzo.dasilva@outlook.com   \n",
              "266     melina.barbier@gmail.com   \n",
              "267       diane.hubert@yahoo.com   \n",
              "\n",
              "                                                                                                        applied_for  \\\n",
              "0                              https://www.welcometothejungle.com/fr/companies/mes-allocs/jobs/bras-droit-ceo_paris   \n",
              "1       https://www.welcometothejungle.com/fr/companies/work4/jobs/sdr-sales-development-representative-stage_paris   \n",
              "2                     https://www.welcometothejungle.com/fr/companies/work4/jobs/product-management-associate_paris   \n",
              "3                   https://www.welcometothejungle.com/fr/companies/work4/jobs/stage-customer-success-manager_paris   \n",
              "4                                     https://www.welcometothejungle.com/fr/companies/work4/jobs/inside-sales_paris   \n",
              "..                                                                                                              ...   \n",
              "263     https://www.welcometothejungle.com/fr/companies/letsignit/jobs/sdr-sales-development-representative_seattle   \n",
              "264                  https://www.welcometothejungle.com/fr/companies/letsignit/jobs/inside-sales-mid-market_seattle   \n",
              "265  https://www.welcometothejungle.com/fr/companies/fabernovel/jobs/project-analyst-in-san-francisco_san-francisco   \n",
              "266                            https://www.welcometothejungle.com/fr/companies/jus-mundi/jobs/general-counsel_paris   \n",
              "267               https://www.welcometothejungle.com/fr/companies/skeepers/jobs/account-executive-smb-us-f-h_boston   \n",
              "\n",
              "    first_name  last_name email_provider     company  \n",
              "0          Leo     Martin         Yandex  Mes Allocs  \n",
              "1      Gabriel    Legrand            Gmx       Work4  \n",
              "2      Raphael    Bernard            Gmx       Work4  \n",
              "3         Jade    Garnier            Aol       Work4  \n",
              "4       Louise     Dubois         Icloud       Work4  \n",
              "..         ...        ...            ...         ...  \n",
              "263      Noham  Rodriguez            Aol   Letsignit  \n",
              "264     Younes      Marie        Hotmail   Letsignit  \n",
              "265    Lorenzo    Dasilva        Outlook  Fabernovel  \n",
              "266     Melina    Barbier          Gmail   Jus Mundi  \n",
              "267      Diane     Hubert          Yahoo    Skeepers  \n",
              "\n",
              "[268 rows x 6 columns]"
            ],
            "text/html": [
              "\n",
              "  <div id=\"df-0655eda8-cae9-4072-87a7-64bd5f275425\">\n",
              "    <div class=\"colab-df-container\">\n",
              "      <div>\n",
              "<style scoped>\n",
              "    .dataframe tbody tr th:only-of-type {\n",
              "        vertical-align: middle;\n",
              "    }\n",
              "\n",
              "    .dataframe tbody tr th {\n",
              "        vertical-align: top;\n",
              "    }\n",
              "\n",
              "    .dataframe thead th {\n",
              "        text-align: right;\n",
              "    }\n",
              "</style>\n",
              "<table border=\"1\" class=\"dataframe\">\n",
              "  <thead>\n",
              "    <tr style=\"text-align: right;\">\n",
              "      <th></th>\n",
              "      <th>candidate_email_address</th>\n",
              "      <th>applied_for</th>\n",
              "      <th>first_name</th>\n",
              "      <th>last_name</th>\n",
              "      <th>email_provider</th>\n",
              "      <th>company</th>\n",
              "    </tr>\n",
              "  </thead>\n",
              "  <tbody>\n",
              "    <tr>\n",
              "      <th>0</th>\n",
              "      <td>leo.martin@yandex.com</td>\n",
              "      <td>https://www.welcometothejungle.com/fr/companies/mes-allocs/jobs/bras-droit-ceo_paris</td>\n",
              "      <td>Leo</td>\n",
              "      <td>Martin</td>\n",
              "      <td>Yandex</td>\n",
              "      <td>Mes Allocs</td>\n",
              "    </tr>\n",
              "    <tr>\n",
              "      <th>1</th>\n",
              "      <td>gabriel.legrand@gmx.com</td>\n",
              "      <td>https://www.welcometothejungle.com/fr/companies/work4/jobs/sdr-sales-development-representative-stage_paris</td>\n",
              "      <td>Gabriel</td>\n",
              "      <td>Legrand</td>\n",
              "      <td>Gmx</td>\n",
              "      <td>Work4</td>\n",
              "    </tr>\n",
              "    <tr>\n",
              "      <th>2</th>\n",
              "      <td>raphael.bernard@gmx.us</td>\n",
              "      <td>https://www.welcometothejungle.com/fr/companies/work4/jobs/product-management-associate_paris</td>\n",
              "      <td>Raphael</td>\n",
              "      <td>Bernard</td>\n",
              "      <td>Gmx</td>\n",
              "      <td>Work4</td>\n",
              "    </tr>\n",
              "    <tr>\n",
              "      <th>3</th>\n",
              "      <td>jade.garnier@aol.com</td>\n",
              "      <td>https://www.welcometothejungle.com/fr/companies/work4/jobs/stage-customer-success-manager_paris</td>\n",
              "      <td>Jade</td>\n",
              "      <td>Garnier</td>\n",
              "      <td>Aol</td>\n",
              "      <td>Work4</td>\n",
              "    </tr>\n",
              "    <tr>\n",
              "      <th>4</th>\n",
              "      <td>louise.dubois@icloud.com</td>\n",
              "      <td>https://www.welcometothejungle.com/fr/companies/work4/jobs/inside-sales_paris</td>\n",
              "      <td>Louise</td>\n",
              "      <td>Dubois</td>\n",
              "      <td>Icloud</td>\n",
              "      <td>Work4</td>\n",
              "    </tr>\n",
              "    <tr>\n",
              "      <th>...</th>\n",
              "      <td>...</td>\n",
              "      <td>...</td>\n",
              "      <td>...</td>\n",
              "      <td>...</td>\n",
              "      <td>...</td>\n",
              "      <td>...</td>\n",
              "    </tr>\n",
              "    <tr>\n",
              "      <th>263</th>\n",
              "      <td>noham.rodriguez@aol.com</td>\n",
              "      <td>https://www.welcometothejungle.com/fr/companies/letsignit/jobs/sdr-sales-development-representative_seattle</td>\n",
              "      <td>Noham</td>\n",
              "      <td>Rodriguez</td>\n",
              "      <td>Aol</td>\n",
              "      <td>Letsignit</td>\n",
              "    </tr>\n",
              "    <tr>\n",
              "      <th>264</th>\n",
              "      <td>younes.marie@hotmail.com</td>\n",
              "      <td>https://www.welcometothejungle.com/fr/companies/letsignit/jobs/inside-sales-mid-market_seattle</td>\n",
              "      <td>Younes</td>\n",
              "      <td>Marie</td>\n",
              "      <td>Hotmail</td>\n",
              "      <td>Letsignit</td>\n",
              "    </tr>\n",
              "    <tr>\n",
              "      <th>265</th>\n",
              "      <td>lorenzo.dasilva@outlook.com</td>\n",
              "      <td>https://www.welcometothejungle.com/fr/companies/fabernovel/jobs/project-analyst-in-san-francisco_san-francisco</td>\n",
              "      <td>Lorenzo</td>\n",
              "      <td>Dasilva</td>\n",
              "      <td>Outlook</td>\n",
              "      <td>Fabernovel</td>\n",
              "    </tr>\n",
              "    <tr>\n",
              "      <th>266</th>\n",
              "      <td>melina.barbier@gmail.com</td>\n",
              "      <td>https://www.welcometothejungle.com/fr/companies/jus-mundi/jobs/general-counsel_paris</td>\n",
              "      <td>Melina</td>\n",
              "      <td>Barbier</td>\n",
              "      <td>Gmail</td>\n",
              "      <td>Jus Mundi</td>\n",
              "    </tr>\n",
              "    <tr>\n",
              "      <th>267</th>\n",
              "      <td>diane.hubert@yahoo.com</td>\n",
              "      <td>https://www.welcometothejungle.com/fr/companies/skeepers/jobs/account-executive-smb-us-f-h_boston</td>\n",
              "      <td>Diane</td>\n",
              "      <td>Hubert</td>\n",
              "      <td>Yahoo</td>\n",
              "      <td>Skeepers</td>\n",
              "    </tr>\n",
              "  </tbody>\n",
              "</table>\n",
              "<p>268 rows × 6 columns</p>\n",
              "</div>\n",
              "      <button class=\"colab-df-convert\" onclick=\"convertToInteractive('df-0655eda8-cae9-4072-87a7-64bd5f275425')\"\n",
              "              title=\"Convert this dataframe to an interactive table.\"\n",
              "              style=\"display:none;\">\n",
              "        \n",
              "  <svg xmlns=\"http://www.w3.org/2000/svg\" height=\"24px\"viewBox=\"0 0 24 24\"\n",
              "       width=\"24px\">\n",
              "    <path d=\"M0 0h24v24H0V0z\" fill=\"none\"/>\n",
              "    <path d=\"M18.56 5.44l.94 2.06.94-2.06 2.06-.94-2.06-.94-.94-2.06-.94 2.06-2.06.94zm-11 1L8.5 8.5l.94-2.06 2.06-.94-2.06-.94L8.5 2.5l-.94 2.06-2.06.94zm10 10l.94 2.06.94-2.06 2.06-.94-2.06-.94-.94-2.06-.94 2.06-2.06.94z\"/><path d=\"M17.41 7.96l-1.37-1.37c-.4-.4-.92-.59-1.43-.59-.52 0-1.04.2-1.43.59L10.3 9.45l-7.72 7.72c-.78.78-.78 2.05 0 2.83L4 21.41c.39.39.9.59 1.41.59.51 0 1.02-.2 1.41-.59l7.78-7.78 2.81-2.81c.8-.78.8-2.07 0-2.86zM5.41 20L4 18.59l7.72-7.72 1.47 1.35L5.41 20z\"/>\n",
              "  </svg>\n",
              "      </button>\n",
              "      \n",
              "  <style>\n",
              "    .colab-df-container {\n",
              "      display:flex;\n",
              "      flex-wrap:wrap;\n",
              "      gap: 12px;\n",
              "    }\n",
              "\n",
              "    .colab-df-convert {\n",
              "      background-color: #E8F0FE;\n",
              "      border: none;\n",
              "      border-radius: 50%;\n",
              "      cursor: pointer;\n",
              "      display: none;\n",
              "      fill: #1967D2;\n",
              "      height: 32px;\n",
              "      padding: 0 0 0 0;\n",
              "      width: 32px;\n",
              "    }\n",
              "\n",
              "    .colab-df-convert:hover {\n",
              "      background-color: #E2EBFA;\n",
              "      box-shadow: 0px 1px 2px rgba(60, 64, 67, 0.3), 0px 1px 3px 1px rgba(60, 64, 67, 0.15);\n",
              "      fill: #174EA6;\n",
              "    }\n",
              "\n",
              "    [theme=dark] .colab-df-convert {\n",
              "      background-color: #3B4455;\n",
              "      fill: #D2E3FC;\n",
              "    }\n",
              "\n",
              "    [theme=dark] .colab-df-convert:hover {\n",
              "      background-color: #434B5C;\n",
              "      box-shadow: 0px 1px 3px 1px rgba(0, 0, 0, 0.15);\n",
              "      filter: drop-shadow(0px 1px 2px rgba(0, 0, 0, 0.3));\n",
              "      fill: #FFFFFF;\n",
              "    }\n",
              "  </style>\n",
              "\n",
              "      <script>\n",
              "        const buttonEl =\n",
              "          document.querySelector('#df-0655eda8-cae9-4072-87a7-64bd5f275425 button.colab-df-convert');\n",
              "        buttonEl.style.display =\n",
              "          google.colab.kernel.accessAllowed ? 'block' : 'none';\n",
              "\n",
              "        async function convertToInteractive(key) {\n",
              "          const element = document.querySelector('#df-0655eda8-cae9-4072-87a7-64bd5f275425');\n",
              "          const dataTable =\n",
              "            await google.colab.kernel.invokeFunction('convertToInteractive',\n",
              "                                                     [key], {});\n",
              "          if (!dataTable) return;\n",
              "\n",
              "          const docLinkHtml = 'Like what you see? Visit the ' +\n",
              "            '<a target=\"_blank\" href=https://colab.research.google.com/notebooks/data_table.ipynb>data table notebook</a>'\n",
              "            + ' to learn more about interactive tables.';\n",
              "          element.innerHTML = '';\n",
              "          dataTable['output_type'] = 'display_data';\n",
              "          await google.colab.output.renderOutput(dataTable, element);\n",
              "          const docLink = document.createElement('div');\n",
              "          docLink.innerHTML = docLinkHtml;\n",
              "          element.appendChild(docLink);\n",
              "        }\n",
              "      </script>\n",
              "    </div>\n",
              "  </div>\n",
              "  "
            ]
          },
          "metadata": {},
          "execution_count": 113
        }
      ]
    },
    {
      "cell_type": "code",
      "source": [
        "df['job_title'] = df['applied_for'].apply(lambda x : \" \".join(re.findall('jobs/(.*)_', x)[0].split('-')).title())\n",
        "df"
      ],
      "metadata": {
        "id": "NySp1dLvccvo",
        "colab": {
          "base_uri": "https://localhost:8080/",
          "height": 641
        },
        "outputId": "8d34528c-58e4-489f-9ce3-11ebbab70770"
      },
      "execution_count": null,
      "outputs": [
        {
          "output_type": "execute_result",
          "data": {
            "text/plain": [
              "         candidate_email_address  \\\n",
              "0          leo.martin@yandex.com   \n",
              "1        gabriel.legrand@gmx.com   \n",
              "2         raphael.bernard@gmx.us   \n",
              "3           jade.garnier@aol.com   \n",
              "4       louise.dubois@icloud.com   \n",
              "..                           ...   \n",
              "263      noham.rodriguez@aol.com   \n",
              "264     younes.marie@hotmail.com   \n",
              "265  lorenzo.dasilva@outlook.com   \n",
              "266     melina.barbier@gmail.com   \n",
              "267       diane.hubert@yahoo.com   \n",
              "\n",
              "                                                                                                        applied_for  \\\n",
              "0                              https://www.welcometothejungle.com/fr/companies/mes-allocs/jobs/bras-droit-ceo_paris   \n",
              "1       https://www.welcometothejungle.com/fr/companies/work4/jobs/sdr-sales-development-representative-stage_paris   \n",
              "2                     https://www.welcometothejungle.com/fr/companies/work4/jobs/product-management-associate_paris   \n",
              "3                   https://www.welcometothejungle.com/fr/companies/work4/jobs/stage-customer-success-manager_paris   \n",
              "4                                     https://www.welcometothejungle.com/fr/companies/work4/jobs/inside-sales_paris   \n",
              "..                                                                                                              ...   \n",
              "263     https://www.welcometothejungle.com/fr/companies/letsignit/jobs/sdr-sales-development-representative_seattle   \n",
              "264                  https://www.welcometothejungle.com/fr/companies/letsignit/jobs/inside-sales-mid-market_seattle   \n",
              "265  https://www.welcometothejungle.com/fr/companies/fabernovel/jobs/project-analyst-in-san-francisco_san-francisco   \n",
              "266                            https://www.welcometothejungle.com/fr/companies/jus-mundi/jobs/general-counsel_paris   \n",
              "267               https://www.welcometothejungle.com/fr/companies/skeepers/jobs/account-executive-smb-us-f-h_boston   \n",
              "\n",
              "    first_name  last_name email_provider     company  \\\n",
              "0          Leo     Martin         Yandex  Mes Allocs   \n",
              "1      Gabriel    Legrand            Gmx       Work4   \n",
              "2      Raphael    Bernard            Gmx       Work4   \n",
              "3         Jade    Garnier            Aol       Work4   \n",
              "4       Louise     Dubois         Icloud       Work4   \n",
              "..         ...        ...            ...         ...   \n",
              "263      Noham  Rodriguez            Aol   Letsignit   \n",
              "264     Younes      Marie        Hotmail   Letsignit   \n",
              "265    Lorenzo    Dasilva        Outlook  Fabernovel   \n",
              "266     Melina    Barbier          Gmail   Jus Mundi   \n",
              "267      Diane     Hubert          Yahoo    Skeepers   \n",
              "\n",
              "                                      job_title  \n",
              "0                                Bras Droit Ceo  \n",
              "1    Sdr Sales Development Representative Stage  \n",
              "2                  Product Management Associate  \n",
              "3                Stage Customer Success Manager  \n",
              "4                                  Inside Sales  \n",
              "..                                          ...  \n",
              "263        Sdr Sales Development Representative  \n",
              "264                     Inside Sales Mid Market  \n",
              "265            Project Analyst In San Francisco  \n",
              "266                             General Counsel  \n",
              "267                Account Executive Smb Us F H  \n",
              "\n",
              "[268 rows x 7 columns]"
            ],
            "text/html": [
              "\n",
              "  <div id=\"df-ec659f93-1bb5-4f66-b156-2f7ddeb90186\">\n",
              "    <div class=\"colab-df-container\">\n",
              "      <div>\n",
              "<style scoped>\n",
              "    .dataframe tbody tr th:only-of-type {\n",
              "        vertical-align: middle;\n",
              "    }\n",
              "\n",
              "    .dataframe tbody tr th {\n",
              "        vertical-align: top;\n",
              "    }\n",
              "\n",
              "    .dataframe thead th {\n",
              "        text-align: right;\n",
              "    }\n",
              "</style>\n",
              "<table border=\"1\" class=\"dataframe\">\n",
              "  <thead>\n",
              "    <tr style=\"text-align: right;\">\n",
              "      <th></th>\n",
              "      <th>candidate_email_address</th>\n",
              "      <th>applied_for</th>\n",
              "      <th>first_name</th>\n",
              "      <th>last_name</th>\n",
              "      <th>email_provider</th>\n",
              "      <th>company</th>\n",
              "      <th>job_title</th>\n",
              "    </tr>\n",
              "  </thead>\n",
              "  <tbody>\n",
              "    <tr>\n",
              "      <th>0</th>\n",
              "      <td>leo.martin@yandex.com</td>\n",
              "      <td>https://www.welcometothejungle.com/fr/companies/mes-allocs/jobs/bras-droit-ceo_paris</td>\n",
              "      <td>Leo</td>\n",
              "      <td>Martin</td>\n",
              "      <td>Yandex</td>\n",
              "      <td>Mes Allocs</td>\n",
              "      <td>Bras Droit Ceo</td>\n",
              "    </tr>\n",
              "    <tr>\n",
              "      <th>1</th>\n",
              "      <td>gabriel.legrand@gmx.com</td>\n",
              "      <td>https://www.welcometothejungle.com/fr/companies/work4/jobs/sdr-sales-development-representative-stage_paris</td>\n",
              "      <td>Gabriel</td>\n",
              "      <td>Legrand</td>\n",
              "      <td>Gmx</td>\n",
              "      <td>Work4</td>\n",
              "      <td>Sdr Sales Development Representative Stage</td>\n",
              "    </tr>\n",
              "    <tr>\n",
              "      <th>2</th>\n",
              "      <td>raphael.bernard@gmx.us</td>\n",
              "      <td>https://www.welcometothejungle.com/fr/companies/work4/jobs/product-management-associate_paris</td>\n",
              "      <td>Raphael</td>\n",
              "      <td>Bernard</td>\n",
              "      <td>Gmx</td>\n",
              "      <td>Work4</td>\n",
              "      <td>Product Management Associate</td>\n",
              "    </tr>\n",
              "    <tr>\n",
              "      <th>3</th>\n",
              "      <td>jade.garnier@aol.com</td>\n",
              "      <td>https://www.welcometothejungle.com/fr/companies/work4/jobs/stage-customer-success-manager_paris</td>\n",
              "      <td>Jade</td>\n",
              "      <td>Garnier</td>\n",
              "      <td>Aol</td>\n",
              "      <td>Work4</td>\n",
              "      <td>Stage Customer Success Manager</td>\n",
              "    </tr>\n",
              "    <tr>\n",
              "      <th>4</th>\n",
              "      <td>louise.dubois@icloud.com</td>\n",
              "      <td>https://www.welcometothejungle.com/fr/companies/work4/jobs/inside-sales_paris</td>\n",
              "      <td>Louise</td>\n",
              "      <td>Dubois</td>\n",
              "      <td>Icloud</td>\n",
              "      <td>Work4</td>\n",
              "      <td>Inside Sales</td>\n",
              "    </tr>\n",
              "    <tr>\n",
              "      <th>...</th>\n",
              "      <td>...</td>\n",
              "      <td>...</td>\n",
              "      <td>...</td>\n",
              "      <td>...</td>\n",
              "      <td>...</td>\n",
              "      <td>...</td>\n",
              "      <td>...</td>\n",
              "    </tr>\n",
              "    <tr>\n",
              "      <th>263</th>\n",
              "      <td>noham.rodriguez@aol.com</td>\n",
              "      <td>https://www.welcometothejungle.com/fr/companies/letsignit/jobs/sdr-sales-development-representative_seattle</td>\n",
              "      <td>Noham</td>\n",
              "      <td>Rodriguez</td>\n",
              "      <td>Aol</td>\n",
              "      <td>Letsignit</td>\n",
              "      <td>Sdr Sales Development Representative</td>\n",
              "    </tr>\n",
              "    <tr>\n",
              "      <th>264</th>\n",
              "      <td>younes.marie@hotmail.com</td>\n",
              "      <td>https://www.welcometothejungle.com/fr/companies/letsignit/jobs/inside-sales-mid-market_seattle</td>\n",
              "      <td>Younes</td>\n",
              "      <td>Marie</td>\n",
              "      <td>Hotmail</td>\n",
              "      <td>Letsignit</td>\n",
              "      <td>Inside Sales Mid Market</td>\n",
              "    </tr>\n",
              "    <tr>\n",
              "      <th>265</th>\n",
              "      <td>lorenzo.dasilva@outlook.com</td>\n",
              "      <td>https://www.welcometothejungle.com/fr/companies/fabernovel/jobs/project-analyst-in-san-francisco_san-francisco</td>\n",
              "      <td>Lorenzo</td>\n",
              "      <td>Dasilva</td>\n",
              "      <td>Outlook</td>\n",
              "      <td>Fabernovel</td>\n",
              "      <td>Project Analyst In San Francisco</td>\n",
              "    </tr>\n",
              "    <tr>\n",
              "      <th>266</th>\n",
              "      <td>melina.barbier@gmail.com</td>\n",
              "      <td>https://www.welcometothejungle.com/fr/companies/jus-mundi/jobs/general-counsel_paris</td>\n",
              "      <td>Melina</td>\n",
              "      <td>Barbier</td>\n",
              "      <td>Gmail</td>\n",
              "      <td>Jus Mundi</td>\n",
              "      <td>General Counsel</td>\n",
              "    </tr>\n",
              "    <tr>\n",
              "      <th>267</th>\n",
              "      <td>diane.hubert@yahoo.com</td>\n",
              "      <td>https://www.welcometothejungle.com/fr/companies/skeepers/jobs/account-executive-smb-us-f-h_boston</td>\n",
              "      <td>Diane</td>\n",
              "      <td>Hubert</td>\n",
              "      <td>Yahoo</td>\n",
              "      <td>Skeepers</td>\n",
              "      <td>Account Executive Smb Us F H</td>\n",
              "    </tr>\n",
              "  </tbody>\n",
              "</table>\n",
              "<p>268 rows × 7 columns</p>\n",
              "</div>\n",
              "      <button class=\"colab-df-convert\" onclick=\"convertToInteractive('df-ec659f93-1bb5-4f66-b156-2f7ddeb90186')\"\n",
              "              title=\"Convert this dataframe to an interactive table.\"\n",
              "              style=\"display:none;\">\n",
              "        \n",
              "  <svg xmlns=\"http://www.w3.org/2000/svg\" height=\"24px\"viewBox=\"0 0 24 24\"\n",
              "       width=\"24px\">\n",
              "    <path d=\"M0 0h24v24H0V0z\" fill=\"none\"/>\n",
              "    <path d=\"M18.56 5.44l.94 2.06.94-2.06 2.06-.94-2.06-.94-.94-2.06-.94 2.06-2.06.94zm-11 1L8.5 8.5l.94-2.06 2.06-.94-2.06-.94L8.5 2.5l-.94 2.06-2.06.94zm10 10l.94 2.06.94-2.06 2.06-.94-2.06-.94-.94-2.06-.94 2.06-2.06.94z\"/><path d=\"M17.41 7.96l-1.37-1.37c-.4-.4-.92-.59-1.43-.59-.52 0-1.04.2-1.43.59L10.3 9.45l-7.72 7.72c-.78.78-.78 2.05 0 2.83L4 21.41c.39.39.9.59 1.41.59.51 0 1.02-.2 1.41-.59l7.78-7.78 2.81-2.81c.8-.78.8-2.07 0-2.86zM5.41 20L4 18.59l7.72-7.72 1.47 1.35L5.41 20z\"/>\n",
              "  </svg>\n",
              "      </button>\n",
              "      \n",
              "  <style>\n",
              "    .colab-df-container {\n",
              "      display:flex;\n",
              "      flex-wrap:wrap;\n",
              "      gap: 12px;\n",
              "    }\n",
              "\n",
              "    .colab-df-convert {\n",
              "      background-color: #E8F0FE;\n",
              "      border: none;\n",
              "      border-radius: 50%;\n",
              "      cursor: pointer;\n",
              "      display: none;\n",
              "      fill: #1967D2;\n",
              "      height: 32px;\n",
              "      padding: 0 0 0 0;\n",
              "      width: 32px;\n",
              "    }\n",
              "\n",
              "    .colab-df-convert:hover {\n",
              "      background-color: #E2EBFA;\n",
              "      box-shadow: 0px 1px 2px rgba(60, 64, 67, 0.3), 0px 1px 3px 1px rgba(60, 64, 67, 0.15);\n",
              "      fill: #174EA6;\n",
              "    }\n",
              "\n",
              "    [theme=dark] .colab-df-convert {\n",
              "      background-color: #3B4455;\n",
              "      fill: #D2E3FC;\n",
              "    }\n",
              "\n",
              "    [theme=dark] .colab-df-convert:hover {\n",
              "      background-color: #434B5C;\n",
              "      box-shadow: 0px 1px 3px 1px rgba(0, 0, 0, 0.15);\n",
              "      filter: drop-shadow(0px 1px 2px rgba(0, 0, 0, 0.3));\n",
              "      fill: #FFFFFF;\n",
              "    }\n",
              "  </style>\n",
              "\n",
              "      <script>\n",
              "        const buttonEl =\n",
              "          document.querySelector('#df-ec659f93-1bb5-4f66-b156-2f7ddeb90186 button.colab-df-convert');\n",
              "        buttonEl.style.display =\n",
              "          google.colab.kernel.accessAllowed ? 'block' : 'none';\n",
              "\n",
              "        async function convertToInteractive(key) {\n",
              "          const element = document.querySelector('#df-ec659f93-1bb5-4f66-b156-2f7ddeb90186');\n",
              "          const dataTable =\n",
              "            await google.colab.kernel.invokeFunction('convertToInteractive',\n",
              "                                                     [key], {});\n",
              "          if (!dataTable) return;\n",
              "\n",
              "          const docLinkHtml = 'Like what you see? Visit the ' +\n",
              "            '<a target=\"_blank\" href=https://colab.research.google.com/notebooks/data_table.ipynb>data table notebook</a>'\n",
              "            + ' to learn more about interactive tables.';\n",
              "          element.innerHTML = '';\n",
              "          dataTable['output_type'] = 'display_data';\n",
              "          await google.colab.output.renderOutput(dataTable, element);\n",
              "          const docLink = document.createElement('div');\n",
              "          docLink.innerHTML = docLinkHtml;\n",
              "          element.appendChild(docLink);\n",
              "        }\n",
              "      </script>\n",
              "    </div>\n",
              "  </div>\n",
              "  "
            ]
          },
          "metadata": {},
          "execution_count": 114
        }
      ]
    },
    {
      "cell_type": "code",
      "source": [
        "df['city'] = df['applied_for'].apply(lambda x : re.findall('_(.*)', x)[0].capitalize())\n",
        "df"
      ],
      "metadata": {
        "id": "0TA3HfxGc4te",
        "colab": {
          "base_uri": "https://localhost:8080/",
          "height": 693
        },
        "outputId": "ea0782e1-5037-44bd-8961-0f7b2053291d"
      },
      "execution_count": null,
      "outputs": [
        {
          "output_type": "execute_result",
          "data": {
            "text/plain": [
              "         candidate_email_address  \\\n",
              "0          leo.martin@yandex.com   \n",
              "1        gabriel.legrand@gmx.com   \n",
              "2         raphael.bernard@gmx.us   \n",
              "3           jade.garnier@aol.com   \n",
              "4       louise.dubois@icloud.com   \n",
              "..                           ...   \n",
              "263      noham.rodriguez@aol.com   \n",
              "264     younes.marie@hotmail.com   \n",
              "265  lorenzo.dasilva@outlook.com   \n",
              "266     melina.barbier@gmail.com   \n",
              "267       diane.hubert@yahoo.com   \n",
              "\n",
              "                                                                                                        applied_for  \\\n",
              "0                              https://www.welcometothejungle.com/fr/companies/mes-allocs/jobs/bras-droit-ceo_paris   \n",
              "1       https://www.welcometothejungle.com/fr/companies/work4/jobs/sdr-sales-development-representative-stage_paris   \n",
              "2                     https://www.welcometothejungle.com/fr/companies/work4/jobs/product-management-associate_paris   \n",
              "3                   https://www.welcometothejungle.com/fr/companies/work4/jobs/stage-customer-success-manager_paris   \n",
              "4                                     https://www.welcometothejungle.com/fr/companies/work4/jobs/inside-sales_paris   \n",
              "..                                                                                                              ...   \n",
              "263     https://www.welcometothejungle.com/fr/companies/letsignit/jobs/sdr-sales-development-representative_seattle   \n",
              "264                  https://www.welcometothejungle.com/fr/companies/letsignit/jobs/inside-sales-mid-market_seattle   \n",
              "265  https://www.welcometothejungle.com/fr/companies/fabernovel/jobs/project-analyst-in-san-francisco_san-francisco   \n",
              "266                            https://www.welcometothejungle.com/fr/companies/jus-mundi/jobs/general-counsel_paris   \n",
              "267               https://www.welcometothejungle.com/fr/companies/skeepers/jobs/account-executive-smb-us-f-h_boston   \n",
              "\n",
              "    first_name  last_name email_provider     company  \\\n",
              "0          Leo     Martin         Yandex  Mes Allocs   \n",
              "1      Gabriel    Legrand            Gmx       Work4   \n",
              "2      Raphael    Bernard            Gmx       Work4   \n",
              "3         Jade    Garnier            Aol       Work4   \n",
              "4       Louise     Dubois         Icloud       Work4   \n",
              "..         ...        ...            ...         ...   \n",
              "263      Noham  Rodriguez            Aol   Letsignit   \n",
              "264     Younes      Marie        Hotmail   Letsignit   \n",
              "265    Lorenzo    Dasilva        Outlook  Fabernovel   \n",
              "266     Melina    Barbier          Gmail   Jus Mundi   \n",
              "267      Diane     Hubert          Yahoo    Skeepers   \n",
              "\n",
              "                                      job_title           city  \n",
              "0                                Bras Droit Ceo          Paris  \n",
              "1    Sdr Sales Development Representative Stage          Paris  \n",
              "2                  Product Management Associate          Paris  \n",
              "3                Stage Customer Success Manager          Paris  \n",
              "4                                  Inside Sales          Paris  \n",
              "..                                          ...            ...  \n",
              "263        Sdr Sales Development Representative        Seattle  \n",
              "264                     Inside Sales Mid Market        Seattle  \n",
              "265            Project Analyst In San Francisco  San-francisco  \n",
              "266                             General Counsel          Paris  \n",
              "267                Account Executive Smb Us F H         Boston  \n",
              "\n",
              "[268 rows x 8 columns]"
            ],
            "text/html": [
              "\n",
              "  <div id=\"df-78ab4333-8f60-43da-a114-ce4f65e00da8\">\n",
              "    <div class=\"colab-df-container\">\n",
              "      <div>\n",
              "<style scoped>\n",
              "    .dataframe tbody tr th:only-of-type {\n",
              "        vertical-align: middle;\n",
              "    }\n",
              "\n",
              "    .dataframe tbody tr th {\n",
              "        vertical-align: top;\n",
              "    }\n",
              "\n",
              "    .dataframe thead th {\n",
              "        text-align: right;\n",
              "    }\n",
              "</style>\n",
              "<table border=\"1\" class=\"dataframe\">\n",
              "  <thead>\n",
              "    <tr style=\"text-align: right;\">\n",
              "      <th></th>\n",
              "      <th>candidate_email_address</th>\n",
              "      <th>applied_for</th>\n",
              "      <th>first_name</th>\n",
              "      <th>last_name</th>\n",
              "      <th>email_provider</th>\n",
              "      <th>company</th>\n",
              "      <th>job_title</th>\n",
              "      <th>city</th>\n",
              "    </tr>\n",
              "  </thead>\n",
              "  <tbody>\n",
              "    <tr>\n",
              "      <th>0</th>\n",
              "      <td>leo.martin@yandex.com</td>\n",
              "      <td>https://www.welcometothejungle.com/fr/companies/mes-allocs/jobs/bras-droit-ceo_paris</td>\n",
              "      <td>Leo</td>\n",
              "      <td>Martin</td>\n",
              "      <td>Yandex</td>\n",
              "      <td>Mes Allocs</td>\n",
              "      <td>Bras Droit Ceo</td>\n",
              "      <td>Paris</td>\n",
              "    </tr>\n",
              "    <tr>\n",
              "      <th>1</th>\n",
              "      <td>gabriel.legrand@gmx.com</td>\n",
              "      <td>https://www.welcometothejungle.com/fr/companies/work4/jobs/sdr-sales-development-representative-stage_paris</td>\n",
              "      <td>Gabriel</td>\n",
              "      <td>Legrand</td>\n",
              "      <td>Gmx</td>\n",
              "      <td>Work4</td>\n",
              "      <td>Sdr Sales Development Representative Stage</td>\n",
              "      <td>Paris</td>\n",
              "    </tr>\n",
              "    <tr>\n",
              "      <th>2</th>\n",
              "      <td>raphael.bernard@gmx.us</td>\n",
              "      <td>https://www.welcometothejungle.com/fr/companies/work4/jobs/product-management-associate_paris</td>\n",
              "      <td>Raphael</td>\n",
              "      <td>Bernard</td>\n",
              "      <td>Gmx</td>\n",
              "      <td>Work4</td>\n",
              "      <td>Product Management Associate</td>\n",
              "      <td>Paris</td>\n",
              "    </tr>\n",
              "    <tr>\n",
              "      <th>3</th>\n",
              "      <td>jade.garnier@aol.com</td>\n",
              "      <td>https://www.welcometothejungle.com/fr/companies/work4/jobs/stage-customer-success-manager_paris</td>\n",
              "      <td>Jade</td>\n",
              "      <td>Garnier</td>\n",
              "      <td>Aol</td>\n",
              "      <td>Work4</td>\n",
              "      <td>Stage Customer Success Manager</td>\n",
              "      <td>Paris</td>\n",
              "    </tr>\n",
              "    <tr>\n",
              "      <th>4</th>\n",
              "      <td>louise.dubois@icloud.com</td>\n",
              "      <td>https://www.welcometothejungle.com/fr/companies/work4/jobs/inside-sales_paris</td>\n",
              "      <td>Louise</td>\n",
              "      <td>Dubois</td>\n",
              "      <td>Icloud</td>\n",
              "      <td>Work4</td>\n",
              "      <td>Inside Sales</td>\n",
              "      <td>Paris</td>\n",
              "    </tr>\n",
              "    <tr>\n",
              "      <th>...</th>\n",
              "      <td>...</td>\n",
              "      <td>...</td>\n",
              "      <td>...</td>\n",
              "      <td>...</td>\n",
              "      <td>...</td>\n",
              "      <td>...</td>\n",
              "      <td>...</td>\n",
              "      <td>...</td>\n",
              "    </tr>\n",
              "    <tr>\n",
              "      <th>263</th>\n",
              "      <td>noham.rodriguez@aol.com</td>\n",
              "      <td>https://www.welcometothejungle.com/fr/companies/letsignit/jobs/sdr-sales-development-representative_seattle</td>\n",
              "      <td>Noham</td>\n",
              "      <td>Rodriguez</td>\n",
              "      <td>Aol</td>\n",
              "      <td>Letsignit</td>\n",
              "      <td>Sdr Sales Development Representative</td>\n",
              "      <td>Seattle</td>\n",
              "    </tr>\n",
              "    <tr>\n",
              "      <th>264</th>\n",
              "      <td>younes.marie@hotmail.com</td>\n",
              "      <td>https://www.welcometothejungle.com/fr/companies/letsignit/jobs/inside-sales-mid-market_seattle</td>\n",
              "      <td>Younes</td>\n",
              "      <td>Marie</td>\n",
              "      <td>Hotmail</td>\n",
              "      <td>Letsignit</td>\n",
              "      <td>Inside Sales Mid Market</td>\n",
              "      <td>Seattle</td>\n",
              "    </tr>\n",
              "    <tr>\n",
              "      <th>265</th>\n",
              "      <td>lorenzo.dasilva@outlook.com</td>\n",
              "      <td>https://www.welcometothejungle.com/fr/companies/fabernovel/jobs/project-analyst-in-san-francisco_san-francisco</td>\n",
              "      <td>Lorenzo</td>\n",
              "      <td>Dasilva</td>\n",
              "      <td>Outlook</td>\n",
              "      <td>Fabernovel</td>\n",
              "      <td>Project Analyst In San Francisco</td>\n",
              "      <td>San-francisco</td>\n",
              "    </tr>\n",
              "    <tr>\n",
              "      <th>266</th>\n",
              "      <td>melina.barbier@gmail.com</td>\n",
              "      <td>https://www.welcometothejungle.com/fr/companies/jus-mundi/jobs/general-counsel_paris</td>\n",
              "      <td>Melina</td>\n",
              "      <td>Barbier</td>\n",
              "      <td>Gmail</td>\n",
              "      <td>Jus Mundi</td>\n",
              "      <td>General Counsel</td>\n",
              "      <td>Paris</td>\n",
              "    </tr>\n",
              "    <tr>\n",
              "      <th>267</th>\n",
              "      <td>diane.hubert@yahoo.com</td>\n",
              "      <td>https://www.welcometothejungle.com/fr/companies/skeepers/jobs/account-executive-smb-us-f-h_boston</td>\n",
              "      <td>Diane</td>\n",
              "      <td>Hubert</td>\n",
              "      <td>Yahoo</td>\n",
              "      <td>Skeepers</td>\n",
              "      <td>Account Executive Smb Us F H</td>\n",
              "      <td>Boston</td>\n",
              "    </tr>\n",
              "  </tbody>\n",
              "</table>\n",
              "<p>268 rows × 8 columns</p>\n",
              "</div>\n",
              "      <button class=\"colab-df-convert\" onclick=\"convertToInteractive('df-78ab4333-8f60-43da-a114-ce4f65e00da8')\"\n",
              "              title=\"Convert this dataframe to an interactive table.\"\n",
              "              style=\"display:none;\">\n",
              "        \n",
              "  <svg xmlns=\"http://www.w3.org/2000/svg\" height=\"24px\"viewBox=\"0 0 24 24\"\n",
              "       width=\"24px\">\n",
              "    <path d=\"M0 0h24v24H0V0z\" fill=\"none\"/>\n",
              "    <path d=\"M18.56 5.44l.94 2.06.94-2.06 2.06-.94-2.06-.94-.94-2.06-.94 2.06-2.06.94zm-11 1L8.5 8.5l.94-2.06 2.06-.94-2.06-.94L8.5 2.5l-.94 2.06-2.06.94zm10 10l.94 2.06.94-2.06 2.06-.94-2.06-.94-.94-2.06-.94 2.06-2.06.94z\"/><path d=\"M17.41 7.96l-1.37-1.37c-.4-.4-.92-.59-1.43-.59-.52 0-1.04.2-1.43.59L10.3 9.45l-7.72 7.72c-.78.78-.78 2.05 0 2.83L4 21.41c.39.39.9.59 1.41.59.51 0 1.02-.2 1.41-.59l7.78-7.78 2.81-2.81c.8-.78.8-2.07 0-2.86zM5.41 20L4 18.59l7.72-7.72 1.47 1.35L5.41 20z\"/>\n",
              "  </svg>\n",
              "      </button>\n",
              "      \n",
              "  <style>\n",
              "    .colab-df-container {\n",
              "      display:flex;\n",
              "      flex-wrap:wrap;\n",
              "      gap: 12px;\n",
              "    }\n",
              "\n",
              "    .colab-df-convert {\n",
              "      background-color: #E8F0FE;\n",
              "      border: none;\n",
              "      border-radius: 50%;\n",
              "      cursor: pointer;\n",
              "      display: none;\n",
              "      fill: #1967D2;\n",
              "      height: 32px;\n",
              "      padding: 0 0 0 0;\n",
              "      width: 32px;\n",
              "    }\n",
              "\n",
              "    .colab-df-convert:hover {\n",
              "      background-color: #E2EBFA;\n",
              "      box-shadow: 0px 1px 2px rgba(60, 64, 67, 0.3), 0px 1px 3px 1px rgba(60, 64, 67, 0.15);\n",
              "      fill: #174EA6;\n",
              "    }\n",
              "\n",
              "    [theme=dark] .colab-df-convert {\n",
              "      background-color: #3B4455;\n",
              "      fill: #D2E3FC;\n",
              "    }\n",
              "\n",
              "    [theme=dark] .colab-df-convert:hover {\n",
              "      background-color: #434B5C;\n",
              "      box-shadow: 0px 1px 3px 1px rgba(0, 0, 0, 0.15);\n",
              "      filter: drop-shadow(0px 1px 2px rgba(0, 0, 0, 0.3));\n",
              "      fill: #FFFFFF;\n",
              "    }\n",
              "  </style>\n",
              "\n",
              "      <script>\n",
              "        const buttonEl =\n",
              "          document.querySelector('#df-78ab4333-8f60-43da-a114-ce4f65e00da8 button.colab-df-convert');\n",
              "        buttonEl.style.display =\n",
              "          google.colab.kernel.accessAllowed ? 'block' : 'none';\n",
              "\n",
              "        async function convertToInteractive(key) {\n",
              "          const element = document.querySelector('#df-78ab4333-8f60-43da-a114-ce4f65e00da8');\n",
              "          const dataTable =\n",
              "            await google.colab.kernel.invokeFunction('convertToInteractive',\n",
              "                                                     [key], {});\n",
              "          if (!dataTable) return;\n",
              "\n",
              "          const docLinkHtml = 'Like what you see? Visit the ' +\n",
              "            '<a target=\"_blank\" href=https://colab.research.google.com/notebooks/data_table.ipynb>data table notebook</a>'\n",
              "            + ' to learn more about interactive tables.';\n",
              "          element.innerHTML = '';\n",
              "          dataTable['output_type'] = 'display_data';\n",
              "          await google.colab.output.renderOutput(dataTable, element);\n",
              "          const docLink = document.createElement('div');\n",
              "          docLink.innerHTML = docLinkHtml;\n",
              "          element.appendChild(docLink);\n",
              "        }\n",
              "      </script>\n",
              "    </div>\n",
              "  </div>\n",
              "  "
            ]
          },
          "metadata": {},
          "execution_count": 115
        }
      ]
    },
    {
      "cell_type": "markdown",
      "source": [
        "###### Solution proposée de la quête sur Odyssey : extraire 3 champs en 2 lignes"
      ],
      "metadata": {
        "id": "Y4WxqjPzc6m7"
      }
    },
    {
      "cell_type": "code",
      "source": [
        "unpack_email = lambda x: pd.Series([i.title() for i in re.findall(r'([^@.]+)', x['candidate_email_address'])][:-1])\n",
        "df[['firstname', 'lastname', 'email_service']] = df.apply(unpack_email, axis=1)\n",
        "df"
      ],
      "metadata": {
        "id": "szMWHIYSc_it"
      },
      "execution_count": null,
      "outputs": []
    }
  ]
}