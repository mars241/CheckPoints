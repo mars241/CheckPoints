{
  "nbformat": 4,
  "nbformat_minor": 0,
  "metadata": {
    "colab": {
      "provenance": [],
      "include_colab_link": true
    },
    "kernelspec": {
      "name": "python3",
      "display_name": "Python 3"
    },
    "language_info": {
      "name": "python"
    }
  },
  "cells": [
    {
      "cell_type": "markdown",
      "metadata": {
        "id": "view-in-github",
        "colab_type": "text"
      },
      "source": [
        "<a href=\"https://colab.research.google.com/github/mars241/CheckPoints/blob/main/Corr_W05_Dojo_Python_Cr%C3%A9ation_Quiz_Autre_solution_possible.ipynb\" target=\"_parent\"><img src=\"https://colab.research.google.com/assets/colab-badge.svg\" alt=\"Open In Colab\"/></a>"
      ]
    },
    {
      "cell_type": "code",
      "source": [
        "# unidecode = gestion des accents en français\n",
        "\n",
        "pip install unidecode"
      ],
      "metadata": {
        "id": "LAiL2w_n8yhS"
      },
      "execution_count": null,
      "outputs": []
    },
    {
      "cell_type": "code",
      "source": [
        "from unidecode import unidecode"
      ],
      "metadata": {
        "id": "GJsdHb2L85z8"
      },
      "execution_count": null,
      "outputs": []
    },
    {
      "cell_type": "code",
      "source": [
        "# je développe d'abord un code pour une seule question\n",
        "\n",
        "question = \"Quelle est la capitale de l'Italie ? \"\n",
        "bonne_reponse = \"Rome\"\n",
        "\n",
        "essais = 4\n",
        "points = 0\n",
        "reponse = \"\"\n",
        "\n",
        "while reponse != bonne_reponse:\n",
        "  essais -= 1\n",
        "  if essais == 0:\n",
        "    break\n",
        "  reponse = input(question)\n",
        "\n",
        "else:\n",
        "  points += essais\n",
        "\n",
        "print(points)"
      ],
      "metadata": {
        "id": "y3JIPAXG1kZZ"
      },
      "execution_count": null,
      "outputs": []
    },
    {
      "cell_type": "code",
      "source": [
        "# je généralise à plusieurs questions\n",
        "\n",
        "dico_questions = {\"Quelle est la capitale de l'Italie ? \": \"rome\",\n",
        "                 \"Quelle est la capitale du Mexique ? \": \"mexico\",\n",
        "                 \"Quelle est la capitale de la Corée du Sud ? \": \"seoul\"}"
      ],
      "metadata": {
        "id": "eMwYQKtg5Q6_"
      },
      "execution_count": null,
      "outputs": []
    },
    {
      "cell_type": "code",
      "source": [
        "score = 0\n",
        "perdu = False     # c'est ce qu'on appelle un flag !\n",
        "\n",
        "for question, bonne_reponse in dico_questions.items():\n",
        "  if perdu == False:    # si on n'a pas perdu, on pose la question suivante\n",
        "    essais = 4    # on démarre à 4 parce que plus bas, on enlève direct 1 essai\n",
        "    points = 0    # remise à zéro des points pour chaque nouvelle question\n",
        "    reponse = \"\"\n",
        "\n",
        "    while reponse != bonne_reponse:   # tant que la réponse n'est pas bonne, la question est de nouveau posée\n",
        "      essais -= 1\n",
        "      if essais == 0:\n",
        "        perdu = True      # flag est levé, la boucle est arrêtée\n",
        "        break\n",
        "      reponse = unidecode(input(question).lower())    # on transforme immédiatement l'input en minuscule et sans accents\n",
        "\n",
        "    # indenté de cette manière, ce else n'est exécuté QUE si on sort de la boucle while sans break\n",
        "    else:\n",
        "      points += essais\n",
        "      score += points\n",
        "\n",
        "    print(\"points\", points)\n",
        "\n",
        "print(\"score\", score)"
      ],
      "metadata": {
        "id": "WJk5gDz65XqL"
      },
      "execution_count": null,
      "outputs": []
    },
    {
      "cell_type": "code",
      "source": [
        "## CI-DESSOUS, CODE NON COMMENTÉ :\n",
        "\n",
        "score = 0\n",
        "perdu = False\n",
        "\n",
        "for question, bonne_reponse in dico_questions.items():\n",
        "  if perdu == False:\n",
        "    essais = 4\n",
        "    points = 0\n",
        "    reponse = \"\"\n",
        "\n",
        "    while reponse != bonne_reponse:\n",
        "      essais -= 1\n",
        "      if essais == 0:\n",
        "        perdu = True\n",
        "        break\n",
        "      reponse = unidecode(input(question).lower())\n",
        "\n",
        "    else:\n",
        "      points += essais\n",
        "      score += points\n",
        "\n",
        "    print(\"points\", points)\n",
        "\n",
        "print(\"score\", score)"
      ],
      "metadata": {
        "id": "YaKsiFFaq95s"
      },
      "execution_count": null,
      "outputs": []
    }
  ]
}