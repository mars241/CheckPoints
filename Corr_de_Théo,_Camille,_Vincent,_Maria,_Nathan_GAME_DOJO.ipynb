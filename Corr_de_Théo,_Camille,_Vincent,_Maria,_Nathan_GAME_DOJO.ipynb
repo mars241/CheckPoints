{
  "nbformat": 4,
  "nbformat_minor": 0,
  "metadata": {
    "colab": {
      "provenance": [],
      "include_colab_link": true
    },
    "kernelspec": {
      "name": "python3",
      "display_name": "Python 3"
    },
    "language_info": {
      "name": "python"
    }
  },
  "cells": [
    {
      "cell_type": "markdown",
      "metadata": {
        "id": "view-in-github",
        "colab_type": "text"
      },
      "source": [
        "<a href=\"https://colab.research.google.com/github/mars241/CheckPoints/blob/main/Corr_de_The%CC%81o%2C_Camille%2C_Vincent%2C_Maria%2C_Nathan_GAME_DOJO.ipynb\" target=\"_parent\"><img src=\"https://colab.research.google.com/assets/colab-badge.svg\" alt=\"Open In Colab\"/></a>"
      ]
    },
    {
      "cell_type": "code",
      "execution_count": null,
      "metadata": {
        "id": "zqVDfCb7yR0b"
      },
      "outputs": [],
      "source": []
    },
    {
      "cell_type": "markdown",
      "source": [
        "Dojo : Dojo Python – Quiz Game#\n",
        "Instructions :\n",
        "\n",
        "- Le quiz doit contenir exactement 3 questions, et donc 3 réponses.\n",
        "- Le joueur aura 3 essais par question\n",
        "- Si le joueur répond correctement, ses essais sont réinitialisés lors de la question suivante\n",
        "- Afficher des messages quand il perd, gagne, quand son nombre d’essais évolue\n",
        "- Arrêter le jeu si l’utilisateur perd tous ses essais\n",
        "- 3 points 1ère essai, 2pts 2ème, 1pt 3ème"
      ],
      "metadata": {
        "id": "tX3zc6M-yjST"
      }
    },
    {
      "cell_type": "code",
      "source": [],
      "metadata": {
        "id": "XBkkfHgLDuwN"
      },
      "execution_count": null,
      "outputs": []
    },
    {
      "cell_type": "code",
      "source": [],
      "metadata": {
        "id": "4QwARCtdHcFW"
      },
      "execution_count": null,
      "outputs": []
    },
    {
      "cell_type": "code",
      "source": [
        "essais = 3\n",
        "points = 0\n",
        "\n",
        "#1\n",
        "\n",
        "while essais>0 or q1 == \"tokyo\" :\n",
        "  q1=input(\"Question 1 : Quelle est la capital du Japon : ? \")\n",
        "  print(\"Vous avez\", essais,\" essais \")\n",
        "  if q1.lower() != \"tokyo\":\n",
        "    essais=essais - 1\n",
        "    if essais > 0: print(\"incorrect, essaie encore \")\n",
        "    if essais == 0:\n",
        "      print(\"Gameover looser\")\n",
        "  else:\n",
        "    points += essais\n",
        "    print(\"correct\")\n",
        "    break\n",
        "\n",
        "#2\n",
        "\n",
        "if essais >0:\n",
        "\n",
        "  essais = 3\n",
        "  print(\"vous avez \", points,\" points\")\n",
        "  print(\"\\nQuestion 2: Vous avez \", essais ,\"essais.\")\n",
        "\n",
        "  while essais > 0:\n",
        "    q2=input(\"Quelle est la capital de l'Australie : ? \")\n",
        "    if q2.lower() != \"canberra\":\n",
        "\n",
        "      essais=essais - 1\n",
        "      if essais == 0:\n",
        "        print(\"Gameover looser\")\n",
        "        break\n",
        "      if essais > 0: print(\"incorrect, essaie encore \")\n",
        "\n",
        "    else:\n",
        "      points += essais\n",
        "      print(\"correct\")\n",
        "      break\n",
        "\n",
        "#3\n",
        "\n",
        "if essais >0:\n",
        "  essais = 3\n",
        "  print(\"vous avez \", points,\" points\")\n",
        "  print(\"\\nQuestion 3: Vous avez \", essais ,\"essais.\")\n",
        "\n",
        "  while essais > 0:\n",
        "    q3=input(\"Quelle est la capital de l'Indonesie : ? \")\n",
        "    if q3.lower() != \"jakarta\":\n",
        "      essais=essais - 1\n",
        "      if essais == 0:\n",
        "        print(\"Gameover looser\")\n",
        "        break\n",
        "      if essais > 0: print(\"incorrect, essaie encore \")\n",
        "      continue\n",
        "    else:\n",
        "      points += essais\n",
        "      print(\"correct\")\n",
        "\n",
        "      break\n",
        "\n",
        "if points == 0:\n",
        "  print(\"Vraiment nul, tu as 0 points. Ta place n'est pas parmi nous.j\")\n",
        "elif essais == 0:\n",
        "  print(\"Retourne en cours de géo, même si tu as quand même, \", points ,\"points\")\n",
        "else:\n",
        "  print(\"Bravo vous avez gagné !\")\n",
        "  if points < 5:\n",
        "    print(\"Mais \", points, \" points, c'est pas ouf, pas la moyenne\")\n",
        "  else:\n",
        "    print(\"Vous avez \", points,\" points, GG. Premier de la classe !\")\n",
        ""
      ],
      "metadata": {
        "colab": {
          "base_uri": "https://localhost:8080/"
        },
        "id": "kwbddY6R0Q1u",
        "outputId": "be346185-5bd3-4684-8372-d30041f91193"
      },
      "execution_count": null,
      "outputs": [
        {
          "output_type": "stream",
          "name": "stdout",
          "text": [
            "Question 1 : Quelle est la capital du Japon : ? j\n",
            "Vous avez 3  essais \n",
            "incorrect, essaie encore \n",
            "Question 1 : Quelle est la capital du Japon : ? \n",
            "Vous avez 2  essais \n",
            "incorrect, essaie encore \n",
            "Question 1 : Quelle est la capital du Japon : ? h\n",
            "Vous avez 1  essais \n",
            "Gameover looser\n",
            "Vraiment nul, tu as 0 points. Ta place n'est pas parmi nous.\n"
          ]
        }
      ]
    },
    {
      "cell_type": "code",
      "source": [
        "dico = {\"q1\": [\"question\", \"reponse\"]}"
      ],
      "metadata": {
        "id": "h0HCELv0Hi9J"
      },
      "execution_count": null,
      "outputs": []
    },
    {
      "cell_type": "code",
      "source": [
        "dico[\"q1\"][1]"
      ],
      "metadata": {
        "colab": {
          "base_uri": "https://localhost:8080/",
          "height": 35
        },
        "id": "YZADqe-hK7Ol",
        "outputId": "bff2defa-685c-41b8-9752-176479804739"
      },
      "execution_count": null,
      "outputs": [
        {
          "output_type": "execute_result",
          "data": {
            "text/plain": [
              "'reponse'"
            ],
            "application/vnd.google.colaboratory.intrinsic+json": {
              "type": "string"
            }
          },
          "metadata": {},
          "execution_count": 89
        }
      ]
    }
  ]
}