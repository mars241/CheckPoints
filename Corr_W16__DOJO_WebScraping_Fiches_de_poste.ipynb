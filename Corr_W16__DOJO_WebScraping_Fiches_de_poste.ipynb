{
  "nbformat": 4,
  "nbformat_minor": 0,
  "metadata": {
    "colab": {
      "provenance": [],
      "include_colab_link": true
    },
    "kernelspec": {
      "name": "python3",
      "display_name": "Python 3"
    },
    "language_info": {
      "name": "python"
    }
  },
  "cells": [
    {
      "cell_type": "markdown",
      "metadata": {
        "id": "view-in-github",
        "colab_type": "text"
      },
      "source": [
        "<a href=\"https://colab.research.google.com/github/mars241/CheckPoints/blob/main/Corr_W16__DOJO_WebScraping_Fiches_de_poste.ipynb\" target=\"_parent\"><img src=\"https://colab.research.google.com/assets/colab-badge.svg\" alt=\"Open In Colab\"/></a>"
      ]
    },
    {
      "cell_type": "markdown",
      "source": [
        "# A partir de l'URL ci-dessous, récupérez :\n",
        "a. les mots clés\\\n",
        "b. les 4 thèmes d'activités principales\\\n",
        "c. les 2 liens qui permettent d'accéder aux pages de data scientist et data engineer\n",
        "\n",
        "# Quel avis portez-vous sur cette page ?\n",
        "# Quel avis portez-vous sur cette fiche de poste ?"
      ],
      "metadata": {
        "id": "vD6JiG8BkHGY"
      }
    },
    {
      "cell_type": "code",
      "source": [
        "URL_data_a = \"https://www.apec.fr/tous-nos-metiers/informatique/data-analyst.html\""
      ],
      "metadata": {
        "id": "wGnI1SwQkoYi"
      },
      "execution_count": null,
      "outputs": []
    },
    {
      "cell_type": "markdown",
      "source": [
        "# 1. Requêter l'URL initiale"
      ],
      "metadata": {
        "id": "7mfYBUiwkvIg"
      }
    },
    {
      "cell_type": "markdown",
      "source": [
        "* **Interroger l'URL initiale**"
      ],
      "metadata": {
        "id": "Fzxro4DOrJcw"
      }
    },
    {
      "cell_type": "code",
      "source": [
        "import requests\n",
        "fiche_metier = requests.get(URL_data_a)"
      ],
      "metadata": {
        "id": "wXkV86HolE8o"
      },
      "execution_count": null,
      "outputs": []
    },
    {
      "cell_type": "markdown",
      "source": [
        "* **Créer soupe** *texte en italique*"
      ],
      "metadata": {
        "id": "FEpPyuqdrGpI"
      }
    },
    {
      "cell_type": "code",
      "source": [
        "from bs4 import BeautifulSoup\n",
        "soup = BeautifulSoup(fiche_metier.text, 'html.parser')"
      ],
      "metadata": {
        "id": "7U_jih6nq76i"
      },
      "execution_count": null,
      "outputs": []
    },
    {
      "cell_type": "markdown",
      "source": [
        "# 2. Récupérer les mots clés"
      ],
      "metadata": {
        "id": "9KxcZ2b6lFJg"
      }
    },
    {
      "cell_type": "code",
      "source": [
        "section_mots_cles = soup.find_all('div', {\"class\" : \"rich-text\"})\n",
        "section_mots_cles"
      ],
      "metadata": {
        "colab": {
          "base_uri": "https://localhost:8080/"
        },
        "id": "X_ck3IXXlHIS",
        "outputId": "4ea5d6da-0a64-451d-b824-634023d0aa32"
      },
      "execution_count": null,
      "outputs": [
        {
          "output_type": "execute_result",
          "data": {
            "text/plain": [
              "[<div class=\"rich-text\">\n",
              " <ul>\n",
              " <li>Analyst dataminer H-F</li>\n",
              " <li>Chargé d’études en datamining H-F</li>\n",
              " <li>Consultant dataminer H-F</li>\n",
              " </ul>\n",
              " <h2>MOTS CLEFS</h2>\n",
              " <ul>\n",
              " <li>Bases de données</li>\n",
              " <li>Analyse et modélisation des données</li>\n",
              " <li>Statistiques</li>\n",
              " <li>Data visualisation</li>\n",
              " </ul>\n",
              " </div>, <div class=\"rich-text\">\n",
              " <h3>Extraction et structuration des données</h3>\n",
              " <ul>\n",
              " <li>Extraire les données nécessaires à l’analyse (Web scraping, API…).</li>\n",
              " <li>Définir des règles de gestion de nettoyage des bases de données (formatage, suppression des doublons…).</li>\n",
              " <li>Définir des règles de gestion de structuration des différentes bases de données entre elles.</li>\n",
              " <li>Écrire et rédiger les spécifications d’automatisation des règles de gestion à la direction des systèmes d’information ou à la maîtrise d’ouvrage.</li>\n",
              " <li>Maîtriser la qualité des données tout au long de leur traitement.</li>\n",
              " </ul>\n",
              " <h3><br/>\n",
              " Analyse et exploration des données</h3>\n",
              " <ul>\n",
              " <li>Analyser les données : mettre en avant les corrélations, définir les valeurs aberrantes.</li>\n",
              " <li>Réaliser des tableaux de bord ou des outils de reporting industrialisés.</li>\n",
              " <li>Réaliser des tests statistiques sur les données.</li>\n",
              " <li>Construire et tester des modèles statistiques (régression, forêt aléatoire…).</li>\n",
              " <li>Déterminer ou construire les variables importantes à introduire dans les modèles statistiques.</li>\n",
              " </ul>\n",
              " <h3><br/>\n",
              " Communication avec les équipes clientes</h3>\n",
              " <ul>\n",
              " <li>Participer aux ateliers d’expression des besoins internes.</li>\n",
              " <li>Comprendre précisément les problématiques métiers et les traduire de manière analytique.</li>\n",
              " <li>Communiquer les résultats et les solutions avec les équipes métiers.</li>\n",
              " <li>Présenter les résultats des analyses grâce à des outils de data visualisation.</li>\n",
              " </ul>\n",
              " <h3><br/>\n",
              " Veille technologique sur les outils d’analyse de données</h3>\n",
              " <ul>\n",
              " <li>Effectuer une veille sur les nouvelles technologies et solutions logicielles d’analyse des données.</li>\n",
              " <li>Rechercher et expérimenter de nouvelles méthodes de modélisation et d’analyse des données.</li>\n",
              " <li>Sélectionner les nouveaux outils et techniques d’analyse des données.</li>\n",
              " </ul>\n",
              " <h2>VARIABILITÉ DES ACTIVITÉS</h2>\n",
              " <p>Les data analysts peuvent avoir la charge de la création de tableaux de bord, mais également la réalisation d’études statistiques plus poussées. C’est le cas dans le secteur de la banque et de la finance pour l’élaboration d’algorithmes prédictifs, l’analyse et la prévention statistique des risques économiques (impayés, crédits, placements, etc.).</p>\n",
              " <h2>RATTACHEMENT HIÉRARCHIQUE</h2>\n",
              " <ul>\n",
              " <li>Responsable d’équipe data</li>\n",
              " <li>Responsable pôle big data</li>\n",
              " <li>IT data director</li>\n",
              " <li>Chief data officer</li>\n",
              " </ul>\n",
              " <h2>CONTEXTE ET FACTEURS D’ÉVOLUTION DU MÉTIER</h2>\n",
              " <p>Aujourd’hui, avec l’afflux massif de données, les entreprises se voient offrir des opportunités nouvelles, et ce, quel que soit leur secteur d’activité. Les données sont ainsi incontournables pour piloter la satisfaction client, les services après-vente, la gestion des fraudes. L’implémentation de plus en plus régulière de capteurs dans les outils de production permet également de prédire des pannes ou d’automatiser les processus industriels. Certaines entreprises s’orientent vers des organisations dites data centric, avec la constitution d’équipe et/ou mobilisation de compétences techniques dédiées et valorisent la dissémination de la culture des données.</p>\n",
              " <p>Les data analysts ont pour rôle d’extraire les informations et structurer la connaissance de ces données dans le but de développer de nouveaux services, de nouveaux produits ou de nouvelles opportunités marché. Ils/elles sont en charge de réaliser les études en lien avec les préoccupations du cœur métier. Les évolutions du métier sont, à la fois technologiques avec une mise à jour constante des logiciels à la pointe, et réglementaires, avec l’obligation de respecter de nouvelles lois comme le RGPD.</p>\n",
              " </div>, <div class=\"rich-text\">\n",
              " <h3>Diplômes requis</h3>\n",
              " <ul>\n",
              " <li>Formation de niveau Bac +3\n",
              " <ul>\n",
              " <li>Licence en statistiques et traitement de l’information ou en datamining</li>\n",
              " </ul>\n",
              " </li>\n",
              " <li>Formation de niveau Bac +5\n",
              " <ul>\n",
              " <li>Diplôme d’école d’ingénieurs spécialisée en statistiques ou big data</li>\n",
              " <li>Master en statistiques, économétrie ou informatique décisionnelle (MIAGE…)</li>\n",
              " </ul>\n",
              " </li>\n",
              " </ul>\n",
              " <h3><br/>\n",
              " Durée d’expérience</h3>\n",
              " <p>La majorité des offres d’emploi porte sur des profils de moins de cinq ans d’expérience. Néanmoins, une première expérience réussie (stage ou premier emploi) en tant que data analyst peut être demandée.</p>\n",
              " </div>, <div class=\"rich-text\">\n",
              " <h3>Compétences techniques</h3>\n",
              " <ul>\n",
              " <li>Expertise en base de données et gestion de base de données (SQL/NoSQL)</li>\n",
              " <li>Maîtrise des tests et méthodes statistiques (segmentation, régression, forêt aléatoire…)</li>\n",
              " <li>Maîtrise des langages de programmation (Python, R, C++…)</li>\n",
              " <li>Maîtrise d’un outil de data visualisation (Tableau, Qlikview, PowerBI)</li>\n",
              " <li>Maîtrise des outils de fouille et analyse de données (Dataiku…)</li>\n",
              " <li>Maîtrise des systèmes d’exploitation (Unix, Windows…)</li>\n",
              " <li>Connaissance de l’environnement Hadoop</li>\n",
              " </ul>\n",
              " <h3><br/>\n",
              " Aptitudes professionnelles</h3>\n",
              " <ul>\n",
              " <li>Rigueur</li>\n",
              " <li>Sens de l’écoute et de la communication</li>\n",
              " <li>Esprit de synthèse et d’analyse</li>\n",
              " <li>Pédagogie</li>\n",
              " <li>Curiosité sectorielle et goût pour l’innovation</li>\n",
              " </ul>\n",
              " </div>, <div class=\"rich-text\">\n",
              " <p>Rémunération annuelle brute (fixe + variable) proposée dans les offres d'emploi : 80 %  sont comprises entre 33 k€ et 53 k€  (moyenne 43 k€)</p>\n",
              " </div>]"
            ]
          },
          "metadata": {},
          "execution_count": 17
        }
      ]
    },
    {
      "cell_type": "code",
      "source": [
        "sous_section_mots_cles = section_mots_cles[0].find_all(\"ul\")\n",
        "sous_section_mots_cles"
      ],
      "metadata": {
        "colab": {
          "base_uri": "https://localhost:8080/"
        },
        "id": "3J5l78DSyAMp",
        "outputId": "6e2e33ad-19d9-4f70-ece5-4b5310cc6fb4"
      },
      "execution_count": null,
      "outputs": [
        {
          "output_type": "execute_result",
          "data": {
            "text/plain": [
              "[<ul>\n",
              " <li>Analyst dataminer H-F</li>\n",
              " <li>Chargé d’études en datamining H-F</li>\n",
              " <li>Consultant dataminer H-F</li>\n",
              " </ul>, <ul>\n",
              " <li>Bases de données</li>\n",
              " <li>Analyse et modélisation des données</li>\n",
              " <li>Statistiques</li>\n",
              " <li>Data visualisation</li>\n",
              " </ul>]"
            ]
          },
          "metadata": {},
          "execution_count": 18
        }
      ]
    },
    {
      "cell_type": "code",
      "source": [
        "mots_cles = sous_section_mots_cles[1].find_all(\"li\")\n",
        "mots_cles\n",
        "mots_cles = [mc.text for mc in mots_cles]\n",
        "mots_cles\n",
        "\n"
      ],
      "metadata": {
        "colab": {
          "base_uri": "https://localhost:8080/"
        },
        "id": "T6S5NE_arnlY",
        "outputId": "e6cb1622-238a-40d1-e7ff-6f43992068a5"
      },
      "execution_count": null,
      "outputs": [
        {
          "output_type": "execute_result",
          "data": {
            "text/plain": [
              "['Bases de données',\n",
              " 'Analyse et modélisation des données',\n",
              " 'Statistiques',\n",
              " 'Data visualisation']"
            ]
          },
          "metadata": {},
          "execution_count": 21
        }
      ]
    },
    {
      "cell_type": "code",
      "source": [
        "len(mots_cles)"
      ],
      "metadata": {
        "colab": {
          "base_uri": "https://localhost:8080/"
        },
        "id": "E_yV_RYfrovo",
        "outputId": "5e607249-2e91-4bdc-b9e7-87d6d3c73873"
      },
      "execution_count": null,
      "outputs": [
        {
          "output_type": "execute_result",
          "data": {
            "text/plain": [
              "4"
            ]
          },
          "metadata": {},
          "execution_count": 22
        }
      ]
    },
    {
      "cell_type": "markdown",
      "source": [
        "# 3. Récupérer les 4 thèmes d'activites"
      ],
      "metadata": {
        "id": "hDiF2bpMlHdy"
      }
    },
    {
      "cell_type": "code",
      "source": [
        "section_themes = soup.find_all('div', {\"class\" : \"rich-text\"})\n",
        "section_themes = section_themes[1].find_all(\"h3\")\n",
        "section_themes = [st.text.replace(\"\\n\", \"\") for st in section_themes]\n",
        "section_themes\n"
      ],
      "metadata": {
        "colab": {
          "base_uri": "https://localhost:8080/"
        },
        "id": "xDSEQ-VRlJVA",
        "outputId": "f02c8333-24b3-4013-db82-fd50982f040a"
      },
      "execution_count": null,
      "outputs": [
        {
          "output_type": "execute_result",
          "data": {
            "text/plain": [
              "['Extraction et structuration des données',\n",
              " 'Analyse et exploration des données',\n",
              " 'Communication avec les équipes clientes',\n",
              " 'Veille technologique sur les outils d’analyse de données']"
            ]
          },
          "metadata": {},
          "execution_count": 25
        }
      ]
    },
    {
      "cell_type": "markdown",
      "source": [
        "# 4. Récupérer les 2 liens"
      ],
      "metadata": {
        "id": "i7gkfb-hlYHw"
      }
    },
    {
      "cell_type": "code",
      "source": [
        "autres_fiches = soup.find_all(\"a\", {\"class\" : \"small-link\"})\n",
        "autres_fiches\n"
      ],
      "metadata": {
        "colab": {
          "base_uri": "https://localhost:8080/"
        },
        "id": "tNRAQvW9lX5Q",
        "outputId": "12037926-8b47-46b1-fed7-fe150a29baee"
      },
      "execution_count": null,
      "outputs": [
        {
          "output_type": "execute_result",
          "data": {
            "text/plain": [
              "[<a class=\"small-link\" href=\"/tous-nos-metiers/informatique/chief-data-officer.html\" title=\"Chief data officer F/H\">\n",
              " En savoir plus\n",
              " </a>,\n",
              " <a class=\"small-link\" href=\"/tous-nos-metiers/informatique/data-engineer.html\" title=\"Data engineer F/H\">\n",
              " En savoir plus\n",
              " </a>,\n",
              " <a class=\"small-link\" href=\"/tous-nos-metiers/informatique/data-scientist.html\" title=\"Data scientist F/H\">\n",
              " En savoir plus\n",
              " </a>,\n",
              " <a class=\"small-link\" href=\"/tous-nos-metiers/commercial-marketing/business-analyst.html\" title=\"Business analyst F/H\">\n",
              " En savoir plus\n",
              " </a>,\n",
              " <a class=\"small-link\" href=\"/tous-nos-metiers/etudes-recherche-et-developpement/charge-detudes-socio-economiques.html\" title=\"Chargé d'études socio-économiques F/H\">\n",
              " En savoir plus\n",
              " </a>,\n",
              " <a class=\"small-link\" href=\"/tous-nos-metiers/etudes-recherche-et-developpement/statisticien.html\" title=\"Statisticien F/H\">\n",
              " En savoir plus\n",
              " </a>]"
            ]
          },
          "metadata": {},
          "execution_count": 26
        }
      ]
    },
    {
      "cell_type": "code",
      "source": [
        "liens_fiches = [autre_fiche['href'] for autre_fiche in autres_fiches]\n",
        "liens_fiches"
      ],
      "metadata": {
        "colab": {
          "base_uri": "https://localhost:8080/"
        },
        "id": "2Z7EW01YsYnu",
        "outputId": "07faef4b-60cd-4191-c7ad-95305d8cf484"
      },
      "execution_count": null,
      "outputs": [
        {
          "output_type": "execute_result",
          "data": {
            "text/plain": [
              "['/tous-nos-metiers/informatique/chief-data-officer.html',\n",
              " '/tous-nos-metiers/informatique/data-engineer.html',\n",
              " '/tous-nos-metiers/informatique/data-scientist.html',\n",
              " '/tous-nos-metiers/commercial-marketing/business-analyst.html',\n",
              " '/tous-nos-metiers/etudes-recherche-et-developpement/charge-detudes-socio-economiques.html',\n",
              " '/tous-nos-metiers/etudes-recherche-et-developpement/statisticien.html']"
            ]
          },
          "metadata": {},
          "execution_count": 27
        }
      ]
    },
    {
      "cell_type": "code",
      "source": [
        "page_liens = soup.find_all(\"a\", {\"title\": [\"Data engineer F/H\", \"Data scientist F/H\"]})\n",
        "page_liens = [pl.get(\"href\") for pl in page_liens]\n",
        "page_liens"
      ],
      "metadata": {
        "colab": {
          "base_uri": "https://localhost:8080/"
        },
        "id": "diEjPj8Ztc_Q",
        "outputId": "fe4acba2-5c37-4a99-b219-3ed012a7a774"
      },
      "execution_count": null,
      "outputs": [
        {
          "output_type": "execute_result",
          "data": {
            "text/plain": [
              "['/tous-nos-metiers/informatique/data-engineer.html',\n",
              " '/tous-nos-metiers/informatique/data-scientist.html']"
            ]
          },
          "metadata": {},
          "execution_count": 28
        }
      ]
    }
  ]
}