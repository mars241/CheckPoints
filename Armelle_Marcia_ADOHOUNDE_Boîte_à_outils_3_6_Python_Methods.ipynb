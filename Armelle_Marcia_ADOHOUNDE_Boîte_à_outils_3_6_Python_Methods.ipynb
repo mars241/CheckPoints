{
  "nbformat": 4,
  "nbformat_minor": 0,
  "metadata": {
    "colab": {
      "provenance": [],
      "include_colab_link": true
    },
    "kernelspec": {
      "name": "python3",
      "display_name": "Python 3"
    },
    "language_info": {
      "name": "python"
    }
  },
  "cells": [
    {
      "cell_type": "markdown",
      "metadata": {
        "id": "view-in-github",
        "colab_type": "text"
      },
      "source": [
        "<a href=\"https://colab.research.google.com/github/mars241/CheckPoints/blob/main/Armelle_Marcia_ADOHOUNDE_Bo%C3%AEte_%C3%A0_outils_3_6_Python_Methods.ipynb\" target=\"_parent\"><img src=\"https://colab.research.google.com/assets/colab-badge.svg\" alt=\"Open In Colab\"/></a>"
      ]
    },
    {
      "cell_type": "code",
      "source": [
        "#1 FONCTION ENUMERATE\n",
        "#Si vous voulez en récupérer l'index d'un itérable, vous pouvez utiliser la fonction enumerate .\n",
        "liste = [\"a\",\"d\",\"m\"]\n",
        "for lettre in enumerate(liste):\n",
        "  print (lettre)\n",
        "\n",
        "#Les valeurs retournées par la boucle sont des tuples.\n",
        "#(0, 'a')\n",
        "#(1, 'd')\n",
        "#(2, 'm')"
      ],
      "metadata": {
        "colab": {
          "base_uri": "https://localhost:8080/"
        },
        "id": "XTXdjxWFSbs5",
        "outputId": "040806d2-dd43-4670-dd07-02edeafed9b8"
      },
      "execution_count": null,
      "outputs": [
        {
          "output_type": "stream",
          "name": "stdout",
          "text": [
            "(0, 'a')\n",
            "(1, 'd')\n",
            "(2, 'm')\n"
          ]
        }
      ]
    },
    {
      "cell_type": "code",
      "source": [
        "#2 CREATE.TABLEAU. ARRANGE (IMPORT BIBLIOTHEQUE/MODULE)\n",
        "# Programme Python pour itérer sur un tableau\n",
        "# import module \"geek\" du numpy\n",
        "import numpy as geek\n",
        "\n",
        "#création d'un tableau à l'aide de la méthode arrange\n",
        "a = geek.arange(9)\n",
        "a"
      ],
      "metadata": {
        "colab": {
          "base_uri": "https://localhost:8080/"
        },
        "id": "qoHpXv8sPu_L",
        "outputId": "ee6c3e9f-90e3-44ca-ab90-c732e04adf15"
      },
      "execution_count": null,
      "outputs": [
        {
          "output_type": "execute_result",
          "data": {
            "text/plain": [
              "array([0, 1, 2, 3, 4, 5, 6, 7, 8])"
            ]
          },
          "metadata": {},
          "execution_count": 5
        }
      ]
    },
    {
      "cell_type": "code",
      "source": [
        "#3 BONNE METHODE POUR COPIER UNE LISTE(sans écraser l'original)\n",
        "#Alors comment copier une liste qui sera indépendante?\n",
        "x = [1,2,3]\n",
        "y = x[:]\n",
        "print(y)"
      ],
      "metadata": {
        "colab": {
          "base_uri": "https://localhost:8080/"
        },
        "id": "ils-m1e-UGHR",
        "outputId": "b27d37fb-1689-45be-e695-e0c8efc70cf6"
      },
      "execution_count": null,
      "outputs": [
        {
          "output_type": "stream",
          "name": "stdout",
          "text": [
            "[1, 2, 3]\n"
          ]
        }
      ]
    },
    {
      "cell_type": "code",
      "metadata": {
        "colab": {
          "base_uri": "https://localhost:8080/"
        },
        "id": "wBbRukL224E2",
        "outputId": "91236cd8-200e-497c-d966-67f8631b0d38"
      },
      "source": [
        "#3 bis COPY.DEEPCOPY (IMPORT MODULE) : crée une copie indépendante, ce qui signifie que l'on peut modifier le nouvel objet sans modifier l'original.\n",
        "# Exemple : créer une copie d'une liste\n",
        "\n",
        "#Pour des données plus complexes, vous pouvez utiliser la fonction deepcopy du module copy\n",
        "\n",
        "import copy\n",
        "x = [[1,2], 2]\n",
        "y = copy.deepcopy(x)\n",
        "y"
      ],
      "execution_count": null,
      "outputs": [
        {
          "output_type": "execute_result",
          "data": {
            "text/plain": [
              "[[1, 2], 2]"
            ]
          },
          "metadata": {},
          "execution_count": 7
        }
      ]
    },
    {
      "cell_type": "code",
      "metadata": {
        "colab": {
          "base_uri": "https://localhost:8080/",
          "height": 36
        },
        "id": "7dsKu6ZUf8vS",
        "outputId": "b37c0736-f0b5-4fa5-b2db-dd6510e006fe"
      },
      "source": [
        "#4 FONCTION\n",
        "# fct pésonalisé pour ajouter un an à chaque fois\n",
        "def grandir(nom, age):\n",
        "    message = f'Bonjour {nom}, vous avez grandi. Vous avez désormais {age + 1} ans'\n",
        "    return message\n",
        "#exécution du code:\n",
        "m = grandir('Bob', 15)\n",
        "m"
      ],
      "execution_count": null,
      "outputs": [
        {
          "output_type": "execute_result",
          "data": {
            "text/plain": [
              "'Bonjour Bob, vous avez grandi. Vous avez désormais 16 ans'"
            ],
            "application/vnd.google.colaboratory.intrinsic+json": {
              "type": "string"
            }
          },
          "metadata": {},
          "execution_count": 8
        }
      ]
    },
    {
      "cell_type": "code",
      "metadata": {
        "colab": {
          "base_uri": "https://localhost:8080/"
        },
        "id": "xP81i3yOkOih",
        "outputId": "ebb26500-6d44-4aa4-c90d-82721783bfbc"
      },
      "source": [
        "#5 SPLIT (TRANSPORMATION STRING EN LISTE)\n",
        "# Transformer une string en liste\n",
        "# Parfois il peut être utile de transformer une chaine de caractère en liste. Cela est possible avec la méthode split .\n",
        "\n",
        "ma_chaine = \"Olivier:ENGEL:Strasbourg\"\n",
        "ma_chaine.split(\":\")\n",
        "#résultat :['Olivier', 'ENGEL', 'Strasbourg']"
      ],
      "execution_count": null,
      "outputs": [
        {
          "output_type": "execute_result",
          "data": {
            "text/plain": [
              "['Olivier', 'ENGEL', 'Strasbourg']"
            ]
          },
          "metadata": {},
          "execution_count": 9
        }
      ]
    },
    {
      "cell_type": "code",
      "metadata": {
        "colab": {
          "base_uri": "https://localhost:8080/",
          "height": 36
        },
        "id": "YE4hpmdVghfB",
        "outputId": "f6fd5249-6258-4671-a548-cc2a266639a1"
      },
      "source": [
        "#5 bis .JOIN (MODULE INVERSE DE SPLIT)\n",
        "#Transformer une liste en string\n",
        "# L'inverse de \"split\" est possible avec la méthode \" join \".\n",
        "\n",
        "liste = [\"Olivier\",\"ENGEL\",\"Strasbourg\"]\n",
        "\":\".join(liste)\n",
        "#resultat :'Olivier:ENGEL:Strasbourg'"
      ],
      "execution_count": null,
      "outputs": [
        {
          "output_type": "execute_result",
          "data": {
            "text/plain": [
              "'Olivier:ENGEL:Strasbourg'"
            ],
            "application/vnd.google.colaboratory.intrinsic+json": {
              "type": "string"
            }
          },
          "metadata": {},
          "execution_count": 10
        }
      ]
    },
    {
      "cell_type": "code",
      "metadata": {
        "colab": {
          "base_uri": "https://localhost:8080/"
        },
        "id": "Gy-oaJpmgxE1",
        "outputId": "5427050c-c247-4d70-b0f5-af03e53e97d8"
      },
      "source": [
        "#6 PERMUTATIONS (IMPORT MODULE)\n",
        "# La permutation d'un ensemble d'éléments est une liste de tous les cas possibles. Si vous avez besoin de cette fonctionnalité, inutile de réinventer la roue, itertools s'en occupe pour vous.\n",
        "\n",
        "from itertools import permutations\n",
        "list(permutations(['a', 'b', 'c']))\n",
        "#Résultat :[('a', 'b', 'c'), ('a', 'c', 'b'), ('b', 'a', 'c'), ('b', 'c', 'a'), ('c', 'a', 'b'), ('c', 'b', 'a')]"
      ],
      "execution_count": null,
      "outputs": [
        {
          "output_type": "execute_result",
          "data": {
            "text/plain": [
              "[('a', 'b', 'c'),\n",
              " ('a', 'c', 'b'),\n",
              " ('b', 'a', 'c'),\n",
              " ('b', 'c', 'a'),\n",
              " ('c', 'a', 'b'),\n",
              " ('c', 'b', 'a')]"
            ]
          },
          "metadata": {},
          "execution_count": 11
        }
      ]
    },
    {
      "cell_type": "code",
      "source": [
        "#6 bis PERMUTATIONS (IMPORT MODULE)\n",
        "# Permutation d'une liste de liste\n",
        "# Comment afficher tous les cas possibles d'une liste elle-même composée de liste? Avec l'outil product de itertools :\n",
        "\n",
        "from itertools import product\n",
        "list(product(['a', 'b'], ['c', 'd']))\n",
        "#Résultat :[('a', 'c'), ('a', 'd'), ('b', 'c'), ('b', 'd')]"
      ],
      "metadata": {
        "colab": {
          "base_uri": "https://localhost:8080/"
        },
        "id": "0E12LWH7Zish",
        "outputId": "1e8b232f-294c-4408-af5e-5b97b3c1bde6"
      },
      "execution_count": null,
      "outputs": [
        {
          "output_type": "execute_result",
          "data": {
            "text/plain": [
              "[('a', 'c'), ('a', 'd'), ('b', 'c'), ('b', 'd')]"
            ]
          },
          "metadata": {},
          "execution_count": 12
        }
      ]
    },
    {
      "cell_type": "code",
      "metadata": {
        "colab": {
          "base_uri": "https://localhost:8080/",
          "height": 35
        },
        "id": "GJTtDRPLhGRs",
        "outputId": "9ae62294-f3b1-4b06-b97c-5236bfe75f51"
      },
      "source": [
        "#7 GET : retourne la valeur de la clé spécifiée dans un dictionnaire\n",
        "\n",
        "ex_dict = {'word1' : 'Hello', 'word2' : \"world\", 'punctuation' : ' !'}\n",
        "ex_dict.get('word1')"
      ],
      "execution_count": null,
      "outputs": [
        {
          "output_type": "execute_result",
          "data": {
            "application/vnd.google.colaboratory.intrinsic+json": {
              "type": "string"
            },
            "text/plain": [
              "'Hello'"
            ]
          },
          "metadata": {},
          "execution_count": 17
        }
      ]
    },
    {
      "cell_type": "code",
      "metadata": {
        "colab": {
          "base_uri": "https://localhost:8080/"
        },
        "id": "t9h2Yfpjip5y",
        "outputId": "f8b65faf-d4bb-4312-e9f8-273a9c6e30bb"
      },
      "source": [
        "#8 FRONZENSET : renvoie un objet frozenset non modifiable\n",
        "\n",
        "ex_dict = {'word1' : 'Hello', 'word2' : \"world\", 'punctuation' : ' !'}\n",
        "frozen_dict = frozenset(ex_dict)\n",
        "frozen_dict"
      ],
      "execution_count": null,
      "outputs": [
        {
          "output_type": "execute_result",
          "data": {
            "text/plain": [
              "frozenset({'punctuation', 'word1', 'word2'})"
            ]
          },
          "metadata": {},
          "execution_count": 21
        }
      ]
    },
    {
      "cell_type": "code",
      "metadata": {
        "colab": {
          "base_uri": "https://localhost:8080/"
        },
        "id": "SkcbwWbijBnO",
        "outputId": "7b9527bf-e64a-4a5d-abf4-f71dfeef9a2d"
      },
      "source": [
        "#8 bis SORTED : renvoie une liste triée de l'objet itérable spécifié\n",
        "\n",
        "numbers = [6, 2, 1, 4, 5, 3]\n",
        "sorted_numbers = sorted(numbers)\n",
        "sorted_numbers"
      ],
      "execution_count": null,
      "outputs": [
        {
          "output_type": "execute_result",
          "data": {
            "text/plain": [
              "[1, 2, 3, 4, 5, 6]"
            ]
          },
          "metadata": {},
          "execution_count": 27
        }
      ]
    },
    {
      "cell_type": "code",
      "source": [
        "#9 LIST.APPEND: ajouter pour rechercher un caractère dans une liste\n",
        "fruits = [\"apple\", \"banana\", \"cherry\", \"kiwi\", \"mango\"]\n",
        "newlist = []\n",
        "\n",
        "# 1er vesion :quand il y a \"a\" garder la str\n",
        "for x in fruits:\n",
        "  if \"a\" in x:\n",
        "    newlist.append(x)\n",
        "\n",
        "print(newlist)\n",
        "\n",
        "#Résultat :['apple', 'banana', 'mango']\n",
        "\n",
        "# 2eme vesion :quand il y a \"a\" garder la str\n",
        "fruits = [\"apple\", \"banana\", \"cherry\", \"kiwi\", \"mango\"]\n",
        "newlist = [x for x in fruits if \"a\" in x]\n",
        "\n",
        "print(newlist)\n",
        "\n",
        "#Résultat :['apple', 'banana', 'mango']"
      ],
      "metadata": {
        "id": "wyKOd6_RPGDP"
      },
      "execution_count": null,
      "outputs": []
    },
    {
      "cell_type": "code",
      "metadata": {
        "colab": {
          "base_uri": "https://localhost:8080/"
        },
        "id": "WJv58WvV2aYU",
        "outputId": "5e6e8ac3-6b81-42af-96bd-3156fc0190a6"
      },
      "source": [
        "#9 bis FILTER FUNCTION(USE FUNCTION LAMBDA) : retourne les éléments de l'itérable pour lesquels la fonction retourne Vrai.\n",
        "# Exemple : récupérer les nombres impairs d'une liste.\n",
        "\n",
        "nbrs = [1, 2, 3, 4, 5, 6, 7, 8 , 9]\n",
        "nbrs_impaire = list(filter(lambda x: x % 2, nbrs))\n",
        "nbrs_impaire"
      ],
      "execution_count": null,
      "outputs": [
        {
          "output_type": "execute_result",
          "data": {
            "text/plain": [
              "[1, 3, 5, 7, 9]"
            ]
          },
          "metadata": {},
          "execution_count": 1
        }
      ]
    },
    {
      "cell_type": "code",
      "metadata": {
        "colab": {
          "base_uri": "https://localhost:8080/"
        },
        "id": "31-umTfd12HJ",
        "outputId": "c0cdb5c6-8d30-4464-f420-5719dda23878"
      },
      "source": [
        "#10 MAP FUNCTION (USE FUNCTION LAMBDA) : applique une fonction donnée à chaque élément d'un itérable\n",
        "# Exemple : ajouter 1 à chaque élément d'une liste\n",
        "\n",
        "numbers = [1, 2, 3, 4, 5]\n",
        "list(map(lambda x: x + 1, numbers))"
      ],
      "execution_count": null,
      "outputs": [
        {
          "output_type": "execute_result",
          "data": {
            "text/plain": [
              "[2, 3, 4, 5, 6]"
            ]
          },
          "metadata": {},
          "execution_count": 1
        }
      ]
    }
  ]
}