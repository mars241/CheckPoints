{
  "nbformat": 4,
  "nbformat_minor": 0,
  "metadata": {
    "colab": {
      "provenance": [],
      "include_colab_link": true
    },
    "kernelspec": {
      "name": "python3",
      "display_name": "Python 3"
    },
    "language_info": {
      "name": "python"
    }
  },
  "cells": [
    {
      "cell_type": "markdown",
      "metadata": {
        "id": "view-in-github",
        "colab_type": "text"
      },
      "source": [
        "<a href=\"https://colab.research.google.com/github/mars241/CheckPoints/blob/main/Corr_W05_Dojo_Python_Cr%C3%A9ation_Quiz_Solution_1_.ipynb\" target=\"_parent\"><img src=\"https://colab.research.google.com/assets/colab-badge.svg\" alt=\"Open In Colab\"/></a>"
      ]
    },
    {
      "cell_type": "code",
      "metadata": {
        "colab": {
          "base_uri": "https://localhost:8080/"
        },
        "id": "jKUxfnhFaOmW",
        "outputId": "527a01e4-02da-4580-fc29-61b2f64d8dcc"
      },
      "source": [
        "# 1. Commençons par intégrer nos questions et réponses attendus dans des listes séparées.\n",
        "\n",
        "list_questions = [\"Question 1: \\nDe quelle couleur est l'enfant de la poule?\",\n",
        "                  \"Question 2: \\nEst-ce que Madrid est la capitale de la Belgique? \\nTrue\\nFalse\",\n",
        "                  \"Question 3: \\nCombien de nains y a t'il dans Blanche Neige\"]\n",
        "\n",
        "list_answers = [\"Jaune\", \"False\", 7]\n",
        "\n",
        "# 2. On définit le nombre d'essais par question.\n",
        "nb_tries = 3\n",
        "# Bonus: On définit le nombre de point.\n",
        "nb_points = 0\n",
        "\n",
        "# 3. On a nos questions et nos réponses, on peut commencer à faire nos boucles.\n",
        "# On pose la première question, et on fait en sorte que le joueur puisse y répondre.\n",
        "\n",
        "print(list_questions[0])\n",
        "# On met des conditions, qui vont emmener le programme vers des réponses à afficher, en fonction des réponses de l'utilisateur.\n",
        "# On peut commencer avec if:\n",
        "\n",
        "while list_answers[0] != str(input()).title():\n",
        "  nb_tries -= 1\n",
        "\n",
        "  # Prendre en compte le nombre d'essais.\n",
        "  # Si l'utilisateur n'a plus d'essais, il a perdu, le jeu s'arrête (breakb)\n",
        "  if nb_tries != 0:\n",
        "    print(\"\\nFaux ! Il te reste {} essai(s)\" .format(nb_tries))\n",
        "  else:\n",
        "    print(\"\\nDommage ! Tu as perdu ! \\nScore total: {} point(s)\" .format(nb_points))\n",
        "    break\n",
        "\n",
        "\n",
        "else:\n",
        "  nb_tries = 3\n",
        "  nb_points += 1\n",
        "  print(\"\\nBravo! Très bonne réponse !\\nTu as de nouveau {} essai(s).\" .format(nb_tries))\n",
        "  print(\"Tu as gagné {} point(s).\\n\" .format(nb_points))\n",
        "  print(list_questions[1])\n",
        "\n",
        "  while list_answers[1] != str(input()).title():\n",
        "    nb_tries -= 1\n",
        "\n",
        "    if nb_tries != 0:\n",
        "      print(\"\\nFaux ! Il te reste {} essai(s).\" .format(nb_tries))\n",
        "    else:\n",
        "      print(\"\\nDommage ! Tu as perdu ! \\nScore Total: {} point(s)\" .format(nb_points))\n",
        "      break\n",
        "\n",
        "  else:\n",
        "    nb_tries = 3\n",
        "    nb_points += 1\n",
        "    print(\"\\nBravo! Très bonne réponse !\\nTu as de nouveau {} essai(s).\" .format(nb_tries))\n",
        "    print(\"Tu as maintenant {} point(s).\\n\" .format(nb_points))\n",
        "    print(list_questions[2] + \" (en chiffres) ?\")\n",
        "\n",
        "    while list_answers[2] != int(input()):\n",
        "      nb_tries -= 1\n",
        "\n",
        "      if nb_tries != 0:\n",
        "        print(\"\\nFaux ! Il te reste {} essai(s).\" .format(nb_tries))\n",
        "      else:\n",
        "        print(\"\\nDommage ! Tu as perdu ! \\nScore total: {} point(s)\" .format(nb_points))\n",
        "        break\n",
        "\n",
        "    else:\n",
        "      nb_points += 1\n",
        "      print(\"\"\"\\nTu as terminé le jeu avec le meilleur score: {} point(s).\n",
        "Félicitations !\n",
        "      \"\"\".format(nb_points))"
      ],
      "execution_count": null,
      "outputs": [
        {
          "output_type": "stream",
          "text": [
            "Question 1: \n",
            "De quelle couleur est l'enfant de la poule?\n",
            "jaune\n",
            "\n",
            "Bravo! Très bonne réponse !\n",
            "Tu as de nouveau 3 essai(s).\n",
            "Tu as gagné 1 point(s).\n",
            "\n",
            "Question 2: \n",
            "Est-ce que Madrid est la capitale de la Belgique? \n",
            "True\n",
            "False\n"
          ],
          "name": "stdout"
        }
      ]
    },
    {
      "cell_type": "code",
      "metadata": {
        "id": "gHC3Hwui3BQZ"
      },
      "source": [],
      "execution_count": null,
      "outputs": []
    }
  ]
}