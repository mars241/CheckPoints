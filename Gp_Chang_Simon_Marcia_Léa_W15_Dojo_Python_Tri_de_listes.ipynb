{
  "nbformat": 4,
  "nbformat_minor": 0,
  "metadata": {
    "colab": {
      "provenance": [],
      "include_colab_link": true
    },
    "kernelspec": {
      "name": "python3",
      "display_name": "Python 3"
    },
    "language_info": {
      "name": "python"
    }
  },
  "cells": [
    {
      "cell_type": "markdown",
      "metadata": {
        "id": "view-in-github",
        "colab_type": "text"
      },
      "source": [
        "<a href=\"https://colab.research.google.com/github/mars241/CheckPoints/blob/main/Gp_Chang_Simon_Marcia_L%C3%A9a_W15_Dojo_Python_Tri_de_listes.ipynb\" target=\"_parent\"><img src=\"https://colab.research.google.com/assets/colab-badge.svg\" alt=\"Open In Colab\"/></a>"
      ]
    },
    {
      "cell_type": "markdown",
      "source": [
        "### **Mission 1 : triez une liste SANS les fonctions *sort* / *sorted***"
      ],
      "metadata": {
        "id": "pLZloDswvxoE"
      }
    },
    {
      "cell_type": "code",
      "source": [
        "# QUESTION : triez une liste SANS les fonctions sort / sorted\n",
        "random_list = [5, 9, -175, 35.124/3, 6.84, 0, abs(-16), 0]"
      ],
      "metadata": {
        "id": "ajSz2vcY1B6h"
      },
      "execution_count": null,
      "outputs": []
    },
    {
      "cell_type": "code",
      "source": [
        "# Test pour afficher la liste donnée :\n",
        "random_list = [5, 9, -175, 35.124/3, 6.84, 0, abs(-16), 0]\n",
        "random_list"
      ],
      "metadata": {
        "colab": {
          "base_uri": "https://localhost:8080/"
        },
        "id": "rkjAcefJS-gJ",
        "outputId": "f0a42fc0-d8b4-4a11-bd54-9b70e16f9ee3"
      },
      "execution_count": null,
      "outputs": [
        {
          "output_type": "execute_result",
          "data": {
            "text/plain": [
              "[5, 9, -175, 11.708, 6.84, 0, 16, 0]"
            ]
          },
          "metadata": {},
          "execution_count": 2
        }
      ]
    },
    {
      "cell_type": "code",
      "source": [
        "random_list = [5, 9, -175, 35.124/3, 6.84, 0, abs(-16), 0]\n",
        "\n",
        "# REPONSE :\n",
        "# Utilisons une fonction pour trier par ordre croissant :\n",
        "\n",
        "def trier(random_list):\n",
        "    r=[] # initialisation\n",
        "    while random_list:\n",
        "        mini=random_list[0]\n",
        "        for z in random_list:\n",
        "            if z < mini:\n",
        "                mini=z\n",
        "        random_list.remove(mini)\n",
        "        r.append(mini) # Ajouter à la suite chaque minimum\n",
        "    return r\n",
        "\n",
        "\n",
        "\n",
        "print(trier([5, 9, -175, 35.124/3, 6.84, 0, abs(-16), 0]))"
      ],
      "metadata": {
        "id": "ae11BomFt_TS",
        "colab": {
          "base_uri": "https://localhost:8080/"
        },
        "outputId": "139bfacd-1c8e-4a4a-92a9-5e3eea32405e"
      },
      "execution_count": null,
      "outputs": [
        {
          "output_type": "stream",
          "name": "stdout",
          "text": [
            "[-175, 0, 0, 5, 6.84, 9, 11.708, 16]\n"
          ]
        }
      ]
    },
    {
      "cell_type": "code",
      "source": [
        "# CORRECTION:\n",
        "\n",
        "random_list = [5, 9, -175, 35.124/3, 6.84, 0, abs(-16), 0]\n",
        "\n",
        "sorted_list = []\n",
        "\n",
        "for i in range(len(random_list)):\n",
        "  lowest = min(random_list)\n",
        "  sorted_list.append(lowest)\n",
        "  random_list.remove(lowest)\n",
        "\n",
        "sorted_list"
      ],
      "metadata": {
        "colab": {
          "base_uri": "https://localhost:8080/"
        },
        "id": "MgfNYEwrxq7P",
        "outputId": "ecf7edcd-9b08-4519-83cf-96ae2a7c1370"
      },
      "execution_count": null,
      "outputs": [
        {
          "output_type": "execute_result",
          "data": {
            "text/plain": [
              "[-175, 0, 0, 5, 6.84, 9, 11.708, 16]"
            ]
          },
          "metadata": {},
          "execution_count": 17
        }
      ]
    },
    {
      "cell_type": "markdown",
      "source": [
        "### **Mission 2 : vous avez utilisé une boucle *for* ? Utilisez maintenant une boucle *while*... Et vice-versa !**"
      ],
      "metadata": {
        "id": "5-UuRmR0v0GK"
      }
    },
    {
      "cell_type": "code",
      "source": [
        "# QUESTION:\n",
        "#  vous avez utilisé une boucle for ? Utilisez maintenant une boucle while... Et vice-versa !\n",
        "random_list = [5, 9, -175, 35.124/3, 6.84, 0, abs(-16), 0]"
      ],
      "metadata": {
        "id": "Pup4YQcj1ZIB"
      },
      "execution_count": null,
      "outputs": []
    },
    {
      "cell_type": "code",
      "source": [
        "random_list = [5, 9, -175, 35.124/3, 6.84, 0, abs(-16), 0]\n",
        "\n",
        "# Utilisons le boucle for ici ...\n",
        "\n",
        "def trier2(random_list):\n",
        "    for i in range(len (random_list)):\n",
        "        mini=i\n",
        "        for j in range(i+1, len (random_list)):\n",
        "            if random_list[j]<random_list[mini] :\n",
        "                mini = j\n",
        "        random_list[i], random_list[mini] = random_list[mini], random_list[i] # Ajouter à la suite avec ',' et par affectation\n",
        "    return random_list\n",
        "\n",
        "print(trier2([5, 9, -175, 35.124/3, 6.84, 0, abs(-16), 0]))"
      ],
      "metadata": {
        "id": "Br4mo1DEv3Cp",
        "colab": {
          "base_uri": "https://localhost:8080/"
        },
        "outputId": "03a44047-1009-45a2-d6b2-0956c9a2f7cf"
      },
      "execution_count": null,
      "outputs": [
        {
          "output_type": "stream",
          "name": "stdout",
          "text": [
            "[-175, 0, 0, 5, 6.84, 9, 11.708, 16]\n"
          ]
        }
      ]
    },
    {
      "cell_type": "code",
      "source": [
        "# CORRECTION:\n",
        "\n",
        "random_list = [5, 9, -175, 35.124/3, 6.84, 0, abs(-16), 0]\n",
        "\n",
        "sorted_list = []\n",
        "\n",
        "while len(random_list) > 0:\n",
        "  lowest = min(random_list)\n",
        "  sorted_list.append(lowest)\n",
        "  random_list.remove(lowest)\n",
        "\n",
        "sorted_list"
      ],
      "metadata": {
        "colab": {
          "base_uri": "https://localhost:8080/"
        },
        "id": "f4Gp6wVoyDYv",
        "outputId": "67ca0ea4-5650-4d74-e8b4-cb21de9d545d"
      },
      "execution_count": null,
      "outputs": [
        {
          "output_type": "execute_result",
          "data": {
            "text/plain": [
              "[-175, 0, 0, 5, 6.84, 9, 11.708, 16]"
            ]
          },
          "metadata": {},
          "execution_count": 18
        }
      ]
    },
    {
      "cell_type": "markdown",
      "source": [
        "### **Mission 3 : réécrivez votre code sous forme de fonction**"
      ],
      "metadata": {
        "id": "niQZY37rwkD2"
      }
    },
    {
      "cell_type": "code",
      "source": [
        " # QUESTION:\n",
        "\n",
        " # Supprimez \"pass\" et écrivez votre fonction\n",
        "\n",
        " #  réécrivez votre code sous forme de fonction\n",
        "\n",
        "def sort_without_sort(random_list):\n",
        "  pass"
      ],
      "metadata": {
        "id": "Ggc5w-pTVYeU"
      },
      "execution_count": null,
      "outputs": []
    },
    {
      "cell_type": "code",
      "source": [
        "# test pour afficher la liste donné\n",
        "random_list = [5, 9, -175, 35.124/3, 6.84, 0, abs(-16), 0]\n",
        "random_list"
      ],
      "metadata": {
        "id": "NTLV1pGUxdEL",
        "colab": {
          "base_uri": "https://localhost:8080/"
        },
        "outputId": "cb020e32-d404-4eb7-b843-420f2b68a305"
      },
      "execution_count": null,
      "outputs": [
        {
          "output_type": "execute_result",
          "data": {
            "text/plain": [
              "[5, 9, -175, 11.708, 6.84, 0, 16, 0]"
            ]
          },
          "metadata": {},
          "execution_count": 14
        }
      ]
    },
    {
      "cell_type": "code",
      "source": [
        " # Réponse à : Supprimez \"pass\" et écrivez votre fonction\n",
        "\n",
        "# Au dessus, on a pas utiliser \"pass\"!, ici le code reste le même.\n",
        "def sort_without_sort(random_list):\n",
        "  for i in range(len (random_list)):\n",
        "        mini=i\n",
        "        for j in range(i+1, len (random_list)):\n",
        "            if random_list[j]<random_list[mini] :\n",
        "                mini = j\n",
        "        random_list[i], random_list[mini] = random_list[mini], random_list[i] # Ajouter à la suite dans une liste avec ',' et par affectation\n",
        "  return random_list\n",
        "\n",
        "print(sort_without_sort([5, 9, -175, 35.124/3, 6.84, 0, abs(-16), 0]))"
      ],
      "metadata": {
        "id": "bu_D-hp2wl86",
        "colab": {
          "base_uri": "https://localhost:8080/"
        },
        "outputId": "17ec5cbd-6eac-4158-f486-42162c2c464a"
      },
      "execution_count": null,
      "outputs": [
        {
          "output_type": "stream",
          "name": "stdout",
          "text": [
            "[-175, 0, 0, 5, 6.84, 9, 11.708, 16]\n"
          ]
        }
      ]
    },
    {
      "cell_type": "code",
      "source": [
        "# CORRECTION :\n",
        "\n",
        "random_list = [5, 9, -175, 35.124/3, 6.84, 0, abs(-16), 0]\n",
        "\n",
        "def sort_without_sort(random_list):\n",
        "  sorted_list = []\n",
        "\n",
        "  while len(random_list) > 0:\n",
        "    lowest = min(random_list)\n",
        "    sorted_list.append(lowest)\n",
        "    random_list.remove(lowest)\n",
        "\n",
        "  return sorted_list\n",
        "\n",
        "sorted_list"
      ],
      "metadata": {
        "colab": {
          "base_uri": "https://localhost:8080/"
        },
        "id": "LshvdWsmyv6E",
        "outputId": "27bc4228-b6c7-4ce1-bda2-76fd85700eb2"
      },
      "execution_count": null,
      "outputs": [
        {
          "output_type": "execute_result",
          "data": {
            "text/plain": [
              "[-175, 0, 0, 5, 6.84, 9, 11.708, 16]"
            ]
          },
          "metadata": {},
          "execution_count": 20
        }
      ]
    },
    {
      "cell_type": "markdown",
      "source": [
        "### **Mission 4 : quand certains nombres... ne sont pas des nombres !**"
      ],
      "metadata": {
        "id": "ZDX5zyUzw2A-"
      }
    },
    {
      "cell_type": "code",
      "source": [
        "# QUESTION : Réécrivez votre fonction de manière à ce qu'elle\n",
        "# fonctionne avec la liste suivante :\n",
        "\n",
        "mixed_list = [5, 9, -175, True, 6.84, 5//4, 0, \"12\", abs(-16)]"
      ],
      "metadata": {
        "id": "rarIHtiQ3Xt1"
      },
      "execution_count": null,
      "outputs": []
    },
    {
      "cell_type": "code",
      "source": [
        "# Test pour afficher la liste donnée:\n",
        "mixed_list = [5, 9, -175, True, 6.84, 5//4, 0, \"12\", abs(-16)]\n",
        "mixed_list"
      ],
      "metadata": {
        "colab": {
          "base_uri": "https://localhost:8080/"
        },
        "id": "QEyiOrm2tFRJ",
        "outputId": "e055f780-31af-4a12-bf22-c4f45e8d3b4a"
      },
      "execution_count": null,
      "outputs": [
        {
          "output_type": "execute_result",
          "data": {
            "text/plain": [
              "[5, 9, -175, True, 6.84, 1, 0, '12', 16]"
            ]
          },
          "metadata": {},
          "execution_count": 16
        }
      ]
    },
    {
      "cell_type": "code",
      "source": [
        "# test pour convertir en nombre\n",
        "float(True)"
      ],
      "metadata": {
        "colab": {
          "base_uri": "https://localhost:8080/"
        },
        "id": "j_92lpd-0jWR",
        "outputId": "24385a1a-5eec-43b5-e55e-c81a9fe009a2"
      },
      "execution_count": null,
      "outputs": [
        {
          "output_type": "execute_result",
          "data": {
            "text/plain": [
              "1.0"
            ]
          },
          "metadata": {},
          "execution_count": 21
        }
      ]
    },
    {
      "cell_type": "code",
      "source": [
        "# convertir la liste en nombre mésurable; entier(INT); nombre décimal(FLOAT)... Tout en le parcourant\n",
        "\n",
        "normal_list = [float(i) for i in mixed_list]\n",
        "normal_list"
      ],
      "metadata": {
        "colab": {
          "base_uri": "https://localhost:8080/"
        },
        "id": "1V_znSGd214B",
        "outputId": "7228819d-ccca-4a76-88ee-3777fbfa21d4"
      },
      "execution_count": null,
      "outputs": [
        {
          "output_type": "execute_result",
          "data": {
            "text/plain": [
              "[5.0, 9.0, -175.0, 1.0, 6.84, 1.0, 0.0, 12.0, 16.0]"
            ]
          },
          "metadata": {},
          "execution_count": 25
        }
      ]
    },
    {
      "cell_type": "code",
      "source": [
        "# Réponse à :\n",
        "# Réécrivez votre fonction de manière à ce qu'elle\n",
        "# fonctionne avec la liste suivante :\n",
        "\n",
        "mixed_list = [5, 9, -175, True, 6.84, 5//4, 0, \"12\", abs(-16)]\n",
        "\n",
        "# La fonction\n",
        "\n",
        "def sort_without_sort(mixed_list):\n",
        "  normal_list = [float(i) for i in mixed_list]\n",
        "  sorted_list = []\n",
        "\n",
        "  while len(normal_list) > 0:\n",
        "    lowest = min(normal_list)\n",
        "    sorted_list.append(lowest)\n",
        "    normal_list.remove(lowest)\n",
        "\n",
        "  return sorted_list\n",
        "\n",
        "sort_without_sort(mixed_list)"
      ],
      "metadata": {
        "colab": {
          "base_uri": "https://localhost:8080/"
        },
        "id": "gL6OQFXiuD-9",
        "outputId": "10cf6a13-aba8-4ec5-ab06-2aecfbc67e38"
      },
      "execution_count": null,
      "outputs": [
        {
          "output_type": "execute_result",
          "data": {
            "text/plain": [
              "[-175.0, 0.0, 1.0, 1.0, 5.0, 6.84, 9.0, 12.0, 16.0]"
            ]
          },
          "metadata": {},
          "execution_count": 26
        }
      ]
    },
    {
      "cell_type": "markdown",
      "source": [
        "### **Mission 5 : avec des nombres binaires**"
      ],
      "metadata": {
        "id": "bIkjkivK7ItC"
      }
    },
    {
      "cell_type": "code",
      "source": [
        "# QUESTION :\n",
        "# avec des nombres binaires\n",
        "binary_list = ['00010001', '0', '11111', '10']"
      ],
      "metadata": {
        "id": "qZAtAGNo3VfO"
      },
      "execution_count": null,
      "outputs": []
    },
    {
      "cell_type": "code",
      "source": [
        "# Test pour afficher la liste donnée:\n",
        "binary_list = ['00010001', '0', '11111', '10']\n",
        "binary_list"
      ],
      "metadata": {
        "colab": {
          "base_uri": "https://localhost:8080/"
        },
        "id": "dsirRxFqlI9_",
        "outputId": "93252551-3e56-41d0-ea93-2cd4c019b823"
      },
      "execution_count": null,
      "outputs": [
        {
          "output_type": "execute_result",
          "data": {
            "text/plain": [
              "['00010001', '0', '11111', '10']"
            ]
          },
          "metadata": {},
          "execution_count": 27
        }
      ]
    },
    {
      "cell_type": "code",
      "source": [
        "# test\n",
        "#CONVERTIR UN NOMBRE EN BASE 10 (binaire)\n",
        "bin(13)"
      ],
      "metadata": {
        "colab": {
          "base_uri": "https://localhost:8080/",
          "height": 36
        },
        "id": "NChH6NxGd9z_",
        "outputId": "2da9cf16-b87d-4783-8462-a9f3f0cfa8f7"
      },
      "execution_count": null,
      "outputs": [
        {
          "output_type": "execute_result",
          "data": {
            "text/plain": [
              "'0b1101'"
            ],
            "application/vnd.google.colaboratory.intrinsic+json": {
              "type": "string"
            }
          },
          "metadata": {},
          "execution_count": 10
        }
      ]
    },
    {
      "cell_type": "code",
      "source": [
        "# test\n",
        "# utiliser la base 8 (octale) pour convertir un nombre\n",
        "oct(113)"
      ],
      "metadata": {
        "colab": {
          "base_uri": "https://localhost:8080/",
          "height": 36
        },
        "id": "ijyDtz8Bc6gC",
        "outputId": "585abfa3-6f9c-44dd-b8dc-ba917453b217"
      },
      "execution_count": null,
      "outputs": [
        {
          "output_type": "execute_result",
          "data": {
            "text/plain": [
              "'0o161'"
            ],
            "application/vnd.google.colaboratory.intrinsic+json": {
              "type": "string"
            }
          },
          "metadata": {},
          "execution_count": 7
        }
      ]
    },
    {
      "cell_type": "code",
      "source": [
        "# test\n",
        "# Ecrire un binaire en entier en utilisant la fct 'int' et donner la base voulue(ici la base 2)\n",
        "a=int('00010001',2)\n",
        "a"
      ],
      "metadata": {
        "colab": {
          "base_uri": "https://localhost:8080/"
        },
        "id": "o-IXsnVQkqqR",
        "outputId": "9341fb0c-507a-4d20-f812-500944e678a5"
      },
      "execution_count": null,
      "outputs": [
        {
          "output_type": "execute_result",
          "data": {
            "text/plain": [
              "17"
            ]
          },
          "metadata": {},
          "execution_count": 13
        }
      ]
    },
    {
      "cell_type": "code",
      "source": [
        "def sort_without_sort(nested_lists):\n",
        "  normal_list = []\n",
        "\n",
        "  for item in nested_lists:\n",
        "    if type(item) == list:\n",
        "      for i in item:\n",
        "        normal_list.append(i)\n",
        "    else:\n",
        "      normal_list.append(item)\n",
        "\n",
        "  sorted_list = []\n",
        "\n",
        "  while len(normal_list) > 0:\n",
        "    lowest = min(normal_list)\n",
        "    sorted_list.append(lowest)\n",
        "    normal_list.remove(lowest)\n",
        "\n",
        "  return sorted_list\n",
        "\n",
        "sort_without_sort(nested_lists)"
      ],
      "metadata": {
        "colab": {
          "base_uri": "https://localhost:8080/"
        },
        "id": "njXqXsCO4Lx7",
        "outputId": "9abe4bb2-aaea-4de4-cc87-bf5dd17c4af4"
      },
      "execution_count": null,
      "outputs": [
        {
          "output_type": "execute_result",
          "data": {
            "text/plain": [
              "[-32.5, -15, 0, 0, 3, 6, 32.5]"
            ]
          },
          "metadata": {},
          "execution_count": 28
        }
      ]
    },
    {
      "cell_type": "markdown",
      "source": [
        "FONCTIONS à re- traiter"
      ],
      "metadata": {
        "id": "FEcJWT2P4ZzW"
      }
    },
    {
      "cell_type": "code",
      "source": [],
      "metadata": {
        "id": "JTFUvD1a4YM1"
      },
      "execution_count": null,
      "outputs": []
    },
    {
      "cell_type": "code",
      "source": [
        "binary_list = ['00010001', '0', '11111', '10']\n",
        "\n",
        "# convertir un binaire en entier:\n",
        "\n",
        "def get_decimal_value(binary_list):\n",
        "  resulte=0\n",
        "  first = binary_list.first\n",
        "  while first:\n",
        "     result = result*2 + first._item\n",
        "     first = first.next\n",
        "\n",
        "  return result\n",
        "\n",
        "\n",
        "print(get_decimal_value(['00010001', '0', '11111', '10']))"
      ],
      "metadata": {
        "id": "lEjjWaKy7IXf",
        "colab": {
          "base_uri": "https://localhost:8080/",
          "height": 321
        },
        "outputId": "82d61cfd-8428-4588-82ca-2bcf0bcb7ba8"
      },
      "execution_count": null,
      "outputs": [
        {
          "output_type": "error",
          "ename": "AttributeError",
          "evalue": "ignored",
          "traceback": [
            "\u001b[0;31m---------------------------------------------------------------------------\u001b[0m",
            "\u001b[0;31mAttributeError\u001b[0m                            Traceback (most recent call last)",
            "\u001b[0;32m<ipython-input-6-a7d1b102a26c>\u001b[0m in \u001b[0;36m<module>\u001b[0;34m\u001b[0m\n\u001b[1;32m     13\u001b[0m \u001b[0;34m\u001b[0m\u001b[0m\n\u001b[1;32m     14\u001b[0m \u001b[0;34m\u001b[0m\u001b[0m\n\u001b[0;32m---> 15\u001b[0;31m \u001b[0mprint\u001b[0m\u001b[0;34m(\u001b[0m\u001b[0mget_decimal_value\u001b[0m\u001b[0;34m(\u001b[0m\u001b[0;34m[\u001b[0m\u001b[0;34m'00010001'\u001b[0m\u001b[0;34m,\u001b[0m \u001b[0;34m'0'\u001b[0m\u001b[0;34m,\u001b[0m \u001b[0;34m'11111'\u001b[0m\u001b[0;34m,\u001b[0m \u001b[0;34m'10'\u001b[0m\u001b[0;34m]\u001b[0m\u001b[0;34m)\u001b[0m\u001b[0;34m)\u001b[0m\u001b[0;34m\u001b[0m\u001b[0;34m\u001b[0m\u001b[0m\n\u001b[0m",
            "\u001b[0;32m<ipython-input-6-a7d1b102a26c>\u001b[0m in \u001b[0;36mget_decimal_value\u001b[0;34m(binary_list)\u001b[0m\n\u001b[1;32m      5\u001b[0m \u001b[0;32mdef\u001b[0m \u001b[0mget_decimal_value\u001b[0m\u001b[0;34m(\u001b[0m\u001b[0mbinary_list\u001b[0m\u001b[0;34m)\u001b[0m\u001b[0;34m:\u001b[0m\u001b[0;34m\u001b[0m\u001b[0;34m\u001b[0m\u001b[0m\n\u001b[1;32m      6\u001b[0m   \u001b[0mresulte\u001b[0m\u001b[0;34m=\u001b[0m\u001b[0;36m0\u001b[0m\u001b[0;34m\u001b[0m\u001b[0;34m\u001b[0m\u001b[0m\n\u001b[0;32m----> 7\u001b[0;31m   \u001b[0mfirst\u001b[0m \u001b[0;34m=\u001b[0m \u001b[0mbinary_list\u001b[0m\u001b[0;34m.\u001b[0m\u001b[0mfirst\u001b[0m\u001b[0;34m\u001b[0m\u001b[0;34m\u001b[0m\u001b[0m\n\u001b[0m\u001b[1;32m      8\u001b[0m   \u001b[0;32mwhile\u001b[0m \u001b[0mfirst\u001b[0m\u001b[0;34m:\u001b[0m\u001b[0;34m\u001b[0m\u001b[0;34m\u001b[0m\u001b[0m\n\u001b[1;32m      9\u001b[0m      \u001b[0mresult\u001b[0m \u001b[0;34m=\u001b[0m \u001b[0mresult\u001b[0m\u001b[0;34m*\u001b[0m\u001b[0;36m2\u001b[0m \u001b[0;34m+\u001b[0m \u001b[0mfirst\u001b[0m\u001b[0;34m.\u001b[0m\u001b[0m_item\u001b[0m\u001b[0;34m\u001b[0m\u001b[0;34m\u001b[0m\u001b[0m\n",
            "\u001b[0;31mAttributeError\u001b[0m: 'list' object has no attribute 'first'"
          ]
        }
      ]
    },
    {
      "cell_type": "markdown",
      "source": [
        "### **Mission 6 : et avec une liste de listes... ?**\n"
      ],
      "metadata": {
        "id": "5n6rH0HZw3UF"
      }
    },
    {
      "cell_type": "code",
      "source": [
        "# Réécrivez votre fonction de manière à ce qu'elle\n",
        "# fonctionne avec la liste suivante :\n",
        "import numpy as np\n",
        "nested_lists = [3, [6, -15], [0, 32.5, -32.5], 0, []]\n",
        "#\n",
        "nested_lists_2 = nested_lists.reshape()\n",
        "\n",
        "nested_lists_2"
      ],
      "metadata": {
        "id": "AfzVR8Y3yg4b",
        "colab": {
          "base_uri": "https://localhost:8080/",
          "height": 235
        },
        "outputId": "b7cfcd8f-be4f-4944-8679-e6760f5e2fea"
      },
      "execution_count": null,
      "outputs": [
        {
          "output_type": "error",
          "ename": "AttributeError",
          "evalue": "ignored",
          "traceback": [
            "\u001b[0;31m---------------------------------------------------------------------------\u001b[0m",
            "\u001b[0;31mAttributeError\u001b[0m                            Traceback (most recent call last)",
            "\u001b[0;32m<ipython-input-12-c37f588620e7>\u001b[0m in \u001b[0;36m<module>\u001b[0;34m\u001b[0m\n\u001b[1;32m      4\u001b[0m \u001b[0mnested_lists\u001b[0m \u001b[0;34m=\u001b[0m \u001b[0;34m[\u001b[0m\u001b[0;36m3\u001b[0m\u001b[0;34m,\u001b[0m \u001b[0;34m[\u001b[0m\u001b[0;36m6\u001b[0m\u001b[0;34m,\u001b[0m \u001b[0;34m-\u001b[0m\u001b[0;36m15\u001b[0m\u001b[0;34m]\u001b[0m\u001b[0;34m,\u001b[0m \u001b[0;34m[\u001b[0m\u001b[0;36m0\u001b[0m\u001b[0;34m,\u001b[0m \u001b[0;36m32.5\u001b[0m\u001b[0;34m,\u001b[0m \u001b[0;34m-\u001b[0m\u001b[0;36m32.5\u001b[0m\u001b[0;34m]\u001b[0m\u001b[0;34m,\u001b[0m \u001b[0;36m0\u001b[0m\u001b[0;34m,\u001b[0m \u001b[0;34m[\u001b[0m\u001b[0;34m]\u001b[0m\u001b[0;34m]\u001b[0m\u001b[0;34m\u001b[0m\u001b[0;34m\u001b[0m\u001b[0m\n\u001b[1;32m      5\u001b[0m \u001b[0;31m#\u001b[0m\u001b[0;34m\u001b[0m\u001b[0;34m\u001b[0m\u001b[0m\n\u001b[0;32m----> 6\u001b[0;31m \u001b[0mnested_lists_2\u001b[0m \u001b[0;34m=\u001b[0m \u001b[0mnested_lists\u001b[0m\u001b[0;34m.\u001b[0m\u001b[0mreshape\u001b[0m\u001b[0;34m(\u001b[0m\u001b[0;34m)\u001b[0m\u001b[0;34m\u001b[0m\u001b[0;34m\u001b[0m\u001b[0m\n\u001b[0m\u001b[1;32m      7\u001b[0m \u001b[0;34m\u001b[0m\u001b[0m\n\u001b[1;32m      8\u001b[0m \u001b[0mnested_lists_2\u001b[0m\u001b[0;34m\u001b[0m\u001b[0;34m\u001b[0m\u001b[0m\n",
            "\u001b[0;31mAttributeError\u001b[0m: 'list' object has no attribute 'reshape'"
          ]
        }
      ]
    }
  ]
}