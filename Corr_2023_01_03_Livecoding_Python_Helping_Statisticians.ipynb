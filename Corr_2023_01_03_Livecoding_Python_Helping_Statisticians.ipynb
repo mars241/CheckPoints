{
  "nbformat": 4,
  "nbformat_minor": 0,
  "metadata": {
    "colab": {
      "provenance": [],
      "include_colab_link": true
    },
    "kernelspec": {
      "name": "python3",
      "display_name": "Python 3"
    }
  },
  "cells": [
    {
      "cell_type": "markdown",
      "metadata": {
        "id": "view-in-github",
        "colab_type": "text"
      },
      "source": [
        "<a href=\"https://colab.research.google.com/github/mars241/CheckPoints/blob/main/Corr_2023_01_03_Livecoding_Python_Helping_Statisticians.ipynb\" target=\"_parent\"><img src=\"https://colab.research.google.com/assets/colab-badge.svg\" alt=\"Open In Colab\"/></a>"
      ]
    },
    {
      "cell_type": "markdown",
      "metadata": {
        "id": "co2X9cGIieV0"
      },
      "source": [
        "# Help for statisticians!\n",
        "\n",
        "Your fellow statisticians need you. They want to learn how to program in Python and have tons of calculations to do.\n",
        "\n",
        "Very kindly, you agree to help them. Complete the missions below."
      ]
    },
    {
      "cell_type": "code",
      "metadata": {
        "id": "4rJVUEkNk5Oo"
      },
      "source": [
        "# Mission 2: Create a function that takes in 2 numbers as parameters, and returns a boolean indicating whether or not they are equal"
      ],
      "execution_count": null,
      "outputs": []
    },
    {
      "cell_type": "code",
      "source": [
        "# au premier return, la fonction s'arrête\n",
        "# le deuxième return équivaut à un else\n",
        "\n",
        "def is_equal(a, b):\n",
        "  if a == b:\n",
        "    return True\n",
        "  return False"
      ],
      "metadata": {
        "id": "NbXhChjmjc7p"
      },
      "execution_count": null,
      "outputs": []
    },
    {
      "cell_type": "code",
      "source": [
        "is_equal(4, 4)"
      ],
      "metadata": {
        "colab": {
          "base_uri": "https://localhost:8080/"
        },
        "id": "DdJP6OVfh_TV",
        "outputId": "60f3baf1-8d28-4125-a2f8-d8ed37087919"
      },
      "execution_count": null,
      "outputs": [
        {
          "output_type": "execute_result",
          "data": {
            "text/plain": [
              "True"
            ]
          },
          "metadata": {},
          "execution_count": 3
        }
      ]
    },
    {
      "cell_type": "code",
      "source": [
        "is_equal(4, \"4\")"
      ],
      "metadata": {
        "colab": {
          "base_uri": "https://localhost:8080/"
        },
        "id": "SdrY54JbiCoS",
        "outputId": "71dbe791-61eb-476e-9a16-0b29647ccdb8"
      },
      "execution_count": null,
      "outputs": [
        {
          "output_type": "execute_result",
          "data": {
            "text/plain": [
              "False"
            ]
          },
          "metadata": {},
          "execution_count": 4
        }
      ]
    },
    {
      "cell_type": "code",
      "source": [
        "is_equal(\"bonjour\", \"au revoir\")"
      ],
      "metadata": {
        "colab": {
          "base_uri": "https://localhost:8080/"
        },
        "id": "o4pSMQiOiEnH",
        "outputId": "228f9541-9388-4dd6-a281-55072415334a"
      },
      "execution_count": null,
      "outputs": [
        {
          "output_type": "execute_result",
          "data": {
            "text/plain": [
              "False"
            ]
          },
          "metadata": {},
          "execution_count": 5
        }
      ]
    },
    {
      "cell_type": "code",
      "source": [
        "# plus concis : une comparaison est toujours un booléen\n",
        "\n",
        "def is_equal_2(a, b):\n",
        "  return a == b"
      ],
      "metadata": {
        "id": "SUNvaF2XwFoC"
      },
      "execution_count": null,
      "outputs": []
    },
    {
      "cell_type": "code",
      "source": [
        "is_equal_2(3, 9)"
      ],
      "metadata": {
        "colab": {
          "base_uri": "https://localhost:8080/"
        },
        "id": "qeC8bRKfviIH",
        "outputId": "603f6ba4-a0da-42d5-b6af-c8b7584f3eeb"
      },
      "execution_count": null,
      "outputs": [
        {
          "output_type": "execute_result",
          "data": {
            "text/plain": [
              "False"
            ]
          },
          "metadata": {},
          "execution_count": 7
        }
      ]
    },
    {
      "cell_type": "code",
      "metadata": {
        "id": "Q9X4m3D4h-xu"
      },
      "source": [
        "# Mission 3: Create a function that takes a number as parameter, and returns the first 10 multiples of the number as a list\n",
        "# Example: 2 -> [2, 4, 6, 8, 10, 12, 14, 16, 18, 20]"
      ],
      "execution_count": null,
      "outputs": []
    },
    {
      "cell_type": "code",
      "source": [
        "# pour 10 multiples\n",
        "\n",
        "def first_ten_multiples(n):\n",
        "  multiples = []\n",
        "  for i in range(1, 11):\n",
        "    multiples.append(i * n)\n",
        "  return multiples"
      ],
      "metadata": {
        "id": "rCoELShLiObn"
      },
      "execution_count": null,
      "outputs": []
    },
    {
      "cell_type": "code",
      "source": [
        "first_ten_multiples(2)"
      ],
      "metadata": {
        "colab": {
          "base_uri": "https://localhost:8080/"
        },
        "id": "GiTrj-M3iURJ",
        "outputId": "3a0aeda6-ab5a-4dc0-c9b3-82d3abab22da"
      },
      "execution_count": null,
      "outputs": [
        {
          "output_type": "execute_result",
          "data": {
            "text/plain": [
              "[2, 4, 6, 8, 10, 12, 14, 16, 18, 20]"
            ]
          },
          "metadata": {},
          "execution_count": 10
        }
      ]
    },
    {
      "cell_type": "code",
      "source": [
        "# bonus : pour choisir le nb de multiples (fonction + souple)\n",
        "\n",
        "def first_multiples(n, nb_multiples):\n",
        "  multiples = []\n",
        "  for i in range(1, nb_multiples+1):\n",
        "    multiples.append(i * n)\n",
        "  return multiples"
      ],
      "metadata": {
        "id": "Bzhykb-KqKFj"
      },
      "execution_count": null,
      "outputs": []
    },
    {
      "cell_type": "code",
      "source": [
        "# les 13 premiers multiples de 2\n",
        "first_multiples(2, 13)"
      ],
      "metadata": {
        "colab": {
          "base_uri": "https://localhost:8080/"
        },
        "id": "wT3_8XWcw8rq",
        "outputId": "8d44364e-cea2-4761-b831-b24144b73191"
      },
      "execution_count": null,
      "outputs": [
        {
          "output_type": "execute_result",
          "data": {
            "text/plain": [
              "[2, 4, 6, 8, 10, 12, 14, 16, 18, 20, 22, 24, 26]"
            ]
          },
          "metadata": {},
          "execution_count": 12
        }
      ]
    },
    {
      "cell_type": "code",
      "metadata": {
        "id": "Fe9kZrvklI0b"
      },
      "source": [
        "# Mission 4: Create a function that takes a string as input, and return its vowels only, preserving case.\n",
        "# Example: \"Antidisestablishmentarianism\" -> \"Aiieaieaiai\"\n",
        "# Example: \"TO BE OR NOT TO BE\" -> \"OEOOOE\""
      ],
      "execution_count": null,
      "outputs": []
    },
    {
      "cell_type": "code",
      "source": [
        "def vowels_only(sentence):\n",
        "  vowels = \"aeiouy\"\n",
        "  sentence_vowels = \"\"\n",
        "  for char in sentence:\n",
        "    if char.lower() in vowels:      # si la version minuscule de la lettre est dans vowels\n",
        "      sentence_vowels += char\n",
        "  return sentence_vowels"
      ],
      "metadata": {
        "id": "HwK5OW3vqNSI"
      },
      "execution_count": null,
      "outputs": []
    },
    {
      "cell_type": "code",
      "source": [
        "vowels_only(\"TO BE OR NOT TO BE\")"
      ],
      "metadata": {
        "colab": {
          "base_uri": "https://localhost:8080/",
          "height": 35
        },
        "id": "jKqB4JQ80E3Z",
        "outputId": "1b2fc36f-be7e-4e0b-913c-e45a8bcb7f64"
      },
      "execution_count": null,
      "outputs": [
        {
          "output_type": "execute_result",
          "data": {
            "text/plain": [
              "'OEOOOE'"
            ],
            "application/vnd.google.colaboratory.intrinsic+json": {
              "type": "string"
            }
          },
          "metadata": {},
          "execution_count": 15
        }
      ]
    },
    {
      "cell_type": "code",
      "source": [
        "# on stocke le résultat de la fonction dans une variable\n",
        "result = vowels_only(\"Antidisestablishmentarianism\")\n",
        "result"
      ],
      "metadata": {
        "colab": {
          "base_uri": "https://localhost:8080/",
          "height": 35
        },
        "id": "l9YGA3zXzdCq",
        "outputId": "ea69de90-dceb-408b-c5fa-ff7490b13e96"
      },
      "execution_count": null,
      "outputs": [
        {
          "output_type": "execute_result",
          "data": {
            "text/plain": [
              "'Aiieaieaiai'"
            ],
            "application/vnd.google.colaboratory.intrinsic+json": {
              "type": "string"
            }
          },
          "metadata": {},
          "execution_count": 16
        }
      ]
    },
    {
      "cell_type": "code",
      "source": [
        "# on peut ensuite manipuler cette variable comme on veut\n",
        "result += \"rrrr\"\n",
        "result"
      ],
      "metadata": {
        "colab": {
          "base_uri": "https://localhost:8080/",
          "height": 35
        },
        "id": "ZI0TX97r0UQS",
        "outputId": "ce50f3b4-fb5e-4228-9c39-1ef806c02b16"
      },
      "execution_count": null,
      "outputs": [
        {
          "output_type": "execute_result",
          "data": {
            "text/plain": [
              "'Aiieaieaiairrrr'"
            ],
            "application/vnd.google.colaboratory.intrinsic+json": {
              "type": "string"
            }
          },
          "metadata": {},
          "execution_count": 17
        }
      ]
    },
    {
      "cell_type": "code",
      "source": [
        "# version interactive\n",
        "sentence = input(\"Entrez une phrase : \")\n",
        "vowels_only(sentence)"
      ],
      "metadata": {
        "colab": {
          "base_uri": "https://localhost:8080/",
          "height": 52
        },
        "id": "GBPaE7fV00DP",
        "outputId": "b9ff96ae-197a-4bf1-9a25-b73b5cc8857a"
      },
      "execution_count": null,
      "outputs": [
        {
          "name": "stdout",
          "output_type": "stream",
          "text": [
            "Entrez une phrase : Les chaussettes de l'archiduchesse, etc\n"
          ]
        },
        {
          "output_type": "execute_result",
          "data": {
            "text/plain": [
              "'eaueeeaiueee'"
            ],
            "application/vnd.google.colaboratory.intrinsic+json": {
              "type": "string"
            }
          },
          "metadata": {},
          "execution_count": 18
        }
      ]
    },
    {
      "cell_type": "code",
      "source": [
        "# Mission 9: Create a function that takes a day as a parameter and returns the next day (i.e. for Sunday it would return Monday).\n",
        "# You can use lists or dictionaries to solve this."
      ],
      "metadata": {
        "id": "91ZUWwn8jite"
      },
      "execution_count": null,
      "outputs": []
    },
    {
      "cell_type": "code",
      "source": [
        "# pour plus de souplesse, cette fonction prend 2 paramètres : un jour, et une liste contenant les jours de la semaine\n",
        "# elle est insensible à la casse\n",
        "\n",
        "def next_day(day, week):\n",
        "  day = day.lower()         # on remplace le jour entré par sa version en minuscule\n",
        "  if day in week:\n",
        "    if day == \"sunday\":\n",
        "      return \"Monday\"\n",
        "    day_index = week.index(day)\n",
        "    return week[day_index+1]"
      ],
      "metadata": {
        "id": "U-_-BIzx5KbO"
      },
      "execution_count": null,
      "outputs": []
    },
    {
      "cell_type": "code",
      "source": [
        "# mise en pratique interactive\n",
        "week = [\"monday\", \"tuesday\", \"wednesday\", \"thursday\", \"friday\", \"saturday\", \"sunday\"]\n",
        "day = \"\"\n",
        "\n",
        "while day not in week:\n",
        "  day = input(\"Please enter a day : \")\n",
        "  if day.lower() in week:\n",
        "    print(f\"The next day is : {next_day(day, week).title()}\")       # la méthode title() passe la première lettre en majuscule\n",
        "    break\n",
        "  else:\n",
        "    print(\"This is not a day of the week !\\n\")"
      ],
      "metadata": {
        "colab": {
          "base_uri": "https://localhost:8080/"
        },
        "id": "pogSK4b5F6w-",
        "outputId": "1cf3a90d-d5c8-4f16-f9f8-16843348a90b"
      },
      "execution_count": null,
      "outputs": [
        {
          "output_type": "stream",
          "name": "stdout",
          "text": [
            "Please enter a day : azerRty\n",
            "This is not a day of the week !\n",
            "\n",
            "Please enter a day : Fridayy\n",
            "This is not a day of the week !\n",
            "\n",
            "Please enter a day : thurSDay\n",
            "The next day is : Friday\n"
          ]
        }
      ]
    },
    {
      "cell_type": "code",
      "source": [
        "# Mission 11: Create a function that takes a string as a parameter, and returns the same string, where every other letter\n",
        "# is written in uppercase, unless it's a consonant.\n",
        "# Example: antithetical -> AntithEtIcAl\n",
        "# Example: marvelously -> marvElOuslY"
      ],
      "metadata": {
        "id": "vAoc-3nfjkEr"
      },
      "execution_count": null,
      "outputs": []
    },
    {
      "cell_type": "code",
      "source": [
        "# ATTENTION le code ci-dessous NE MARCHE PAS\n",
        "# la fonction .index() extrait seulement LA PREMIÈRE occurence de l'élément\n",
        "\n",
        "def abracadabra(sentence):\n",
        "  vowels = \"aeiouy\"\n",
        "  magic_sentence = \"\"\n",
        "\n",
        "  for char in sentence:\n",
        "    if sentence.index(char) % 2 == 0 and char in vowels:\n",
        "      magic_sentence += char.upper()\n",
        "    else:\n",
        "      magic_sentence += char\n",
        "\n",
        "  return magic_sentence"
      ],
      "metadata": {
        "id": "6lCDkEyIjkgr"
      },
      "execution_count": null,
      "outputs": []
    },
    {
      "cell_type": "code",
      "source": [
        "# la version correcte utilise la fonction enumerate pour extraire l'index EXACT de chaque lettre\n",
        "\n",
        "def abracadabra(sentence):\n",
        "  vowels = \"aeiouy\"\n",
        "  magic_sentence = \"\"\n",
        "\n",
        "  for i, char in enumerate(sentence):\n",
        "    if i % 2 == 0 and char in vowels:     # une lettre sur deux = uniquement les index pairs, donc divisibles par 2\n",
        "      magic_sentence += char.upper()\n",
        "    else:\n",
        "      magic_sentence += char\n",
        "\n",
        "  return magic_sentence"
      ],
      "metadata": {
        "id": "qx4Sl1NRjnCE"
      },
      "execution_count": null,
      "outputs": []
    },
    {
      "cell_type": "code",
      "source": [
        "abracadabra(\"antithetical\")"
      ],
      "metadata": {
        "colab": {
          "base_uri": "https://localhost:8080/",
          "height": 35
        },
        "id": "8rVnxDZ--oih",
        "outputId": "88dab02b-9f51-4105-9879-6edf7393feed"
      },
      "execution_count": null,
      "outputs": [
        {
          "output_type": "execute_result",
          "data": {
            "text/plain": [
              "'AntithEtIcAl'"
            ],
            "application/vnd.google.colaboratory.intrinsic+json": {
              "type": "string"
            }
          },
          "metadata": {},
          "execution_count": 25
        }
      ]
    },
    {
      "cell_type": "code",
      "source": [
        "abracadabra(\"marvelously\")"
      ],
      "metadata": {
        "colab": {
          "base_uri": "https://localhost:8080/",
          "height": 35
        },
        "id": "aKFA30iVj-7W",
        "outputId": "83e1c0c0-b6a3-42b5-87ac-2476fd303a2e"
      },
      "execution_count": null,
      "outputs": [
        {
          "output_type": "execute_result",
          "data": {
            "text/plain": [
              "'marvElOuslY'"
            ],
            "application/vnd.google.colaboratory.intrinsic+json": {
              "type": "string"
            }
          },
          "metadata": {},
          "execution_count": 26
        }
      ]
    }
  ]
}