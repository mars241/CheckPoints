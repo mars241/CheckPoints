{
  "cells": [
    {
      "cell_type": "markdown",
      "metadata": {
        "id": "view-in-github",
        "colab_type": "text"
      },
      "source": [
        "<a href=\"https://colab.research.google.com/github/mars241/CheckPoints/blob/main/Veille_Techno_Retours_PyConFr_2023.ipynb\" target=\"_parent\"><img src=\"https://colab.research.google.com/assets/colab-badge.svg\" alt=\"Open In Colab\"/></a>"
      ]
    },
    {
      "cell_type": "markdown",
      "metadata": {
        "id": "HGx-bJxWuMgD"
      },
      "source": [
        "# **[1. POLARS](https://www.pola.rs/)**"
      ]
    },
    {
      "cell_type": "markdown",
      "metadata": {
        "id": "Rn2zHqGEuMgK"
      },
      "source": [
        "Bibliothèque de **traitement de données** concurrente de Pandas :\n",
        "\n",
        "* beaucoup plus rapide que Pandas\n",
        "* traitement optimisé notamment grâce [au lazy mode](https://www.youtube.com/watch?v=5WzHc4Gb0f8)\n",
        "* méthodes de join intéressantes (cross join, semi join)\n",
        "* possibilité de convertir Polars en Pandas (et vice versa)\n",
        "\n",
        "**Prise en main : [article](https://towardsdatascience.com/getting-started-with-the-polars-dataframe-library-6f9e1c014c5c) ou [vidéo](https://www.youtube.com/watch?v=VHqn7ufiilE)**"
      ]
    },
    {
      "cell_type": "code",
      "execution_count": null,
      "metadata": {
        "id": "I9LHoArouMgL"
      },
      "outputs": [],
      "source": [
        "pip install polars"
      ]
    },
    {
      "cell_type": "code",
      "execution_count": null,
      "metadata": {
        "id": "_mqQD6HMuMgN"
      },
      "outputs": [],
      "source": [
        "import polars as pl"
      ]
    },
    {
      "cell_type": "code",
      "execution_count": null,
      "metadata": {
        "id": "P4LRdskmuMgN"
      },
      "outputs": [],
      "source": [
        "url = \"https://raw.githubusercontent.com/murpi/wilddata/master/quests/weather2019.csv\"\n",
        "df = pl.read_csv(url)\n",
        "df.head()"
      ]
    },
    {
      "cell_type": "code",
      "execution_count": null,
      "metadata": {
        "id": "jnQ1qDI3uMgO"
      },
      "outputs": [],
      "source": [
        "# Exemple de filtrage\n",
        "df.filter(pl.col('MAX_TEMPERATURE_C') >= 15)"
      ]
    },
    {
      "cell_type": "markdown",
      "metadata": {
        "id": "GH98pVMMuMgO"
      },
      "source": [
        "# **[2.DIRTY CAT](https://dirty-cat.github.io/stable/)**"
      ]
    },
    {
      "cell_type": "markdown",
      "metadata": {
        "id": "k-XHWGGIuMgP"
      },
      "source": [
        "Bibliothèque développée par l'INRIA (co-développeurs de SciKit Learn) qui applique divers **algorithmes de Machine Learning pour nettoyer de façon automatique des données catégorielles \"sales\"**(qui ont mal été saisies, par exemple).\n",
        "Une [démo de l'utilisation de l'algo *SimilarityEncoder*](https://towardsdatascience.com/similarity-encoding-for-dirty-categories-using-dirty-cat-d9f0b581a552) est disponible sur Towards Data Science."
      ]
    },
    {
      "cell_type": "markdown",
      "metadata": {
        "id": "mUuTObL4uMgQ"
      },
      "source": [
        "# **[3. DATAPANE](https://datapane.com/)**"
      ]
    },
    {
      "cell_type": "markdown",
      "metadata": {
        "id": "cN9P6z-ruMgQ"
      },
      "source": [
        "Bibliothèque qui sert à générer de **jolies applications web à partir de notebooks Jupyter.** Elles sont statiques pour l'instant, mais de l'interactivité (avec des _inputs_) est prévue dans les versions à venir => mises à jour à surveiller !"
      ]
    },
    {
      "cell_type": "code",
      "execution_count": null,
      "metadata": {
        "id": "ji3BPO6v9Nu1",
        "scrolled": false
      },
      "outputs": [],
      "source": [
        "pip install datapane"
      ]
    },
    {
      "cell_type": "code",
      "execution_count": null,
      "metadata": {
        "id": "UebOVfz79TJZ"
      },
      "outputs": [],
      "source": [
        "import datapane as dp\n",
        "import pandas as pd\n",
        "\n",
        "import altair as alt    # outil de dataviz\n",
        "from vega_datasets import data as vega_data    # pour télécharger un dataset"
      ]
    },
    {
      "cell_type": "code",
      "execution_count": null,
      "metadata": {
        "scrolled": true,
        "id": "rGDizElmuMgS"
      },
      "outputs": [],
      "source": [
        "dataset = vega_data.iris()\n",
        "df = pd.DataFrame(dataset)\n",
        "df.head()"
      ]
    },
    {
      "cell_type": "code",
      "execution_count": null,
      "metadata": {
        "id": "NKFYYXZ0-qnv",
        "scrolled": true
      },
      "outputs": [],
      "source": [
        "# Générer une DataTable interactive. Requêtes SQL possibles.\n",
        "dp.DataTable(df)"
      ]
    },
    {
      "cell_type": "code",
      "execution_count": null,
      "metadata": {
        "id": "7Q9zAauM_gop",
        "scrolled": false
      },
      "outputs": [],
      "source": [
        "# Afficher des indicateurs clés\n",
        "nb1 = dp.BigNumber(\n",
        "        heading=\"Percentage points\",\n",
        "        value=\"84%\",\n",
        "        change=\"2%\",\n",
        "        is_upward_change=True,\n",
        "    )\n",
        "nb2 = dp.BigNumber(\n",
        "        heading=\"Percentage points\",\n",
        "        value=\"63%\",\n",
        "        change=\"2%\",\n",
        "        is_upward_change=False,\n",
        "    )\n",
        "nb3 =  dp.BigNumber(\n",
        "        heading=\"Points\",\n",
        "        value=\"1234\",\n",
        "        change=\"200\",\n",
        "        is_upward_change=True,\n",
        "    )\n",
        "\n",
        "dp.Group(nb1, nb2, nb3, columns=3)"
      ]
    },
    {
      "cell_type": "code",
      "execution_count": null,
      "metadata": {
        "id": "9tDklmvo_6s3",
        "scrolled": true
      },
      "outputs": [],
      "source": [
        "# Intégrer une vidéo\n",
        "dp.Embed(url='https://www.youtube.com/watch?v=_KS_yZBI71s&t')"
      ]
    },
    {
      "cell_type": "code",
      "execution_count": null,
      "metadata": {
        "scrolled": true,
        "id": "7FVCXUU9uMgT"
      },
      "outputs": [],
      "source": [
        "pip install folium"
      ]
    },
    {
      "cell_type": "code",
      "execution_count": null,
      "metadata": {
        "id": "9QBW4C9MA4Os",
        "scrolled": false
      },
      "outputs": [],
      "source": [
        "# Générer une carte centrée sur les coordonnées indiquées\n",
        "import folium\n",
        "\n",
        "m = folium.Map(location=[45.74631, 4.82716])\n",
        "\n",
        "dp.Plot(m)"
      ]
    },
    {
      "cell_type": "code",
      "execution_count": null,
      "metadata": {
        "id": "_kdiRxX8BhA4"
      },
      "outputs": [],
      "source": [
        "# Générer un scatter plot avec Altair. Compatible aussi avec Plotly, Matplotlib/Seaborn, Bokeh.\n",
        "columns = list(dataset.columns)\n",
        "params = {\"x_axis\": \"sepalLength\", \"y_axis\": \"sepalWidth\", \"color\": \"species\"}\n",
        "\n",
        "fig = (\n",
        "        alt.Chart(dataset)\n",
        "        .mark_point()\n",
        "        .encode(\n",
        "            x=alt.X(params[\"x_axis\"], scale=alt.Scale(zero=False)),\n",
        "            y=alt.X(params[\"y_axis\"], scale=alt.Scale(zero=False)),\n",
        "            color=params[\"color\"],\n",
        "            tooltip=columns,\n",
        "        )\n",
        "    )\n",
        "\n",
        "dp.Plot(fig)"
      ]
    },
    {
      "cell_type": "code",
      "execution_count": null,
      "metadata": {
        "id": "E67dgbYYuMgU"
      },
      "outputs": [],
      "source": [
        "# Générer une application avec 4 onglets (\"blocks\")\n",
        "App = dp.Select(\n",
        "            blocks =[\n",
        "                dp.DataTable(df, label=\"Data\"),\n",
        "                dp.Plot(fig, label=\"Plot\"),\n",
        "                dp.Plot(m, label=\"Map\"),\n",
        "                dp.Embed(url='https://www.youtube.com/watch?v=_KS_yZBI71s&t', label=\"Video\")\n",
        "            ]\n",
        "        )"
      ]
    },
    {
      "cell_type": "code",
      "execution_count": null,
      "metadata": {
        "id": "QTqWzjghuMgV"
      },
      "outputs": [],
      "source": [
        "# Lancer l'application en local\n",
        "dp.serve_app(App)"
      ]
    }
  ],
  "metadata": {
    "colab": {
      "provenance": [],
      "include_colab_link": true
    },
    "kernelspec": {
      "display_name": "Python 3 (ipykernel)",
      "language": "python",
      "name": "python3"
    },
    "language_info": {
      "codemirror_mode": {
        "name": "ipython",
        "version": 3
      },
      "file_extension": ".py",
      "mimetype": "text/x-python",
      "name": "python",
      "nbconvert_exporter": "python",
      "pygments_lexer": "ipython3",
      "version": "3.10.6"
    }
  },
  "nbformat": 4,
  "nbformat_minor": 0
}