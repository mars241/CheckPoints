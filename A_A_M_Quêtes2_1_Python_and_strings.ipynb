{
  "nbformat": 4,
  "nbformat_minor": 0,
  "metadata": {
    "colab": {
      "provenance": [],
      "include_colab_link": true
    },
    "kernelspec": {
      "name": "python3",
      "display_name": "Python 3"
    }
  },
  "cells": [
    {
      "cell_type": "markdown",
      "metadata": {
        "id": "view-in-github",
        "colab_type": "text"
      },
      "source": [
        "<a href=\"https://colab.research.google.com/github/mars241/CheckPoints/blob/main/A_A_M_Qu%C3%AAtes2_1_Python_and_strings.ipynb\" target=\"_parent\"><img src=\"https://colab.research.google.com/assets/colab-badge.svg\" alt=\"Open In Colab\"/></a>"
      ]
    },
    {
      "cell_type": "markdown",
      "metadata": {
        "id": "wruMhTKTx-_T"
      },
      "source": [
        "# Mission 1\n",
        "\n",
        "Now, iterate on this string to count only non-space characters.\n",
        "TRAD:\n",
        "**Maintenant, itérez sur cette chaîne pour ne compter que les caractères non spatiaux.**\n",
        "\n",
        "Remember, using a `for` loop on a string will browse all the individual characters of it!\n",
        "TRAD:\n",
        "**N'oubliez pas que l'utilisation d'une boucle for sur une chaîne de caractères permet de parcourir tous les caractères individuels de celle-ci !**\n",
        "\n"
      ]
    },
    {
      "cell_type": "markdown",
      "source": [],
      "metadata": {
        "id": "bCLgYjx6j91L"
      }
    },
    {
      "cell_type": "code",
      "metadata": {
        "id": "oweHYwlm1EVo",
        "colab": {
          "base_uri": "https://localhost:8080/"
        },
        "outputId": "bea9e92c-34ac-4182-bdfc-56084c443072"
      },
      "source": [
        "s = \"Taumata whakatangihanga koauau o tamatea turi pukaka piki maungah oronuku pokai whenuaki tanatahu \"\n",
        "\n",
        "# compter les caratères non spéciaux:\n",
        "# len() est la longueur\n",
        "print(len(s))\n",
        "\n",
        "\n",
        "# Reslutat attendue: 98"
      ],
      "execution_count": null,
      "outputs": [
        {
          "output_type": "stream",
          "name": "stdout",
          "text": [
            "98\n"
          ]
        }
      ]
    },
    {
      "cell_type": "markdown",
      "source": [
        "Now, count only non-space characters and display how many there is.\n",
        "Remember, using a for loop on a string will browse all the individual characters of it!\n",
        "TRAD:\n",
        "**Maintenant, comptez uniquement les caractères sans espace et affichez-en le nombre. N'oubliez pas que l'utilisation d'une boucle for sur une chaîne de caractères permet de parcourir tous les caractères individuels de celle-ci !**"
      ],
      "metadata": {
        "id": "5dmVxxN_j4Dh"
      }
    },
    {
      "cell_type": "code",
      "metadata": {
        "id": "ze_3CDrJx9re",
        "colab": {
          "base_uri": "https://localhost:8080/"
        },
        "outputId": "c32ffef6-b906-452b-afde-d7fdacc088ac"
      },
      "source": [
        "s = \"Taumata whakatangihanga koauau o tamatea turi pukaka piki maungah oronuku pokai whenuaki tanatahu \"\n",
        "\n",
        "# compter les caratères dans le string \"s\" sans espaces\n",
        "\n",
        "s.count(' ')\n",
        "\n",
        "#Reslutat attendue:13\n"
      ],
      "execution_count": null,
      "outputs": [
        {
          "output_type": "execute_result",
          "data": {
            "text/plain": [
              "13"
            ]
          },
          "metadata": {},
          "execution_count": 3
        }
      ]
    },
    {
      "cell_type": "markdown",
      "metadata": {
        "id": "2BSzzT3_DDOK"
      },
      "source": [
        "# Mission 2\n",
        "\n",
        "Ask the user for a string, then for a character (we assume user input follows the rules). Then, display the positions, **starting with 1**, of all occurrences of the character within the string.\n",
        "\n",
        "For example, for the word \"welcome\" and for the character \"e\", the script will display:\n",
        "\n",
        "TRAD:\n",
        "**Demandez à l'utilisateur une chaîne de caractères, puis un caractère (nous supposons que la saisie de l'utilisateur respecte les règles). Ensuite, affichez les positions, en commençant par 1, de toutes les occurrences du caractère dans la chaîne.**\n",
        "\n",
        "```\n",
        "\n",
        "Par exemple, pour le mot \"welcome\" et pour le caractère \"e\", le script affichera :\n",
        "position: 2\n",
        "position: 7\n",
        "```"
      ]
    },
    {
      "cell_type": "code",
      "source": [
        "# l'utilisateur entre une chaîne de caractère:\n",
        "varchar = input(\"Entrez un mot SVP:\")\n",
        "print(varchar)\n",
        "\n",
        "# l'utilisateur entre un caractère:\n",
        "char = input(\"Entrez un caractère SVP:\")\n",
        "print(char)\n",
        "\n",
        "# Afficher les occurences/ repétitions de la lettre/du caractère dans la chaîne de charatère\n",
        "txt = varchar\n",
        "x=0\n",
        "x = txt.count(char)  # \"txt.count(x)\" definie le nombre d'occurence \"x\" dans le \"txt\"\n",
        "print('on a', x ,'fois', char, 'dans', varchar)\n",
        "\n"
      ],
      "metadata": {
        "colab": {
          "base_uri": "https://localhost:8080/"
        },
        "id": "UGSwSCmAGHTy",
        "outputId": "158a01b2-4dfa-4c62-ca78-78e321f3a4dc"
      },
      "execution_count": null,
      "outputs": [
        {
          "output_type": "stream",
          "name": "stdout",
          "text": [
            "Entrez un mot SVP:welcome\n",
            "welcome\n",
            "Entrez un caractère SVP:e\n",
            "e\n",
            "on a 2 fois e dans welcome\n"
          ]
        }
      ]
    },
    {
      "cell_type": "markdown",
      "metadata": {
        "id": "pLZi_mgzFvMP"
      },
      "source": [
        "# Mission 3\n",
        "\n",
        "Ask the user for a string, then for an integer. Then, display the string repeated as many times as the given integer.\n",
        "\n",
        "For example, `badger` and `4` will display `badgerbadgerbadgerbadger`\n",
        "\n",
        "TRAD:\n",
        "\n",
        "Demandez à l'utilisateur une chaîne de caractères, puis un nombre entier. Ensuite, affichez la chaîne répétée autant de fois que le nombre entier donné.\n",
        "\n",
        "Par exemple, badger et 4 afficheront badgerbadgerbadgerbadgerbadger"
      ]
    },
    {
      "cell_type": "code",
      "source": [
        "# l'utilisateur entre une chaîne de caractère:\n",
        "varchar = input(\"Entrez un mot SVP:\")\n",
        "print(varchar)\n",
        "\n",
        "# l'utilisateur entre un nombre entier:\n",
        "integer = int(input(\"Entrez un nombre entier SVP:\"))\n",
        "print(integer)\n",
        "\n",
        "print('On ittère',varchar, integer, 'fois, cela donne :', integer*varchar)\n",
        "\n",
        "# Autrement\n",
        "# Afficher l'index de chaque élément tout en le parcourant avec la fonction enumerate\n",
        "#for index, lettre in enumerate(\"badgerbadgerbadgerbadger\"):\n",
        "#    print(index, lettre)"
      ],
      "metadata": {
        "id": "CYWu-AM3OSRG",
        "colab": {
          "base_uri": "https://localhost:8080/"
        },
        "outputId": "bc7e69a1-a8bf-4f71-e99b-d2a038f0bf67"
      },
      "execution_count": null,
      "outputs": [
        {
          "output_type": "stream",
          "name": "stdout",
          "text": [
            "Entrez un mot SVP:oh\n",
            "oh\n",
            "Entrez un nombre entier SVP:3\n",
            "3\n",
            "On ittère oh 3 fois, cela donne : ohohoh\n"
          ]
        }
      ]
    },
    {
      "cell_type": "markdown",
      "metadata": {
        "id": "GCvpkWzXXPTf"
      },
      "source": [
        "# Mission 4\n",
        "\n",
        "Display the following string without including the spaces at the beginning and end. There's a `string` method that does exactly that, look at the documentation!\n",
        "\n",
        "TRAD:\n",
        "\n",
        "**Affichez la chaîne suivante sans inclure les espaces au début et à la fin. Il y a une méthode `string` qui fait exactement cela, regardez la documentation !**"
      ]
    },
    {
      "cell_type": "code",
      "metadata": {
        "id": "KZT8AIPF0ery",
        "colab": {
          "base_uri": "https://localhost:8080/"
        },
        "outputId": "35e4fe96-8674-4272-f40e-410b38cf8a3e"
      },
      "source": [
        "s = \"   Data Analyst  \"\n",
        "\n",
        "# Enveler les espaces superflux (en avant & en arrière) dans une phrase via la fct \"txt.strip()\"\n",
        "\n",
        "print(s.strip())\n",
        "\n",
        "# Resultat attendu:Data Analyst"
      ],
      "execution_count": null,
      "outputs": [
        {
          "output_type": "stream",
          "name": "stdout",
          "text": [
            "Data Analyst\n"
          ]
        }
      ]
    },
    {
      "cell_type": "markdown",
      "metadata": {
        "id": "geMLdrvAYHKx"
      },
      "source": [
        "# Mission 5\n",
        "\n",
        "Ask the user for a string, then for a character, then for another character.\n",
        "\n",
        "Then, display the first string where the occurences of the first character are replaced by the second one.\n",
        "\n",
        "TRAD:\n",
        "\n",
        "Demandez à l'utilisateur une chaîne de caractères, puis un caractère, puis un autre caractère.\n",
        "\n",
        "Ensuite, affichez la première chaîne où les occurrences du premier caractère sont remplacées par le second."
      ]
    },
    {
      "cell_type": "code",
      "source": [
        "# l'utilisateur entre une chaîne de caractère:\n",
        "varchar = input(\"Entrez un mot SVP:\")\n",
        "print(varchar)\n",
        "\n",
        "# l'utilisateur entre un caractère:\n",
        "char1 = input(\"Entrez un caractère contenue dans votre mot SVP:\")\n",
        "print(char1)\n",
        "\n",
        "# l'utilisateur entre un deuxieme caractère:\n",
        "char2 = input(\"Entrez un 2nd caractère quelconque SVP:\")\n",
        "print(char2)\n",
        "\n",
        "txt = varchar\n",
        "x=0\n",
        "x = txt.replace(char1,char2)  # \"txt.replace(x,y)\" remplace \"x\" par\"y\" dans le \"txt\"\n",
        "print('votre ancien mot',varchar,'devient', x , 'car votre 1er lettre', char1, 'a été remplacer par votre deuxième lettre',char2);\n"
      ],
      "metadata": {
        "id": "gGvK4X49OW0g",
        "colab": {
          "base_uri": "https://localhost:8080/"
        },
        "outputId": "88f5a060-d951-471d-c7ea-32443248f669"
      },
      "execution_count": null,
      "outputs": [
        {
          "output_type": "stream",
          "name": "stdout",
          "text": [
            "Entrez un mot SVP:Hello\n",
            "Hello\n",
            "Entrez un caractère contenue dans votre mot SVP:o\n",
            "o\n",
            "Entrez un 2nd caractère quelconque SVP:a\n",
            "a\n",
            "votre ancien mot Hello devient Hella car votre 1er lettre o a été remplacer par votre deuxième lettre a\n"
          ]
        }
      ]
    },
    {
      "cell_type": "markdown",
      "metadata": {
        "id": "V8ZS3aECXvuZ"
      },
      "source": [
        "# Mission 6\n",
        "\n",
        "Ask the user for a string. Then, display the same string with all vowels converted to uppercase, and all consonants converted to lowercase.\n",
        "\n",
        "TRAD:\n",
        "Demandez à l'utilisateur de saisir une chaîne de caractères. Ensuite, affichez la même chaîne avec toutes les voyelles converties en majuscules et toutes les consonnes converties en minuscules."
      ]
    },
    {
      "cell_type": "code",
      "source": [
        "# l'utilisateur entre une chaîne de caractère:\n",
        "varchar = input(\"Entrez une chaîne de caractère SVP:\")\n",
        "print(varchar)\n",
        "\n",
        "# Mettre toutes les voyelles en Majuscules (txt.upper()) et toutes les consonnes en minuscules (txt.lower())\n",
        "\n",
        "for x in range (len(varchar)) :\n",
        "  if (varchar[x] == 'a' or varchar[x] == 'e' or\n",
        "      varchar[x] == 'i' or varchar[x] == 'o' or\n",
        "      varchar[x] == 'u' or varchar[x] == 'y'):\n",
        "    print(varchar[x].upper())\n",
        "  else :\n",
        "    print(varchar[x].lower())\n",
        "print();\n",
        "\n",
        "#Code du comdiciple dont je me suis inspiré pour parcourir les voyelles:\n",
        "##str = input(\"tape une phrase: \")\n",
        "##str1 = \"\"\n",
        "##L = len(str)\n",
        "##for i in range(L):\n",
        "##  if (str[i] == 'a' or str[i] == 'e' or\n",
        "##      str[i] == 'i' or str[i] == 'o' or\n",
        "##      str[i] == 'u' or str[i] == 'y'):\n",
        "##    c = (str[i]).upper()\n",
        "##    str1 += c\n",
        "##  else:\n",
        "##    str1 += str[i] ##\n",
        "\n",
        "##print(str1)\n",
        "\n"
      ],
      "metadata": {
        "id": "w4s5g5nKOYPZ",
        "colab": {
          "base_uri": "https://localhost:8080/"
        },
        "outputId": "64a101fe-32ff-4acf-9baf-21d72c627c72"
      },
      "execution_count": null,
      "outputs": [
        {
          "output_type": "stream",
          "name": "stdout",
          "text": [
            "Entrez une chaîne de caractère SVP:hello world \n",
            "hello world \n",
            "h\n",
            "E\n",
            "l\n",
            "l\n",
            "O\n",
            " \n",
            "w\n",
            "O\n",
            "r\n",
            "l\n",
            "d\n",
            " \n",
            "\n"
          ]
        }
      ]
    },
    {
      "cell_type": "code",
      "source": [
        "#Autrement et mieux:\n",
        "# utiliser le mode/fct charactère :\n",
        "## \"varying(n)\" et \"character(n)\"\" où n est un entier positif. Ces deux types permettent de stocker des chaînes de caractères de taille inférieure ou égale à n ##\n",
        "# stocker les voyelles & les consoles dans 2 variables distincts\n",
        "# voyelles='a,e,i,o,u,y'# /!\\ voir si concerver les\",\"\n",
        "# consonnes='b, c, d, f, g, h, j, k, l, m, n, p, q, r, s, t, v, w, x, z' # /!\\ voir si concerver les\",\"\n",
        "# Faire une comparaison mot entré avec \"voyelles\"/\"consonnes\" et appliquer (txt.upper()) & (txt.lower()) selon\n",
        "\n"
      ],
      "metadata": {
        "id": "1ZyvW4vDy8J5"
      },
      "execution_count": null,
      "outputs": []
    }
  ]
}