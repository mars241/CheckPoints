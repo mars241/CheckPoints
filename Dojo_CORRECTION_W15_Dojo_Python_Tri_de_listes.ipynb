{
  "nbformat": 4,
  "nbformat_minor": 0,
  "metadata": {
    "colab": {
      "provenance": [],
      "include_colab_link": true
    },
    "kernelspec": {
      "name": "python3",
      "display_name": "Python 3"
    },
    "language_info": {
      "name": "python"
    }
  },
  "cells": [
    {
      "cell_type": "markdown",
      "metadata": {
        "id": "view-in-github",
        "colab_type": "text"
      },
      "source": [
        "<a href=\"https://colab.research.google.com/github/mars241/CheckPoints/blob/main/Dojo_CORRECTION_W15_Dojo_Python_Tri_de_listes.ipynb\" target=\"_parent\"><img src=\"https://colab.research.google.com/assets/colab-badge.svg\" alt=\"Open In Colab\"/></a>"
      ]
    },
    {
      "cell_type": "markdown",
      "source": [
        "### **Mission 1 : triez une liste SANS les fonctions *sort* / *sorted***"
      ],
      "metadata": {
        "id": "pLZloDswvxoE"
      }
    },
    {
      "cell_type": "code",
      "source": [
        "random_list = [5, 9, -175, 35.124/3, 6.84, 0, abs(-16), 0]"
      ],
      "metadata": {
        "id": "ae11BomFt_TS"
      },
      "execution_count": null,
      "outputs": []
    },
    {
      "cell_type": "code",
      "source": [
        "sorted_list = []\n",
        "\n",
        "for i in range(len(random_list)):\n",
        "  lowest = min(random_list)\n",
        "  sorted_list.append(lowest)\n",
        "  random_list.remove(lowest)\n",
        "\n",
        "sorted_list"
      ],
      "metadata": {
        "colab": {
          "base_uri": "https://localhost:8080/"
        },
        "id": "XBc3bEQnhII7",
        "outputId": "d4dd9ca0-cea8-4121-8515-fc9267e73b56"
      },
      "execution_count": null,
      "outputs": [
        {
          "output_type": "execute_result",
          "data": {
            "text/plain": [
              "[]"
            ]
          },
          "metadata": {},
          "execution_count": 52
        }
      ]
    },
    {
      "cell_type": "markdown",
      "source": [
        "### **Mission 2 : vous avez utilisé une boucle *for* ? Utilisez maintenant une boucle *while*... Et vice-versa !**"
      ],
      "metadata": {
        "id": "5-UuRmR0v0GK"
      }
    },
    {
      "cell_type": "code",
      "source": [
        "random_list = [5, 9, -175, 35.124/3, 6.84, 0, abs(-16), 0]"
      ],
      "metadata": {
        "id": "Br4mo1DEv3Cp"
      },
      "execution_count": null,
      "outputs": []
    },
    {
      "cell_type": "code",
      "source": [
        "sorted_list = []\n",
        "\n",
        "while len(random_list) > 0:\n",
        "  lowest = min(random_list)\n",
        "  sorted_list.append(lowest)\n",
        "  random_list.remove(lowest)\n",
        "\n",
        "sorted_list"
      ],
      "metadata": {
        "colab": {
          "base_uri": "https://localhost:8080/"
        },
        "id": "dV1elr0LijUO",
        "outputId": "321e228f-40cb-4dd5-dec0-50bfcb3ae621"
      },
      "execution_count": null,
      "outputs": [
        {
          "output_type": "execute_result",
          "data": {
            "text/plain": [
              "[-175, 0, 0, 5, 6.84, 9, 11.708, 16]"
            ]
          },
          "metadata": {},
          "execution_count": 25
        }
      ]
    },
    {
      "cell_type": "markdown",
      "source": [
        "### **Mission 3 : réécrivez votre code sous forme de fonction**"
      ],
      "metadata": {
        "id": "niQZY37rwkD2"
      }
    },
    {
      "cell_type": "code",
      "source": [
        "# Supprimez \"pass\" et écrivez votre fonction\n",
        "\n",
        "def sort_without_sort(random_list):\n",
        "  sorted_list = []\n",
        "\n",
        "  while len(random_list) > 0:\n",
        "    lowest = min(random_list)\n",
        "    sorted_list.append(lowest)\n",
        "    random_list.remove(lowest)\n",
        "\n",
        "  return sorted_list"
      ],
      "metadata": {
        "id": "bu_D-hp2wl86"
      },
      "execution_count": null,
      "outputs": []
    },
    {
      "cell_type": "code",
      "source": [
        "random_list = [5, 9, -175, 35.124/3, 6.84, 0, abs(-16), 0]"
      ],
      "metadata": {
        "id": "NTLV1pGUxdEL"
      },
      "execution_count": null,
      "outputs": []
    },
    {
      "cell_type": "code",
      "source": [
        "sort_without_sort(random_list)"
      ],
      "metadata": {
        "colab": {
          "base_uri": "https://localhost:8080/"
        },
        "id": "O0mYQ2BejHry",
        "outputId": "dd263dfe-43ff-454e-c9bd-362a80fe568b"
      },
      "execution_count": null,
      "outputs": [
        {
          "output_type": "execute_result",
          "data": {
            "text/plain": [
              "[-175, 0, 0, 5, 6.84, 9, 11.708, 16]"
            ]
          },
          "metadata": {},
          "execution_count": 28
        }
      ]
    },
    {
      "cell_type": "markdown",
      "source": [
        "### **Mission 4 : quand certains nombres... ne sont pas des nombres !**"
      ],
      "metadata": {
        "id": "ZDX5zyUzw2A-"
      }
    },
    {
      "cell_type": "code",
      "source": [
        "# Réécrivez votre fonction de manière à ce qu'elle\n",
        "# fonctionne avec la liste suivante :\n",
        "\n",
        "mixed_list = [5, 9, -175, True, 6.84, 5//4, 0, \"12\", abs(-16)]"
      ],
      "metadata": {
        "id": "rarIHtiQ3Xt1"
      },
      "execution_count": null,
      "outputs": []
    },
    {
      "cell_type": "code",
      "source": [
        "normal_list = [float(i) for i in mixed_list]\n",
        "normal_list"
      ],
      "metadata": {
        "colab": {
          "base_uri": "https://localhost:8080/"
        },
        "id": "I1SILYTYjNS8",
        "outputId": "94b644c0-6b6e-4c2c-ff3f-30380a739eec"
      },
      "execution_count": null,
      "outputs": [
        {
          "output_type": "execute_result",
          "data": {
            "text/plain": [
              "[5.0, 9.0, -175.0, 1.0, 6.84, 1.0, 0.0, 12.0, 16.0]"
            ]
          },
          "metadata": {},
          "execution_count": 29
        }
      ]
    },
    {
      "cell_type": "code",
      "source": [
        "def sort_without_sort(mixed_list):\n",
        "  normal_list = [float(i) for i in mixed_list]\n",
        "  sorted_list = []\n",
        "\n",
        "  while len(normal_list) > 0:\n",
        "    lowest = min(normal_list)\n",
        "    sorted_list.append(lowest)\n",
        "    normal_list.remove(lowest)\n",
        "\n",
        "  return sorted_list"
      ],
      "metadata": {
        "id": "PXh38Xgmj68q"
      },
      "execution_count": null,
      "outputs": []
    },
    {
      "cell_type": "code",
      "source": [
        "sort_without_sort(mixed_list)"
      ],
      "metadata": {
        "colab": {
          "base_uri": "https://localhost:8080/"
        },
        "id": "qALvKAX5kJrd",
        "outputId": "18b49e97-4afe-4800-c7c4-e9e60842ab13"
      },
      "execution_count": null,
      "outputs": [
        {
          "output_type": "execute_result",
          "data": {
            "text/plain": [
              "[-175.0, 0.0, 1.0, 1.0, 5.0, 6.84, 9.0, 12.0, 16.0]"
            ]
          },
          "metadata": {},
          "execution_count": 34
        }
      ]
    },
    {
      "cell_type": "markdown",
      "source": [
        "### **Mission 5 : avec des nombres binaires**"
      ],
      "metadata": {
        "id": "bIkjkivK7ItC"
      }
    },
    {
      "cell_type": "code",
      "source": [
        "binary_list = ['00010001', '0', '11111', '10']"
      ],
      "metadata": {
        "id": "lEjjWaKy7IXf"
      },
      "execution_count": null,
      "outputs": []
    },
    {
      "cell_type": "code",
      "source": [
        "def sort_without_sort(binary_list):\n",
        "  normal_list = [int(i, 2) for i in binary_list]\n",
        "  sorted_list = []\n",
        "\n",
        "  while len(normal_list) > 0:\n",
        "    lowest = min(normal_list)\n",
        "    sorted_list.append(lowest)\n",
        "    normal_list.remove(lowest)\n",
        "\n",
        "  return sorted_list"
      ],
      "metadata": {
        "id": "FIaw2EYHlDZv"
      },
      "execution_count": null,
      "outputs": []
    },
    {
      "cell_type": "code",
      "source": [
        "sort_without_sort(binary_list)"
      ],
      "metadata": {
        "colab": {
          "base_uri": "https://localhost:8080/"
        },
        "id": "6iwa4PZwlJOm",
        "outputId": "84253188-66cc-4b3b-ecd5-c228afe3b2fa"
      },
      "execution_count": null,
      "outputs": [
        {
          "output_type": "execute_result",
          "data": {
            "text/plain": [
              "[0, 2, 17, 31]"
            ]
          },
          "metadata": {},
          "execution_count": 38
        }
      ]
    },
    {
      "cell_type": "markdown",
      "source": [
        "### **Mission 6 : et avec une liste de listes... ?**\n"
      ],
      "metadata": {
        "id": "5n6rH0HZw3UF"
      }
    },
    {
      "cell_type": "code",
      "source": [
        "# Réécrivez votre fonction de manière à ce qu'elle\n",
        "# fonctionne avec la liste suivante :\n",
        "\n",
        "nested_lists = [3, [6, -15], [0, 32.5, -32.5], 0, []]"
      ],
      "metadata": {
        "id": "AfzVR8Y3yg4b"
      },
      "execution_count": null,
      "outputs": []
    },
    {
      "cell_type": "code",
      "source": [
        "def sort_without_sort(nested_lists):\n",
        "  normal_list = []\n",
        "\n",
        "  for item in nested_lists:\n",
        "    if type(item) == list:\n",
        "      for i in item:\n",
        "        normal_list.append(i)\n",
        "    else:\n",
        "      normal_list.append(item)\n",
        "\n",
        "  sorted_list = []\n",
        "\n",
        "  while len(normal_list) > 0:\n",
        "    lowest = min(normal_list)\n",
        "    sorted_list.append(lowest)\n",
        "    normal_list.remove(lowest)\n",
        "\n",
        "  return sorted_list"
      ],
      "metadata": {
        "id": "w2yAA5yrmJza"
      },
      "execution_count": null,
      "outputs": []
    },
    {
      "cell_type": "code",
      "source": [
        "sort_without_sort(nested_lists)"
      ],
      "metadata": {
        "colab": {
          "base_uri": "https://localhost:8080/"
        },
        "id": "TeTC13T8mooF",
        "outputId": "38d8dc64-eba8-4576-fbbf-b6708881e387"
      },
      "execution_count": null,
      "outputs": [
        {
          "output_type": "execute_result",
          "data": {
            "text/plain": [
              "[-32.5, -15, 0, 0, 3, 6, 32.5]"
            ]
          },
          "metadata": {},
          "execution_count": 43
        }
      ]
    },
    {
      "cell_type": "code",
      "source": [
        "a = [6, -15, 100]\n",
        "b = [0, 32.5, -32.5]"
      ],
      "metadata": {
        "id": "bVpxg0sHnjiy"
      },
      "execution_count": null,
      "outputs": []
    },
    {
      "cell_type": "code",
      "source": [
        "a > b"
      ],
      "metadata": {
        "colab": {
          "base_uri": "https://localhost:8080/"
        },
        "id": "svPPB744noR6",
        "outputId": "780bad28-4115-4706-9a6d-2d5296f9f903"
      },
      "execution_count": null,
      "outputs": [
        {
          "output_type": "execute_result",
          "data": {
            "text/plain": [
              "True"
            ]
          },
          "metadata": {},
          "execution_count": 51
        }
      ]
    }
  ]
}